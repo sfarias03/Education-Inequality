{
  "nbformat": 4,
  "nbformat_minor": 0,
  "metadata": {
    "colab": {
      "provenance": [],
      "include_colab_link": true
    },
    "kernelspec": {
      "name": "python3",
      "display_name": "Python 3"
    },
    "language_info": {
      "name": "python"
    }
  },
  "cells": [
    {
      "cell_type": "markdown",
      "metadata": {
        "id": "view-in-github",
        "colab_type": "text"
      },
      "source": [
        "<a href=\"https://colab.research.google.com/github/sfarias03/Education-Inequality/blob/main/SF_Education_Inequality_Data_Preparation.ipynb\" target=\"_parent\"><img src=\"https://colab.research.google.com/assets/colab-badge.svg\" alt=\"Open In Colab\"/></a>"
      ]
    },
    {
      "cell_type": "markdown",
      "source": [
        "## Introduction"
      ],
      "metadata": {
        "id": "cOSJyABoshOK"
      }
    },
    {
      "cell_type": "markdown",
      "source": [
        "This research project aims to address unequal access to education in American high schools by analyzing the performance of students in the ACT or SAT examinations. We will utilize the EdGap dataset from EdGap.org, which contains 2016 data on the average ACT or SAT scores of schools and socio-economic indicators of school districts, and supplement it with information from the National Center for Education Statistics. Through the use of Python and data visualization tools, we aim to uncover the factors contributing to unequal educational outcomes."
      ],
      "metadata": {
        "id": "26hIPGtBsi7g"
      }
    },
    {
      "cell_type": "markdown",
      "source": [
        "## Import libraries"
      ],
      "metadata": {
        "id": "dwvtDMCYlPus"
      }
    },
    {
      "cell_type": "code",
      "execution_count": 1,
      "metadata": {
        "id": "DQZAzYri_ru5"
      },
      "outputs": [],
      "source": [
        "import pandas as pd\n",
        "import numpy as np\n",
        "import matplotlib.pyplot as plt\n",
        "import seaborn as sns\n",
        "sns.set_theme(style='whitegrid')\n",
        "import missingno as msno\n",
        "\n",
        "# Train-test splits\n",
        "from sklearn.model_selection import train_test_split\n",
        "\n",
        "# Model preprocessing\n",
        "from sklearn.preprocessing import StandardScaler\n",
        "\n",
        "# Imputation\n",
        "from sklearn.experimental import enable_iterative_imputer\n",
        "from sklearn.impute import SimpleImputer, IterativeImputer, KNNImputer\n",
        "\n",
        "\n",
        "# Model preprocessing\n",
        "from sklearn import preprocessing\n",
        "from sklearn.preprocessing import PolynomialFeatures\n",
        "from sklearn.preprocessing import StandardScaler\n",
        "\n",
        "# Train-test splits\n",
        "from sklearn.model_selection import train_test_split, cross_val_score, GridSearchCV, KFold, RandomizedSearchCV\n",
        "\n",
        "# Models\n",
        "from sklearn import linear_model\n",
        "\n",
        "\n",
        "# Model metrics and analysis\n",
        "from sklearn.metrics import r2_score, mean_squared_error, mean_absolute_error"
      ]
    },
    {
      "cell_type": "markdown",
      "source": [
        "### EdGap data"
      ],
      "metadata": {
        "id": "HUbdlXjMchi-"
      }
    },
    {
      "cell_type": "markdown",
      "source": [
        "\n",
        "The Census Bureau's American Community Survey provides all socio-economic data, including household income, unemployment, adult educational attainment, and family structure. [EdGap.org](https://www.edgap.org/#5/37.875/-96.987) reports that ACT and SAT score data is sourced from each state's department of education or another public data release. Although the nature of the other public data release is unknown, the quality of the census data and department of education data is assumed to be reasonably high. While [EdGap.org](https://www.edgap.org/#5/37.875/-96.987) does not indicate any processing of the data, there is a possibility of human error since the data was assembled by the [EdGap.org](https://www.edgap.org/#5/37.875/-96.987) team. However, given the public nature of the data, original data sources can be consulted to verify the data's quality if necessary."
      ],
      "metadata": {
        "id": "JhRr1Z9Bcis6"
      }
    },
    {
      "cell_type": "markdown",
      "source": [
        "### School information data"
      ],
      "metadata": {
        "id": "6ahKtePYcbEZ"
      }
    },
    {
      "cell_type": "markdown",
      "source": [
        "[National Center for Education Statistics](https://nces.ed.gov/ccd/pubschuniv.asp) is the source of the school information data, which contains basic identifying information about schools and is assumed to be of reasonably high quality. \n"
      ],
      "metadata": {
        "id": "y7K1km9Tcdy3"
      }
    },
    {
      "cell_type": "markdown",
      "source": [
        "## Load the data"
      ],
      "metadata": {
        "id": "5qccuG8vy7Ja"
      }
    },
    {
      "cell_type": "code",
      "source": [
        "edgap = pd.read_excel('https://raw.githubusercontent.com/brian-fischer/DATA-3320/main/education/EdGap_data.xlsx')"
      ],
      "metadata": {
        "id": "iClV9MZBiY0r",
        "outputId": "de5a9c4f-be27-4392-bef3-ee8c61d34635",
        "colab": {
          "base_uri": "https://localhost:8080/"
        }
      },
      "execution_count": 2,
      "outputs": [
        {
          "output_type": "stream",
          "name": "stderr",
          "text": [
            "/usr/local/lib/python3.10/dist-packages/openpyxl/worksheet/_reader.py:312: UserWarning: Unknown extension is not supported and will be removed\n",
            "  warn(msg)\n"
          ]
        }
      ]
    },
    {
      "cell_type": "code",
      "source": [
        "!wget https://www.dropbox.com/s/lkl5nvcdmwyoban/ccd_sch_029_1617_w_1a_11212017.csv?dl=0"
      ],
      "metadata": {
        "id": "4koKUuw4doCI",
        "outputId": "09ff3c3b-b18b-4353-fdeb-7447c225bfd7",
        "colab": {
          "base_uri": "https://localhost:8080/"
        }
      },
      "execution_count": 3,
      "outputs": [
        {
          "output_type": "stream",
          "name": "stdout",
          "text": [
            "--2023-04-28 21:32:19--  https://www.dropbox.com/s/lkl5nvcdmwyoban/ccd_sch_029_1617_w_1a_11212017.csv?dl=0\n",
            "Resolving www.dropbox.com (www.dropbox.com)... 162.125.5.18, 2620:100:601d:18::a27d:512\n",
            "Connecting to www.dropbox.com (www.dropbox.com)|162.125.5.18|:443... connected.\n",
            "HTTP request sent, awaiting response... 302 Found\n",
            "Location: /s/raw/lkl5nvcdmwyoban/ccd_sch_029_1617_w_1a_11212017.csv [following]\n",
            "--2023-04-28 21:32:20--  https://www.dropbox.com/s/raw/lkl5nvcdmwyoban/ccd_sch_029_1617_w_1a_11212017.csv\n",
            "Reusing existing connection to www.dropbox.com:443.\n",
            "HTTP request sent, awaiting response... 302 Found\n",
            "Location: https://uc8c3f1d79b2e558bcdaadea6a4c.dl.dropboxusercontent.com/cd/0/inline/B7B6MNd0JFbWLsSuLD1BMi2EISh821DizneftaToS-ihwIqZDWWW2p1Jx4KoXqTn7-VbRJFBw20L58OrC3z6TnJhk0w6Xr3F4IJIcW4mxlWd8R0rN8Yatd3Lge0c8tDjWqdZjIFZU8TcJojlPchaJ5va_orTLOzdfLnDw7fDNdu7gg/file# [following]\n",
            "--2023-04-28 21:32:20--  https://uc8c3f1d79b2e558bcdaadea6a4c.dl.dropboxusercontent.com/cd/0/inline/B7B6MNd0JFbWLsSuLD1BMi2EISh821DizneftaToS-ihwIqZDWWW2p1Jx4KoXqTn7-VbRJFBw20L58OrC3z6TnJhk0w6Xr3F4IJIcW4mxlWd8R0rN8Yatd3Lge0c8tDjWqdZjIFZU8TcJojlPchaJ5va_orTLOzdfLnDw7fDNdu7gg/file\n",
            "Resolving uc8c3f1d79b2e558bcdaadea6a4c.dl.dropboxusercontent.com (uc8c3f1d79b2e558bcdaadea6a4c.dl.dropboxusercontent.com)... 162.125.2.15, 2620:100:601d:15::a27d:50f\n",
            "Connecting to uc8c3f1d79b2e558bcdaadea6a4c.dl.dropboxusercontent.com (uc8c3f1d79b2e558bcdaadea6a4c.dl.dropboxusercontent.com)|162.125.2.15|:443... connected.\n",
            "HTTP request sent, awaiting response... 200 OK\n",
            "Length: 40477083 (39M) [text/plain]\n",
            "Saving to: ‘ccd_sch_029_1617_w_1a_11212017.csv?dl=0’\n",
            "\n",
            "ccd_sch_029_1617_w_ 100%[===================>]  38.60M  29.7MB/s    in 1.3s    \n",
            "\n",
            "2023-04-28 21:32:22 (29.7 MB/s) - ‘ccd_sch_029_1617_w_1a_11212017.csv?dl=0’ saved [40477083/40477083]\n",
            "\n"
          ]
        }
      ]
    },
    {
      "cell_type": "code",
      "source": [
        "school_info = pd.read_csv('ccd_sch_029_1617_w_1a_11212017.csv?dl=0', encoding='unicode_escape')"
      ],
      "metadata": {
        "id": "baD6nLnsdrmj",
        "outputId": "f3bc9103-4a75-4cd1-ccc0-a24a1cdbe349",
        "colab": {
          "base_uri": "https://localhost:8080/"
        }
      },
      "execution_count": 4,
      "outputs": [
        {
          "output_type": "stream",
          "name": "stderr",
          "text": [
            "<ipython-input-4-da1a7837c049>:1: DtypeWarning: Columns (6,9,14,15,18,19,21,22,25,26,29,31,35,39,41,42) have mixed types. Specify dtype option on import or set low_memory=False.\n",
            "  school_info = pd.read_csv('ccd_sch_029_1617_w_1a_11212017.csv?dl=0', encoding='unicode_escape')\n"
          ]
        }
      ]
    },
    {
      "cell_type": "markdown",
      "source": [
        "## Explore the contents of the data sets"
      ],
      "metadata": {
        "id": "OHVSgzXFd4nf"
      }
    },
    {
      "cell_type": "code",
      "source": [
        "edgap.head()"
      ],
      "metadata": {
        "id": "yMwJZ43VZRQv",
        "outputId": "3ad3be76-6ed4-4a7e-9730-865f627cac5d",
        "colab": {
          "base_uri": "https://localhost:8080/",
          "height": 282
        }
      },
      "execution_count": 5,
      "outputs": [
        {
          "output_type": "execute_result",
          "data": {
            "text/plain": [
              "   NCESSCH School ID  CT Unemployment Rate  CT Pct Adults with College Degree  \\\n",
              "0       100001600143              0.117962                           0.445283   \n",
              "1       100008000024              0.063984                           0.662765   \n",
              "2       100008000225              0.056460                           0.701864   \n",
              "3       100017000029              0.044739                           0.692062   \n",
              "4       100018000040              0.077014                           0.640060   \n",
              "\n",
              "   CT Pct Childre In Married Couple Family  CT Median Household Income  \\\n",
              "0                                 0.346495                     42820.0   \n",
              "1                                 0.767619                     89320.0   \n",
              "2                                 0.713090                     84140.0   \n",
              "3                                 0.641283                     56500.0   \n",
              "4                                 0.834402                     54015.0   \n",
              "\n",
              "   School ACT average (or equivalent if SAT score)  \\\n",
              "0                                        20.433455   \n",
              "1                                        19.498168   \n",
              "2                                        19.554335   \n",
              "3                                        17.737485   \n",
              "4                                        18.245421   \n",
              "\n",
              "   School Pct Free and Reduced Lunch  \n",
              "0                           0.066901  \n",
              "1                           0.112412  \n",
              "2                           0.096816  \n",
              "3                           0.296960  \n",
              "4                           0.262641  "
            ],
            "text/html": [
              "\n",
              "  <div id=\"df-e0e8815b-ea4a-42d0-b443-05694dc7a21f\">\n",
              "    <div class=\"colab-df-container\">\n",
              "      <div>\n",
              "<style scoped>\n",
              "    .dataframe tbody tr th:only-of-type {\n",
              "        vertical-align: middle;\n",
              "    }\n",
              "\n",
              "    .dataframe tbody tr th {\n",
              "        vertical-align: top;\n",
              "    }\n",
              "\n",
              "    .dataframe thead th {\n",
              "        text-align: right;\n",
              "    }\n",
              "</style>\n",
              "<table border=\"1\" class=\"dataframe\">\n",
              "  <thead>\n",
              "    <tr style=\"text-align: right;\">\n",
              "      <th></th>\n",
              "      <th>NCESSCH School ID</th>\n",
              "      <th>CT Unemployment Rate</th>\n",
              "      <th>CT Pct Adults with College Degree</th>\n",
              "      <th>CT Pct Childre In Married Couple Family</th>\n",
              "      <th>CT Median Household Income</th>\n",
              "      <th>School ACT average (or equivalent if SAT score)</th>\n",
              "      <th>School Pct Free and Reduced Lunch</th>\n",
              "    </tr>\n",
              "  </thead>\n",
              "  <tbody>\n",
              "    <tr>\n",
              "      <th>0</th>\n",
              "      <td>100001600143</td>\n",
              "      <td>0.117962</td>\n",
              "      <td>0.445283</td>\n",
              "      <td>0.346495</td>\n",
              "      <td>42820.0</td>\n",
              "      <td>20.433455</td>\n",
              "      <td>0.066901</td>\n",
              "    </tr>\n",
              "    <tr>\n",
              "      <th>1</th>\n",
              "      <td>100008000024</td>\n",
              "      <td>0.063984</td>\n",
              "      <td>0.662765</td>\n",
              "      <td>0.767619</td>\n",
              "      <td>89320.0</td>\n",
              "      <td>19.498168</td>\n",
              "      <td>0.112412</td>\n",
              "    </tr>\n",
              "    <tr>\n",
              "      <th>2</th>\n",
              "      <td>100008000225</td>\n",
              "      <td>0.056460</td>\n",
              "      <td>0.701864</td>\n",
              "      <td>0.713090</td>\n",
              "      <td>84140.0</td>\n",
              "      <td>19.554335</td>\n",
              "      <td>0.096816</td>\n",
              "    </tr>\n",
              "    <tr>\n",
              "      <th>3</th>\n",
              "      <td>100017000029</td>\n",
              "      <td>0.044739</td>\n",
              "      <td>0.692062</td>\n",
              "      <td>0.641283</td>\n",
              "      <td>56500.0</td>\n",
              "      <td>17.737485</td>\n",
              "      <td>0.296960</td>\n",
              "    </tr>\n",
              "    <tr>\n",
              "      <th>4</th>\n",
              "      <td>100018000040</td>\n",
              "      <td>0.077014</td>\n",
              "      <td>0.640060</td>\n",
              "      <td>0.834402</td>\n",
              "      <td>54015.0</td>\n",
              "      <td>18.245421</td>\n",
              "      <td>0.262641</td>\n",
              "    </tr>\n",
              "  </tbody>\n",
              "</table>\n",
              "</div>\n",
              "      <button class=\"colab-df-convert\" onclick=\"convertToInteractive('df-e0e8815b-ea4a-42d0-b443-05694dc7a21f')\"\n",
              "              title=\"Convert this dataframe to an interactive table.\"\n",
              "              style=\"display:none;\">\n",
              "        \n",
              "  <svg xmlns=\"http://www.w3.org/2000/svg\" height=\"24px\"viewBox=\"0 0 24 24\"\n",
              "       width=\"24px\">\n",
              "    <path d=\"M0 0h24v24H0V0z\" fill=\"none\"/>\n",
              "    <path d=\"M18.56 5.44l.94 2.06.94-2.06 2.06-.94-2.06-.94-.94-2.06-.94 2.06-2.06.94zm-11 1L8.5 8.5l.94-2.06 2.06-.94-2.06-.94L8.5 2.5l-.94 2.06-2.06.94zm10 10l.94 2.06.94-2.06 2.06-.94-2.06-.94-.94-2.06-.94 2.06-2.06.94z\"/><path d=\"M17.41 7.96l-1.37-1.37c-.4-.4-.92-.59-1.43-.59-.52 0-1.04.2-1.43.59L10.3 9.45l-7.72 7.72c-.78.78-.78 2.05 0 2.83L4 21.41c.39.39.9.59 1.41.59.51 0 1.02-.2 1.41-.59l7.78-7.78 2.81-2.81c.8-.78.8-2.07 0-2.86zM5.41 20L4 18.59l7.72-7.72 1.47 1.35L5.41 20z\"/>\n",
              "  </svg>\n",
              "      </button>\n",
              "      \n",
              "  <style>\n",
              "    .colab-df-container {\n",
              "      display:flex;\n",
              "      flex-wrap:wrap;\n",
              "      gap: 12px;\n",
              "    }\n",
              "\n",
              "    .colab-df-convert {\n",
              "      background-color: #E8F0FE;\n",
              "      border: none;\n",
              "      border-radius: 50%;\n",
              "      cursor: pointer;\n",
              "      display: none;\n",
              "      fill: #1967D2;\n",
              "      height: 32px;\n",
              "      padding: 0 0 0 0;\n",
              "      width: 32px;\n",
              "    }\n",
              "\n",
              "    .colab-df-convert:hover {\n",
              "      background-color: #E2EBFA;\n",
              "      box-shadow: 0px 1px 2px rgba(60, 64, 67, 0.3), 0px 1px 3px 1px rgba(60, 64, 67, 0.15);\n",
              "      fill: #174EA6;\n",
              "    }\n",
              "\n",
              "    [theme=dark] .colab-df-convert {\n",
              "      background-color: #3B4455;\n",
              "      fill: #D2E3FC;\n",
              "    }\n",
              "\n",
              "    [theme=dark] .colab-df-convert:hover {\n",
              "      background-color: #434B5C;\n",
              "      box-shadow: 0px 1px 3px 1px rgba(0, 0, 0, 0.15);\n",
              "      filter: drop-shadow(0px 1px 2px rgba(0, 0, 0, 0.3));\n",
              "      fill: #FFFFFF;\n",
              "    }\n",
              "  </style>\n",
              "\n",
              "      <script>\n",
              "        const buttonEl =\n",
              "          document.querySelector('#df-e0e8815b-ea4a-42d0-b443-05694dc7a21f button.colab-df-convert');\n",
              "        buttonEl.style.display =\n",
              "          google.colab.kernel.accessAllowed ? 'block' : 'none';\n",
              "\n",
              "        async function convertToInteractive(key) {\n",
              "          const element = document.querySelector('#df-e0e8815b-ea4a-42d0-b443-05694dc7a21f');\n",
              "          const dataTable =\n",
              "            await google.colab.kernel.invokeFunction('convertToInteractive',\n",
              "                                                     [key], {});\n",
              "          if (!dataTable) return;\n",
              "\n",
              "          const docLinkHtml = 'Like what you see? Visit the ' +\n",
              "            '<a target=\"_blank\" href=https://colab.research.google.com/notebooks/data_table.ipynb>data table notebook</a>'\n",
              "            + ' to learn more about interactive tables.';\n",
              "          element.innerHTML = '';\n",
              "          dataTable['output_type'] = 'display_data';\n",
              "          await google.colab.output.renderOutput(dataTable, element);\n",
              "          const docLink = document.createElement('div');\n",
              "          docLink.innerHTML = docLinkHtml;\n",
              "          element.appendChild(docLink);\n",
              "        }\n",
              "      </script>\n",
              "    </div>\n",
              "  </div>\n",
              "  "
            ]
          },
          "metadata": {},
          "execution_count": 5
        }
      ]
    },
    {
      "cell_type": "code",
      "source": [
        "school_info.head()"
      ],
      "metadata": {
        "id": "iBUK1gkVZTTn",
        "outputId": "10c51e5a-3c13-4974-9b61-64284b98fb65",
        "colab": {
          "base_uri": "https://localhost:8080/",
          "height": 518
        }
      },
      "execution_count": 6,
      "outputs": [
        {
          "output_type": "execute_result",
          "data": {
            "text/plain": [
              "  SCHOOL_YEAR  FIPST STATENAME  ST                          SCH_NAME  \\\n",
              "0   2016-2017      1   ALABAMA  AL  Sequoyah Sch - Chalkville Campus   \n",
              "1   2016-2017      1   ALABAMA  AL                             Camps   \n",
              "2   2016-2017      1   ALABAMA  AL                           Det Ctr   \n",
              "3   2016-2017      1   ALABAMA  AL     Wallace Sch - Mt Meigs Campus   \n",
              "4   2016-2017      1   ALABAMA  AL         McNeel Sch - Vacca Campus   \n",
              "\n",
              "                 LEA_NAME STATE_AGENCY_NO  UNION ST_LEAID   LEAID  ...  \\\n",
              "0  Alabama Youth Services               1    NaN   AL-210  100002  ...   \n",
              "1  Alabama Youth Services               1    NaN   AL-210  100002  ...   \n",
              "2  Alabama Youth Services               1    NaN   AL-210  100002  ...   \n",
              "3  Alabama Youth Services               1    NaN   AL-210  100002  ...   \n",
              "4  Alabama Youth Services               1    NaN   AL-210  100002  ...   \n",
              "\n",
              "  G_10_OFFERED  G_11_OFFERED  G_12_OFFERED G_13_OFFERED G_UG_OFFERED  \\\n",
              "0          Yes           Yes           Yes           No           No   \n",
              "1          Yes           Yes           Yes           No           No   \n",
              "2          Yes           Yes           Yes           No           No   \n",
              "3          Yes           Yes           Yes           No           No   \n",
              "4          Yes           Yes           Yes           No           No   \n",
              "\n",
              "  G_AE_OFFERED GSLO GSHI LEVEL    IGOFFERED  \n",
              "0           No   07   12  High  As reported  \n",
              "1           No   07   12  High  As reported  \n",
              "2           No   07   12  High  As reported  \n",
              "3           No   07   12  High  As reported  \n",
              "4           No   07   12  High  As reported  \n",
              "\n",
              "[5 rows x 65 columns]"
            ],
            "text/html": [
              "\n",
              "  <div id=\"df-4327ba2a-e034-4022-9dea-e4965440ea53\">\n",
              "    <div class=\"colab-df-container\">\n",
              "      <div>\n",
              "<style scoped>\n",
              "    .dataframe tbody tr th:only-of-type {\n",
              "        vertical-align: middle;\n",
              "    }\n",
              "\n",
              "    .dataframe tbody tr th {\n",
              "        vertical-align: top;\n",
              "    }\n",
              "\n",
              "    .dataframe thead th {\n",
              "        text-align: right;\n",
              "    }\n",
              "</style>\n",
              "<table border=\"1\" class=\"dataframe\">\n",
              "  <thead>\n",
              "    <tr style=\"text-align: right;\">\n",
              "      <th></th>\n",
              "      <th>SCHOOL_YEAR</th>\n",
              "      <th>FIPST</th>\n",
              "      <th>STATENAME</th>\n",
              "      <th>ST</th>\n",
              "      <th>SCH_NAME</th>\n",
              "      <th>LEA_NAME</th>\n",
              "      <th>STATE_AGENCY_NO</th>\n",
              "      <th>UNION</th>\n",
              "      <th>ST_LEAID</th>\n",
              "      <th>LEAID</th>\n",
              "      <th>...</th>\n",
              "      <th>G_10_OFFERED</th>\n",
              "      <th>G_11_OFFERED</th>\n",
              "      <th>G_12_OFFERED</th>\n",
              "      <th>G_13_OFFERED</th>\n",
              "      <th>G_UG_OFFERED</th>\n",
              "      <th>G_AE_OFFERED</th>\n",
              "      <th>GSLO</th>\n",
              "      <th>GSHI</th>\n",
              "      <th>LEVEL</th>\n",
              "      <th>IGOFFERED</th>\n",
              "    </tr>\n",
              "  </thead>\n",
              "  <tbody>\n",
              "    <tr>\n",
              "      <th>0</th>\n",
              "      <td>2016-2017</td>\n",
              "      <td>1</td>\n",
              "      <td>ALABAMA</td>\n",
              "      <td>AL</td>\n",
              "      <td>Sequoyah Sch - Chalkville Campus</td>\n",
              "      <td>Alabama Youth Services</td>\n",
              "      <td>1</td>\n",
              "      <td>NaN</td>\n",
              "      <td>AL-210</td>\n",
              "      <td>100002</td>\n",
              "      <td>...</td>\n",
              "      <td>Yes</td>\n",
              "      <td>Yes</td>\n",
              "      <td>Yes</td>\n",
              "      <td>No</td>\n",
              "      <td>No</td>\n",
              "      <td>No</td>\n",
              "      <td>07</td>\n",
              "      <td>12</td>\n",
              "      <td>High</td>\n",
              "      <td>As reported</td>\n",
              "    </tr>\n",
              "    <tr>\n",
              "      <th>1</th>\n",
              "      <td>2016-2017</td>\n",
              "      <td>1</td>\n",
              "      <td>ALABAMA</td>\n",
              "      <td>AL</td>\n",
              "      <td>Camps</td>\n",
              "      <td>Alabama Youth Services</td>\n",
              "      <td>1</td>\n",
              "      <td>NaN</td>\n",
              "      <td>AL-210</td>\n",
              "      <td>100002</td>\n",
              "      <td>...</td>\n",
              "      <td>Yes</td>\n",
              "      <td>Yes</td>\n",
              "      <td>Yes</td>\n",
              "      <td>No</td>\n",
              "      <td>No</td>\n",
              "      <td>No</td>\n",
              "      <td>07</td>\n",
              "      <td>12</td>\n",
              "      <td>High</td>\n",
              "      <td>As reported</td>\n",
              "    </tr>\n",
              "    <tr>\n",
              "      <th>2</th>\n",
              "      <td>2016-2017</td>\n",
              "      <td>1</td>\n",
              "      <td>ALABAMA</td>\n",
              "      <td>AL</td>\n",
              "      <td>Det Ctr</td>\n",
              "      <td>Alabama Youth Services</td>\n",
              "      <td>1</td>\n",
              "      <td>NaN</td>\n",
              "      <td>AL-210</td>\n",
              "      <td>100002</td>\n",
              "      <td>...</td>\n",
              "      <td>Yes</td>\n",
              "      <td>Yes</td>\n",
              "      <td>Yes</td>\n",
              "      <td>No</td>\n",
              "      <td>No</td>\n",
              "      <td>No</td>\n",
              "      <td>07</td>\n",
              "      <td>12</td>\n",
              "      <td>High</td>\n",
              "      <td>As reported</td>\n",
              "    </tr>\n",
              "    <tr>\n",
              "      <th>3</th>\n",
              "      <td>2016-2017</td>\n",
              "      <td>1</td>\n",
              "      <td>ALABAMA</td>\n",
              "      <td>AL</td>\n",
              "      <td>Wallace Sch - Mt Meigs Campus</td>\n",
              "      <td>Alabama Youth Services</td>\n",
              "      <td>1</td>\n",
              "      <td>NaN</td>\n",
              "      <td>AL-210</td>\n",
              "      <td>100002</td>\n",
              "      <td>...</td>\n",
              "      <td>Yes</td>\n",
              "      <td>Yes</td>\n",
              "      <td>Yes</td>\n",
              "      <td>No</td>\n",
              "      <td>No</td>\n",
              "      <td>No</td>\n",
              "      <td>07</td>\n",
              "      <td>12</td>\n",
              "      <td>High</td>\n",
              "      <td>As reported</td>\n",
              "    </tr>\n",
              "    <tr>\n",
              "      <th>4</th>\n",
              "      <td>2016-2017</td>\n",
              "      <td>1</td>\n",
              "      <td>ALABAMA</td>\n",
              "      <td>AL</td>\n",
              "      <td>McNeel Sch - Vacca Campus</td>\n",
              "      <td>Alabama Youth Services</td>\n",
              "      <td>1</td>\n",
              "      <td>NaN</td>\n",
              "      <td>AL-210</td>\n",
              "      <td>100002</td>\n",
              "      <td>...</td>\n",
              "      <td>Yes</td>\n",
              "      <td>Yes</td>\n",
              "      <td>Yes</td>\n",
              "      <td>No</td>\n",
              "      <td>No</td>\n",
              "      <td>No</td>\n",
              "      <td>07</td>\n",
              "      <td>12</td>\n",
              "      <td>High</td>\n",
              "      <td>As reported</td>\n",
              "    </tr>\n",
              "  </tbody>\n",
              "</table>\n",
              "<p>5 rows × 65 columns</p>\n",
              "</div>\n",
              "      <button class=\"colab-df-convert\" onclick=\"convertToInteractive('df-4327ba2a-e034-4022-9dea-e4965440ea53')\"\n",
              "              title=\"Convert this dataframe to an interactive table.\"\n",
              "              style=\"display:none;\">\n",
              "        \n",
              "  <svg xmlns=\"http://www.w3.org/2000/svg\" height=\"24px\"viewBox=\"0 0 24 24\"\n",
              "       width=\"24px\">\n",
              "    <path d=\"M0 0h24v24H0V0z\" fill=\"none\"/>\n",
              "    <path d=\"M18.56 5.44l.94 2.06.94-2.06 2.06-.94-2.06-.94-.94-2.06-.94 2.06-2.06.94zm-11 1L8.5 8.5l.94-2.06 2.06-.94-2.06-.94L8.5 2.5l-.94 2.06-2.06.94zm10 10l.94 2.06.94-2.06 2.06-.94-2.06-.94-.94-2.06-.94 2.06-2.06.94z\"/><path d=\"M17.41 7.96l-1.37-1.37c-.4-.4-.92-.59-1.43-.59-.52 0-1.04.2-1.43.59L10.3 9.45l-7.72 7.72c-.78.78-.78 2.05 0 2.83L4 21.41c.39.39.9.59 1.41.59.51 0 1.02-.2 1.41-.59l7.78-7.78 2.81-2.81c.8-.78.8-2.07 0-2.86zM5.41 20L4 18.59l7.72-7.72 1.47 1.35L5.41 20z\"/>\n",
              "  </svg>\n",
              "      </button>\n",
              "      \n",
              "  <style>\n",
              "    .colab-df-container {\n",
              "      display:flex;\n",
              "      flex-wrap:wrap;\n",
              "      gap: 12px;\n",
              "    }\n",
              "\n",
              "    .colab-df-convert {\n",
              "      background-color: #E8F0FE;\n",
              "      border: none;\n",
              "      border-radius: 50%;\n",
              "      cursor: pointer;\n",
              "      display: none;\n",
              "      fill: #1967D2;\n",
              "      height: 32px;\n",
              "      padding: 0 0 0 0;\n",
              "      width: 32px;\n",
              "    }\n",
              "\n",
              "    .colab-df-convert:hover {\n",
              "      background-color: #E2EBFA;\n",
              "      box-shadow: 0px 1px 2px rgba(60, 64, 67, 0.3), 0px 1px 3px 1px rgba(60, 64, 67, 0.15);\n",
              "      fill: #174EA6;\n",
              "    }\n",
              "\n",
              "    [theme=dark] .colab-df-convert {\n",
              "      background-color: #3B4455;\n",
              "      fill: #D2E3FC;\n",
              "    }\n",
              "\n",
              "    [theme=dark] .colab-df-convert:hover {\n",
              "      background-color: #434B5C;\n",
              "      box-shadow: 0px 1px 3px 1px rgba(0, 0, 0, 0.15);\n",
              "      filter: drop-shadow(0px 1px 2px rgba(0, 0, 0, 0.3));\n",
              "      fill: #FFFFFF;\n",
              "    }\n",
              "  </style>\n",
              "\n",
              "      <script>\n",
              "        const buttonEl =\n",
              "          document.querySelector('#df-4327ba2a-e034-4022-9dea-e4965440ea53 button.colab-df-convert');\n",
              "        buttonEl.style.display =\n",
              "          google.colab.kernel.accessAllowed ? 'block' : 'none';\n",
              "\n",
              "        async function convertToInteractive(key) {\n",
              "          const element = document.querySelector('#df-4327ba2a-e034-4022-9dea-e4965440ea53');\n",
              "          const dataTable =\n",
              "            await google.colab.kernel.invokeFunction('convertToInteractive',\n",
              "                                                     [key], {});\n",
              "          if (!dataTable) return;\n",
              "\n",
              "          const docLinkHtml = 'Like what you see? Visit the ' +\n",
              "            '<a target=\"_blank\" href=https://colab.research.google.com/notebooks/data_table.ipynb>data table notebook</a>'\n",
              "            + ' to learn more about interactive tables.';\n",
              "          element.innerHTML = '';\n",
              "          dataTable['output_type'] = 'display_data';\n",
              "          await google.colab.output.renderOutput(dataTable, element);\n",
              "          const docLink = document.createElement('div');\n",
              "          docLink.innerHTML = docLinkHtml;\n",
              "          element.appendChild(docLink);\n",
              "        }\n",
              "      </script>\n",
              "    </div>\n",
              "  </div>\n",
              "  "
            ]
          },
          "metadata": {},
          "execution_count": 6
        }
      ]
    },
    {
      "cell_type": "markdown",
      "source": [
        "## Convert data types, if necessary"
      ],
      "metadata": {
        "id": "kTG4W94-irIA"
      }
    },
    {
      "cell_type": "markdown",
      "source": [
        "As we plan for the next step, we aim to merge the DataFrames using the school's identity as the key, identified by the NCESSCH school identity. However, the two DataFrames refer to this identity by different names and formats, with the EdGap data set using int64 and the school information data set using float64. To address this, we will convert the NCESSCH column in the school_info DataFrame to int64. It is important to note that we will need to drop rows where NCESSCH is a NaN value before performing the conversion."
      ],
      "metadata": {
        "id": "yXwfMwEsqYMH"
      }
    },
    {
      "cell_type": "code",
      "source": [
        "school_info = school_info[school_info['NCESSCH'].isna() == False]"
      ],
      "metadata": {
        "id": "-ZhYbN5oqoSp"
      },
      "execution_count": 7,
      "outputs": []
    },
    {
      "cell_type": "code",
      "source": [
        "school_info['NCESSCH'] = school_info['NCESSCH'].astype('int64')"
      ],
      "metadata": {
        "id": "jTP5Fl97ep7k"
      },
      "execution_count": 8,
      "outputs": []
    },
    {
      "cell_type": "markdown",
      "source": [
        "Following this, we will proceed to select specific portions of the data that are relevant to our analysis."
      ],
      "metadata": {
        "id": "gzmpKBTUq_DB"
      }
    },
    {
      "cell_type": "markdown",
      "source": [
        "## Select relevant subsets of the data"
      ],
      "metadata": {
        "id": "HbsdH56_ijIS"
      }
    },
    {
      "cell_type": "markdown",
      "source": [
        "Since the school information data set contains a lot of information. We only need the year, school identity, location, and school type information.\n",
        "\n"
      ],
      "metadata": {
        "id": "pkgfwkedip-C"
      }
    },
    {
      "cell_type": "code",
      "source": [
        "school_info = school_info[['SCHOOL_YEAR', 'NCESSCH', 'MSTATE', 'MZIP', 'SCH_TYPE_TEXT', 'LEVEL']]"
      ],
      "metadata": {
        "id": "k6gPjysCiVu7"
      },
      "execution_count": 9,
      "outputs": []
    },
    {
      "cell_type": "markdown",
      "source": [
        "## Rename columns"
      ],
      "metadata": {
        "id": "3wvK6vF-85aX"
      }
    },
    {
      "cell_type": "code",
      "source": [
        "edgap = edgap.rename(columns={\"NCESSCH School ID\":\"id\", \n",
        "              \"CT Pct Adults with College Degree\":\"percent_college\",        \n",
        "              \"CT Unemployment Rate\":\"rate_unemployment\", \n",
        "              \"CT Pct Childre In Married Couple Family\":\"percent_married\",\n",
        "              \"CT Median Household Income\":\"median_income\",\n",
        "              \"School ACT average (or equivalent if SAT score)\":\"average_act\",\n",
        "              \"School Pct Free and Reduced Lunch\":\"percent_lunch\"})"
      ],
      "metadata": {
        "id": "OXpbbI-v9QSY"
      },
      "execution_count": 10,
      "outputs": []
    },
    {
      "cell_type": "code",
      "source": [
        "school_info = school_info.rename(columns={'SCHOOL_YEAR':'year', \n",
        "                                          'NCESSCH':'id', \n",
        "                                          'MSTATE':'state',\n",
        "                                          'MZIP':'zip_code',\n",
        "                                          'SCH_TYPE_TEXT':'school_type',\n",
        "                                          'LEVEL':'school_level'})"
      ],
      "metadata": {
        "id": "m1Z4ZDeLGbuq"
      },
      "execution_count": 11,
      "outputs": []
    },
    {
      "cell_type": "markdown",
      "source": [
        "## Join data frames "
      ],
      "metadata": {
        "id": "BkCnFJdVryvv"
      }
    },
    {
      "cell_type": "code",
      "source": [
        "df = edgap.merge(school_info, how = 'left', on='id')"
      ],
      "metadata": {
        "id": "krg0NaeEFeR2"
      },
      "execution_count": 12,
      "outputs": []
    },
    {
      "cell_type": "markdown",
      "source": [
        "## Quality Control"
      ],
      "metadata": {
        "id": "OgPjzVV5jbI9"
      }
    },
    {
      "cell_type": "markdown",
      "source": [
        "Next we will check for out-of-range values or values that do not match what we want to analyze. "
      ],
      "metadata": {
        "id": "tJqkbbiNjgxZ"
      }
    },
    {
      "cell_type": "code",
      "source": [
        "df.describe()"
      ],
      "metadata": {
        "colab": {
          "base_uri": "https://localhost:8080/",
          "height": 297
        },
        "id": "gH1FO-2mFUlo",
        "outputId": "c9eeda09-bbc9-4199-f229-27c18ff79fee"
      },
      "execution_count": 13,
      "outputs": [
        {
          "output_type": "execute_result",
          "data": {
            "text/plain": [
              "                 id  rate_unemployment  percent_college  percent_married  \\\n",
              "count  7.986000e+03        7972.000000      7973.000000      7961.000000   \n",
              "mean   3.321869e+11           0.098730         0.568930         0.633440   \n",
              "std    1.323638e+11           0.058959         0.165704         0.196764   \n",
              "min    1.000016e+11           0.000000         0.091493         0.000000   \n",
              "25%    2.105340e+11           0.058655         0.450828         0.523810   \n",
              "50%    3.600085e+11           0.085649         0.554979         0.667594   \n",
              "75%    4.226678e+11           0.123376         0.676571         0.777135   \n",
              "max    5.605830e+11           0.590278         1.000000         1.000000   \n",
              "\n",
              "       median_income  average_act  percent_lunch  \n",
              "count    7966.000000  7986.000000    7986.000000  \n",
              "mean    52026.905222    20.181532       0.420651  \n",
              "std     24228.057079     2.595201       0.239754  \n",
              "min      3589.000000    -3.070818      -0.054545  \n",
              "25%     36597.250000    18.600000       0.238501  \n",
              "50%     46833.500000    20.400000       0.381570  \n",
              "75%     61369.250000    21.910867       0.575447  \n",
              "max    226181.000000    32.362637       0.998729  "
            ],
            "text/html": [
              "\n",
              "  <div id=\"df-0189303b-afad-411d-a872-e06819d33a64\">\n",
              "    <div class=\"colab-df-container\">\n",
              "      <div>\n",
              "<style scoped>\n",
              "    .dataframe tbody tr th:only-of-type {\n",
              "        vertical-align: middle;\n",
              "    }\n",
              "\n",
              "    .dataframe tbody tr th {\n",
              "        vertical-align: top;\n",
              "    }\n",
              "\n",
              "    .dataframe thead th {\n",
              "        text-align: right;\n",
              "    }\n",
              "</style>\n",
              "<table border=\"1\" class=\"dataframe\">\n",
              "  <thead>\n",
              "    <tr style=\"text-align: right;\">\n",
              "      <th></th>\n",
              "      <th>id</th>\n",
              "      <th>rate_unemployment</th>\n",
              "      <th>percent_college</th>\n",
              "      <th>percent_married</th>\n",
              "      <th>median_income</th>\n",
              "      <th>average_act</th>\n",
              "      <th>percent_lunch</th>\n",
              "    </tr>\n",
              "  </thead>\n",
              "  <tbody>\n",
              "    <tr>\n",
              "      <th>count</th>\n",
              "      <td>7.986000e+03</td>\n",
              "      <td>7972.000000</td>\n",
              "      <td>7973.000000</td>\n",
              "      <td>7961.000000</td>\n",
              "      <td>7966.000000</td>\n",
              "      <td>7986.000000</td>\n",
              "      <td>7986.000000</td>\n",
              "    </tr>\n",
              "    <tr>\n",
              "      <th>mean</th>\n",
              "      <td>3.321869e+11</td>\n",
              "      <td>0.098730</td>\n",
              "      <td>0.568930</td>\n",
              "      <td>0.633440</td>\n",
              "      <td>52026.905222</td>\n",
              "      <td>20.181532</td>\n",
              "      <td>0.420651</td>\n",
              "    </tr>\n",
              "    <tr>\n",
              "      <th>std</th>\n",
              "      <td>1.323638e+11</td>\n",
              "      <td>0.058959</td>\n",
              "      <td>0.165704</td>\n",
              "      <td>0.196764</td>\n",
              "      <td>24228.057079</td>\n",
              "      <td>2.595201</td>\n",
              "      <td>0.239754</td>\n",
              "    </tr>\n",
              "    <tr>\n",
              "      <th>min</th>\n",
              "      <td>1.000016e+11</td>\n",
              "      <td>0.000000</td>\n",
              "      <td>0.091493</td>\n",
              "      <td>0.000000</td>\n",
              "      <td>3589.000000</td>\n",
              "      <td>-3.070818</td>\n",
              "      <td>-0.054545</td>\n",
              "    </tr>\n",
              "    <tr>\n",
              "      <th>25%</th>\n",
              "      <td>2.105340e+11</td>\n",
              "      <td>0.058655</td>\n",
              "      <td>0.450828</td>\n",
              "      <td>0.523810</td>\n",
              "      <td>36597.250000</td>\n",
              "      <td>18.600000</td>\n",
              "      <td>0.238501</td>\n",
              "    </tr>\n",
              "    <tr>\n",
              "      <th>50%</th>\n",
              "      <td>3.600085e+11</td>\n",
              "      <td>0.085649</td>\n",
              "      <td>0.554979</td>\n",
              "      <td>0.667594</td>\n",
              "      <td>46833.500000</td>\n",
              "      <td>20.400000</td>\n",
              "      <td>0.381570</td>\n",
              "    </tr>\n",
              "    <tr>\n",
              "      <th>75%</th>\n",
              "      <td>4.226678e+11</td>\n",
              "      <td>0.123376</td>\n",
              "      <td>0.676571</td>\n",
              "      <td>0.777135</td>\n",
              "      <td>61369.250000</td>\n",
              "      <td>21.910867</td>\n",
              "      <td>0.575447</td>\n",
              "    </tr>\n",
              "    <tr>\n",
              "      <th>max</th>\n",
              "      <td>5.605830e+11</td>\n",
              "      <td>0.590278</td>\n",
              "      <td>1.000000</td>\n",
              "      <td>1.000000</td>\n",
              "      <td>226181.000000</td>\n",
              "      <td>32.362637</td>\n",
              "      <td>0.998729</td>\n",
              "    </tr>\n",
              "  </tbody>\n",
              "</table>\n",
              "</div>\n",
              "      <button class=\"colab-df-convert\" onclick=\"convertToInteractive('df-0189303b-afad-411d-a872-e06819d33a64')\"\n",
              "              title=\"Convert this dataframe to an interactive table.\"\n",
              "              style=\"display:none;\">\n",
              "        \n",
              "  <svg xmlns=\"http://www.w3.org/2000/svg\" height=\"24px\"viewBox=\"0 0 24 24\"\n",
              "       width=\"24px\">\n",
              "    <path d=\"M0 0h24v24H0V0z\" fill=\"none\"/>\n",
              "    <path d=\"M18.56 5.44l.94 2.06.94-2.06 2.06-.94-2.06-.94-.94-2.06-.94 2.06-2.06.94zm-11 1L8.5 8.5l.94-2.06 2.06-.94-2.06-.94L8.5 2.5l-.94 2.06-2.06.94zm10 10l.94 2.06.94-2.06 2.06-.94-2.06-.94-.94-2.06-.94 2.06-2.06.94z\"/><path d=\"M17.41 7.96l-1.37-1.37c-.4-.4-.92-.59-1.43-.59-.52 0-1.04.2-1.43.59L10.3 9.45l-7.72 7.72c-.78.78-.78 2.05 0 2.83L4 21.41c.39.39.9.59 1.41.59.51 0 1.02-.2 1.41-.59l7.78-7.78 2.81-2.81c.8-.78.8-2.07 0-2.86zM5.41 20L4 18.59l7.72-7.72 1.47 1.35L5.41 20z\"/>\n",
              "  </svg>\n",
              "      </button>\n",
              "      \n",
              "  <style>\n",
              "    .colab-df-container {\n",
              "      display:flex;\n",
              "      flex-wrap:wrap;\n",
              "      gap: 12px;\n",
              "    }\n",
              "\n",
              "    .colab-df-convert {\n",
              "      background-color: #E8F0FE;\n",
              "      border: none;\n",
              "      border-radius: 50%;\n",
              "      cursor: pointer;\n",
              "      display: none;\n",
              "      fill: #1967D2;\n",
              "      height: 32px;\n",
              "      padding: 0 0 0 0;\n",
              "      width: 32px;\n",
              "    }\n",
              "\n",
              "    .colab-df-convert:hover {\n",
              "      background-color: #E2EBFA;\n",
              "      box-shadow: 0px 1px 2px rgba(60, 64, 67, 0.3), 0px 1px 3px 1px rgba(60, 64, 67, 0.15);\n",
              "      fill: #174EA6;\n",
              "    }\n",
              "\n",
              "    [theme=dark] .colab-df-convert {\n",
              "      background-color: #3B4455;\n",
              "      fill: #D2E3FC;\n",
              "    }\n",
              "\n",
              "    [theme=dark] .colab-df-convert:hover {\n",
              "      background-color: #434B5C;\n",
              "      box-shadow: 0px 1px 3px 1px rgba(0, 0, 0, 0.15);\n",
              "      filter: drop-shadow(0px 1px 2px rgba(0, 0, 0, 0.3));\n",
              "      fill: #FFFFFF;\n",
              "    }\n",
              "  </style>\n",
              "\n",
              "      <script>\n",
              "        const buttonEl =\n",
              "          document.querySelector('#df-0189303b-afad-411d-a872-e06819d33a64 button.colab-df-convert');\n",
              "        buttonEl.style.display =\n",
              "          google.colab.kernel.accessAllowed ? 'block' : 'none';\n",
              "\n",
              "        async function convertToInteractive(key) {\n",
              "          const element = document.querySelector('#df-0189303b-afad-411d-a872-e06819d33a64');\n",
              "          const dataTable =\n",
              "            await google.colab.kernel.invokeFunction('convertToInteractive',\n",
              "                                                     [key], {});\n",
              "          if (!dataTable) return;\n",
              "\n",
              "          const docLinkHtml = 'Like what you see? Visit the ' +\n",
              "            '<a target=\"_blank\" href=https://colab.research.google.com/notebooks/data_table.ipynb>data table notebook</a>'\n",
              "            + ' to learn more about interactive tables.';\n",
              "          element.innerHTML = '';\n",
              "          dataTable['output_type'] = 'display_data';\n",
              "          await google.colab.output.renderOutput(dataTable, element);\n",
              "          const docLink = document.createElement('div');\n",
              "          docLink.innerHTML = docLinkHtml;\n",
              "          element.appendChild(docLink);\n",
              "        }\n",
              "      </script>\n",
              "    </div>\n",
              "  </div>\n",
              "  "
            ]
          },
          "metadata": {},
          "execution_count": 13
        }
      ]
    },
    {
      "cell_type": "code",
      "source": [
        "df.agg(['min', 'max']).round(2)"
      ],
      "metadata": {
        "colab": {
          "base_uri": "https://localhost:8080/",
          "height": 165
        },
        "id": "TqShq3anICR7",
        "outputId": "9fba9d2b-07d9-4fc0-b00c-d462c0793bd3"
      },
      "execution_count": 14,
      "outputs": [
        {
          "output_type": "stream",
          "name": "stderr",
          "text": [
            "<ipython-input-14-39a2038683d4>:1: FutureWarning: ['year', 'state', 'zip_code', 'school_type', 'school_level'] did not aggregate successfully. If any error is raised this will raise in a future version of pandas. Drop these columns/ops to avoid this warning.\n",
            "  df.agg(['min', 'max']).round(2)\n"
          ]
        },
        {
          "output_type": "execute_result",
          "data": {
            "text/plain": [
              "               id  rate_unemployment  percent_college  percent_married  \\\n",
              "min  100001600143               0.00             0.09              0.0   \n",
              "max  560583000335               0.59             1.00              1.0   \n",
              "\n",
              "     median_income  average_act  percent_lunch  \n",
              "min         3589.0        -3.07          -0.05  \n",
              "max       226181.0        32.36           1.00  "
            ],
            "text/html": [
              "\n",
              "  <div id=\"df-542bec7d-d088-489b-8bb7-5363a81d086d\">\n",
              "    <div class=\"colab-df-container\">\n",
              "      <div>\n",
              "<style scoped>\n",
              "    .dataframe tbody tr th:only-of-type {\n",
              "        vertical-align: middle;\n",
              "    }\n",
              "\n",
              "    .dataframe tbody tr th {\n",
              "        vertical-align: top;\n",
              "    }\n",
              "\n",
              "    .dataframe thead th {\n",
              "        text-align: right;\n",
              "    }\n",
              "</style>\n",
              "<table border=\"1\" class=\"dataframe\">\n",
              "  <thead>\n",
              "    <tr style=\"text-align: right;\">\n",
              "      <th></th>\n",
              "      <th>id</th>\n",
              "      <th>rate_unemployment</th>\n",
              "      <th>percent_college</th>\n",
              "      <th>percent_married</th>\n",
              "      <th>median_income</th>\n",
              "      <th>average_act</th>\n",
              "      <th>percent_lunch</th>\n",
              "    </tr>\n",
              "  </thead>\n",
              "  <tbody>\n",
              "    <tr>\n",
              "      <th>min</th>\n",
              "      <td>100001600143</td>\n",
              "      <td>0.00</td>\n",
              "      <td>0.09</td>\n",
              "      <td>0.0</td>\n",
              "      <td>3589.0</td>\n",
              "      <td>-3.07</td>\n",
              "      <td>-0.05</td>\n",
              "    </tr>\n",
              "    <tr>\n",
              "      <th>max</th>\n",
              "      <td>560583000335</td>\n",
              "      <td>0.59</td>\n",
              "      <td>1.00</td>\n",
              "      <td>1.0</td>\n",
              "      <td>226181.0</td>\n",
              "      <td>32.36</td>\n",
              "      <td>1.00</td>\n",
              "    </tr>\n",
              "  </tbody>\n",
              "</table>\n",
              "</div>\n",
              "      <button class=\"colab-df-convert\" onclick=\"convertToInteractive('df-542bec7d-d088-489b-8bb7-5363a81d086d')\"\n",
              "              title=\"Convert this dataframe to an interactive table.\"\n",
              "              style=\"display:none;\">\n",
              "        \n",
              "  <svg xmlns=\"http://www.w3.org/2000/svg\" height=\"24px\"viewBox=\"0 0 24 24\"\n",
              "       width=\"24px\">\n",
              "    <path d=\"M0 0h24v24H0V0z\" fill=\"none\"/>\n",
              "    <path d=\"M18.56 5.44l.94 2.06.94-2.06 2.06-.94-2.06-.94-.94-2.06-.94 2.06-2.06.94zm-11 1L8.5 8.5l.94-2.06 2.06-.94-2.06-.94L8.5 2.5l-.94 2.06-2.06.94zm10 10l.94 2.06.94-2.06 2.06-.94-2.06-.94-.94-2.06-.94 2.06-2.06.94z\"/><path d=\"M17.41 7.96l-1.37-1.37c-.4-.4-.92-.59-1.43-.59-.52 0-1.04.2-1.43.59L10.3 9.45l-7.72 7.72c-.78.78-.78 2.05 0 2.83L4 21.41c.39.39.9.59 1.41.59.51 0 1.02-.2 1.41-.59l7.78-7.78 2.81-2.81c.8-.78.8-2.07 0-2.86zM5.41 20L4 18.59l7.72-7.72 1.47 1.35L5.41 20z\"/>\n",
              "  </svg>\n",
              "      </button>\n",
              "      \n",
              "  <style>\n",
              "    .colab-df-container {\n",
              "      display:flex;\n",
              "      flex-wrap:wrap;\n",
              "      gap: 12px;\n",
              "    }\n",
              "\n",
              "    .colab-df-convert {\n",
              "      background-color: #E8F0FE;\n",
              "      border: none;\n",
              "      border-radius: 50%;\n",
              "      cursor: pointer;\n",
              "      display: none;\n",
              "      fill: #1967D2;\n",
              "      height: 32px;\n",
              "      padding: 0 0 0 0;\n",
              "      width: 32px;\n",
              "    }\n",
              "\n",
              "    .colab-df-convert:hover {\n",
              "      background-color: #E2EBFA;\n",
              "      box-shadow: 0px 1px 2px rgba(60, 64, 67, 0.3), 0px 1px 3px 1px rgba(60, 64, 67, 0.15);\n",
              "      fill: #174EA6;\n",
              "    }\n",
              "\n",
              "    [theme=dark] .colab-df-convert {\n",
              "      background-color: #3B4455;\n",
              "      fill: #D2E3FC;\n",
              "    }\n",
              "\n",
              "    [theme=dark] .colab-df-convert:hover {\n",
              "      background-color: #434B5C;\n",
              "      box-shadow: 0px 1px 3px 1px rgba(0, 0, 0, 0.15);\n",
              "      filter: drop-shadow(0px 1px 2px rgba(0, 0, 0, 0.3));\n",
              "      fill: #FFFFFF;\n",
              "    }\n",
              "  </style>\n",
              "\n",
              "      <script>\n",
              "        const buttonEl =\n",
              "          document.querySelector('#df-542bec7d-d088-489b-8bb7-5363a81d086d button.colab-df-convert');\n",
              "        buttonEl.style.display =\n",
              "          google.colab.kernel.accessAllowed ? 'block' : 'none';\n",
              "\n",
              "        async function convertToInteractive(key) {\n",
              "          const element = document.querySelector('#df-542bec7d-d088-489b-8bb7-5363a81d086d');\n",
              "          const dataTable =\n",
              "            await google.colab.kernel.invokeFunction('convertToInteractive',\n",
              "                                                     [key], {});\n",
              "          if (!dataTable) return;\n",
              "\n",
              "          const docLinkHtml = 'Like what you see? Visit the ' +\n",
              "            '<a target=\"_blank\" href=https://colab.research.google.com/notebooks/data_table.ipynb>data table notebook</a>'\n",
              "            + ' to learn more about interactive tables.';\n",
              "          element.innerHTML = '';\n",
              "          dataTable['output_type'] = 'display_data';\n",
              "          await google.colab.output.renderOutput(dataTable, element);\n",
              "          const docLink = document.createElement('div');\n",
              "          docLink.innerHTML = docLinkHtml;\n",
              "          element.appendChild(docLink);\n",
              "        }\n",
              "      </script>\n",
              "    </div>\n",
              "  </div>\n",
              "  "
            ]
          },
          "metadata": {},
          "execution_count": 14
        }
      ]
    },
    {
      "cell_type": "code",
      "source": [
        "df['state'].unique()"
      ],
      "metadata": {
        "colab": {
          "base_uri": "https://localhost:8080/"
        },
        "id": "HpA6YwCSItMD",
        "outputId": "eae28d07-4471-476d-80d2-aacb770df38c"
      },
      "execution_count": 15,
      "outputs": [
        {
          "output_type": "execute_result",
          "data": {
            "text/plain": [
              "array(['DE', 'FL', 'GA', nan, 'IL', 'IN', 'KY', 'LA', 'MA', 'MI', 'MO',\n",
              "       'NJ', 'NY', 'NC', 'OH', 'PA', 'TN', 'TX', 'WA', 'WI', 'WY'],\n",
              "      dtype=object)"
            ]
          },
          "metadata": {},
          "execution_count": 15
        }
      ]
    },
    {
      "cell_type": "code",
      "source": [
        "df.loc[df['percent_lunch'] < 0, 'percent_lunch'] = np.nan"
      ],
      "metadata": {
        "id": "rlfiKFi9MAMN"
      },
      "execution_count": 16,
      "outputs": []
    },
    {
      "cell_type": "code",
      "source": [
        "df = df.drop(df.loc[df['average_act'] <=0].index)"
      ],
      "metadata": {
        "id": "Hf5Fwyz3PrIQ"
      },
      "execution_count": 17,
      "outputs": []
    },
    {
      "cell_type": "markdown",
      "source": [
        "We will only be checking High schools."
      ],
      "metadata": {
        "id": "65O0IpX_sksx"
      }
    },
    {
      "cell_type": "code",
      "source": [
        "df = df.loc[df['school_level']== 'High']"
      ],
      "metadata": {
        "id": "e37DF3ofK9VE"
      },
      "execution_count": 18,
      "outputs": []
    },
    {
      "cell_type": "markdown",
      "source": [
        "## Identify missing values"
      ],
      "metadata": {
        "id": "aAaUY6N1rtoa"
      }
    },
    {
      "cell_type": "code",
      "source": [
        "df.isna().sum()"
      ],
      "metadata": {
        "colab": {
          "base_uri": "https://localhost:8080/"
        },
        "id": "eDflp5RkgzfN",
        "outputId": "18f887aa-b631-47f6-f9d3-76d01e32437d"
      },
      "execution_count": 19,
      "outputs": [
        {
          "output_type": "execute_result",
          "data": {
            "text/plain": [
              "id                    0\n",
              "rate_unemployment    12\n",
              "percent_college      11\n",
              "percent_married      20\n",
              "median_income        16\n",
              "average_act           0\n",
              "percent_lunch        20\n",
              "year                  0\n",
              "state                 0\n",
              "zip_code              0\n",
              "school_type           0\n",
              "school_level          0\n",
              "dtype: int64"
            ]
          },
          "metadata": {},
          "execution_count": 19
        }
      ]
    },
    {
      "cell_type": "code",
      "source": [
        "df = df.loc[df['average_act'].isna() == False]"
      ],
      "metadata": {
        "id": "LKo3QfaUs_iw"
      },
      "execution_count": 20,
      "outputs": []
    },
    {
      "cell_type": "markdown",
      "source": [
        "Some schools are missing all four socioeconomic variables, but most of them lack only a portion of the data. Dropping the rows with NaN values would harm our analysis of the variables with available data. Thus, we will retain the rows with missing socioeconomic variables. However, we will eliminate the rows without the average ACT score. After splitting the data for model evaluation into training and testing sets, we will fill in the remaining missing values using imputation."
      ],
      "metadata": {
        "id": "RWq1PrZLtSi1"
      }
    },
    {
      "cell_type": "markdown",
      "source": [
        "## Train test split"
      ],
      "metadata": {
        "id": "TklEWrlhsEiQ"
      }
    },
    {
      "cell_type": "code",
      "source": [
        "X = df[df.columns.difference(['id', 'average_act'])]"
      ],
      "metadata": {
        "id": "gGIJ5nA_jfT_"
      },
      "execution_count": 21,
      "outputs": []
    },
    {
      "cell_type": "code",
      "source": [
        "Y = df[['average_act']]"
      ],
      "metadata": {
        "id": "LxzaZ4yljpK_"
      },
      "execution_count": 22,
      "outputs": []
    },
    {
      "cell_type": "markdown",
      "source": [
        "Next, we will define the predictor variable matrix X to include all columns except for id and average_act, and define the output variable y to be average_act."
      ],
      "metadata": {
        "id": "ZK9PtqViuDU7"
      }
    },
    {
      "cell_type": "markdown",
      "source": [
        "We will utilize the test set approach to evaluate models that predict the average_act."
      ],
      "metadata": {
        "id": "CjH-3UccuV9c"
      }
    },
    {
      "cell_type": "code",
      "source": [
        "x_train, x_test, y_train, y_test = train_test_split(X, Y, test_size=.2, random_state = 1)"
      ],
      "metadata": {
        "id": "e3IuNmw5ib_e"
      },
      "execution_count": 23,
      "outputs": []
    },
    {
      "cell_type": "code",
      "source": [
        "print(x_train.shape, x_test.shape)"
      ],
      "metadata": {
        "colab": {
          "base_uri": "https://localhost:8080/"
        },
        "id": "-l66AWgjkfVl",
        "outputId": "693c6b26-ef28-410b-af4b-e179af822534"
      },
      "execution_count": 24,
      "outputs": [
        {
          "output_type": "stream",
          "name": "stdout",
          "text": [
            "(5781, 10) (1446, 10)\n"
          ]
        }
      ]
    },
    {
      "cell_type": "markdown",
      "source": [
        "Verify that the means and standard deviations of the training and testing input variables are comparable."
      ],
      "metadata": {
        "id": "I9DLPmzPu_be"
      }
    },
    {
      "cell_type": "code",
      "source": [
        "x_train.agg(['mean','std']).round(2)"
      ],
      "metadata": {
        "id": "Tj5Sz3MPloZT",
        "colab": {
          "base_uri": "https://localhost:8080/",
          "height": 165
        },
        "outputId": "0c85306b-d988-4b37-d9ce-af3a1fa50baa"
      },
      "execution_count": 25,
      "outputs": [
        {
          "output_type": "stream",
          "name": "stderr",
          "text": [
            "<ipython-input-25-4fb165f81f78>:1: FutureWarning: ['school_level', 'school_type', 'state', 'year', 'zip_code'] did not aggregate successfully. If any error is raised this will raise in a future version of pandas. Drop these columns/ops to avoid this warning.\n",
            "  x_train.agg(['mean','std']).round(2)\n"
          ]
        },
        {
          "output_type": "execute_result",
          "data": {
            "text/plain": [
              "      median_income  percent_college  percent_lunch  percent_married  \\\n",
              "mean       53170.26             0.57           0.41             0.64   \n",
              "std        24827.94             0.17           0.23             0.19   \n",
              "\n",
              "      rate_unemployment  \n",
              "mean               0.10  \n",
              "std                0.06  "
            ],
            "text/html": [
              "\n",
              "  <div id=\"df-b5217cb1-c374-4c4e-a67c-987b700ac080\">\n",
              "    <div class=\"colab-df-container\">\n",
              "      <div>\n",
              "<style scoped>\n",
              "    .dataframe tbody tr th:only-of-type {\n",
              "        vertical-align: middle;\n",
              "    }\n",
              "\n",
              "    .dataframe tbody tr th {\n",
              "        vertical-align: top;\n",
              "    }\n",
              "\n",
              "    .dataframe thead th {\n",
              "        text-align: right;\n",
              "    }\n",
              "</style>\n",
              "<table border=\"1\" class=\"dataframe\">\n",
              "  <thead>\n",
              "    <tr style=\"text-align: right;\">\n",
              "      <th></th>\n",
              "      <th>median_income</th>\n",
              "      <th>percent_college</th>\n",
              "      <th>percent_lunch</th>\n",
              "      <th>percent_married</th>\n",
              "      <th>rate_unemployment</th>\n",
              "    </tr>\n",
              "  </thead>\n",
              "  <tbody>\n",
              "    <tr>\n",
              "      <th>mean</th>\n",
              "      <td>53170.26</td>\n",
              "      <td>0.57</td>\n",
              "      <td>0.41</td>\n",
              "      <td>0.64</td>\n",
              "      <td>0.10</td>\n",
              "    </tr>\n",
              "    <tr>\n",
              "      <th>std</th>\n",
              "      <td>24827.94</td>\n",
              "      <td>0.17</td>\n",
              "      <td>0.23</td>\n",
              "      <td>0.19</td>\n",
              "      <td>0.06</td>\n",
              "    </tr>\n",
              "  </tbody>\n",
              "</table>\n",
              "</div>\n",
              "      <button class=\"colab-df-convert\" onclick=\"convertToInteractive('df-b5217cb1-c374-4c4e-a67c-987b700ac080')\"\n",
              "              title=\"Convert this dataframe to an interactive table.\"\n",
              "              style=\"display:none;\">\n",
              "        \n",
              "  <svg xmlns=\"http://www.w3.org/2000/svg\" height=\"24px\"viewBox=\"0 0 24 24\"\n",
              "       width=\"24px\">\n",
              "    <path d=\"M0 0h24v24H0V0z\" fill=\"none\"/>\n",
              "    <path d=\"M18.56 5.44l.94 2.06.94-2.06 2.06-.94-2.06-.94-.94-2.06-.94 2.06-2.06.94zm-11 1L8.5 8.5l.94-2.06 2.06-.94-2.06-.94L8.5 2.5l-.94 2.06-2.06.94zm10 10l.94 2.06.94-2.06 2.06-.94-2.06-.94-.94-2.06-.94 2.06-2.06.94z\"/><path d=\"M17.41 7.96l-1.37-1.37c-.4-.4-.92-.59-1.43-.59-.52 0-1.04.2-1.43.59L10.3 9.45l-7.72 7.72c-.78.78-.78 2.05 0 2.83L4 21.41c.39.39.9.59 1.41.59.51 0 1.02-.2 1.41-.59l7.78-7.78 2.81-2.81c.8-.78.8-2.07 0-2.86zM5.41 20L4 18.59l7.72-7.72 1.47 1.35L5.41 20z\"/>\n",
              "  </svg>\n",
              "      </button>\n",
              "      \n",
              "  <style>\n",
              "    .colab-df-container {\n",
              "      display:flex;\n",
              "      flex-wrap:wrap;\n",
              "      gap: 12px;\n",
              "    }\n",
              "\n",
              "    .colab-df-convert {\n",
              "      background-color: #E8F0FE;\n",
              "      border: none;\n",
              "      border-radius: 50%;\n",
              "      cursor: pointer;\n",
              "      display: none;\n",
              "      fill: #1967D2;\n",
              "      height: 32px;\n",
              "      padding: 0 0 0 0;\n",
              "      width: 32px;\n",
              "    }\n",
              "\n",
              "    .colab-df-convert:hover {\n",
              "      background-color: #E2EBFA;\n",
              "      box-shadow: 0px 1px 2px rgba(60, 64, 67, 0.3), 0px 1px 3px 1px rgba(60, 64, 67, 0.15);\n",
              "      fill: #174EA6;\n",
              "    }\n",
              "\n",
              "    [theme=dark] .colab-df-convert {\n",
              "      background-color: #3B4455;\n",
              "      fill: #D2E3FC;\n",
              "    }\n",
              "\n",
              "    [theme=dark] .colab-df-convert:hover {\n",
              "      background-color: #434B5C;\n",
              "      box-shadow: 0px 1px 3px 1px rgba(0, 0, 0, 0.15);\n",
              "      filter: drop-shadow(0px 1px 2px rgba(0, 0, 0, 0.3));\n",
              "      fill: #FFFFFF;\n",
              "    }\n",
              "  </style>\n",
              "\n",
              "      <script>\n",
              "        const buttonEl =\n",
              "          document.querySelector('#df-b5217cb1-c374-4c4e-a67c-987b700ac080 button.colab-df-convert');\n",
              "        buttonEl.style.display =\n",
              "          google.colab.kernel.accessAllowed ? 'block' : 'none';\n",
              "\n",
              "        async function convertToInteractive(key) {\n",
              "          const element = document.querySelector('#df-b5217cb1-c374-4c4e-a67c-987b700ac080');\n",
              "          const dataTable =\n",
              "            await google.colab.kernel.invokeFunction('convertToInteractive',\n",
              "                                                     [key], {});\n",
              "          if (!dataTable) return;\n",
              "\n",
              "          const docLinkHtml = 'Like what you see? Visit the ' +\n",
              "            '<a target=\"_blank\" href=https://colab.research.google.com/notebooks/data_table.ipynb>data table notebook</a>'\n",
              "            + ' to learn more about interactive tables.';\n",
              "          element.innerHTML = '';\n",
              "          dataTable['output_type'] = 'display_data';\n",
              "          await google.colab.output.renderOutput(dataTable, element);\n",
              "          const docLink = document.createElement('div');\n",
              "          docLink.innerHTML = docLinkHtml;\n",
              "          element.appendChild(docLink);\n",
              "        }\n",
              "      </script>\n",
              "    </div>\n",
              "  </div>\n",
              "  "
            ]
          },
          "metadata": {},
          "execution_count": 25
        }
      ]
    },
    {
      "cell_type": "code",
      "source": [
        "x_test.agg(['mean','std']).round(2)"
      ],
      "metadata": {
        "colab": {
          "base_uri": "https://localhost:8080/",
          "height": 165
        },
        "id": "1XmVPEKwuxxF",
        "outputId": "68e8538c-6394-49c2-9204-bd954a5a91e9"
      },
      "execution_count": 26,
      "outputs": [
        {
          "output_type": "stream",
          "name": "stderr",
          "text": [
            "<ipython-input-26-ecad6fcf8116>:1: FutureWarning: ['school_level', 'school_type', 'state', 'year', 'zip_code'] did not aggregate successfully. If any error is raised this will raise in a future version of pandas. Drop these columns/ops to avoid this warning.\n",
            "  x_test.agg(['mean','std']).round(2)\n"
          ]
        },
        {
          "output_type": "execute_result",
          "data": {
            "text/plain": [
              "      median_income  percent_college  percent_lunch  percent_married  \\\n",
              "mean       51179.23             0.57           0.42             0.63   \n",
              "std        22358.47             0.16           0.24             0.19   \n",
              "\n",
              "      rate_unemployment  \n",
              "mean               0.10  \n",
              "std                0.06  "
            ],
            "text/html": [
              "\n",
              "  <div id=\"df-ff84e16f-85d3-4700-8390-893b6c8d50c6\">\n",
              "    <div class=\"colab-df-container\">\n",
              "      <div>\n",
              "<style scoped>\n",
              "    .dataframe tbody tr th:only-of-type {\n",
              "        vertical-align: middle;\n",
              "    }\n",
              "\n",
              "    .dataframe tbody tr th {\n",
              "        vertical-align: top;\n",
              "    }\n",
              "\n",
              "    .dataframe thead th {\n",
              "        text-align: right;\n",
              "    }\n",
              "</style>\n",
              "<table border=\"1\" class=\"dataframe\">\n",
              "  <thead>\n",
              "    <tr style=\"text-align: right;\">\n",
              "      <th></th>\n",
              "      <th>median_income</th>\n",
              "      <th>percent_college</th>\n",
              "      <th>percent_lunch</th>\n",
              "      <th>percent_married</th>\n",
              "      <th>rate_unemployment</th>\n",
              "    </tr>\n",
              "  </thead>\n",
              "  <tbody>\n",
              "    <tr>\n",
              "      <th>mean</th>\n",
              "      <td>51179.23</td>\n",
              "      <td>0.57</td>\n",
              "      <td>0.42</td>\n",
              "      <td>0.63</td>\n",
              "      <td>0.10</td>\n",
              "    </tr>\n",
              "    <tr>\n",
              "      <th>std</th>\n",
              "      <td>22358.47</td>\n",
              "      <td>0.16</td>\n",
              "      <td>0.24</td>\n",
              "      <td>0.19</td>\n",
              "      <td>0.06</td>\n",
              "    </tr>\n",
              "  </tbody>\n",
              "</table>\n",
              "</div>\n",
              "      <button class=\"colab-df-convert\" onclick=\"convertToInteractive('df-ff84e16f-85d3-4700-8390-893b6c8d50c6')\"\n",
              "              title=\"Convert this dataframe to an interactive table.\"\n",
              "              style=\"display:none;\">\n",
              "        \n",
              "  <svg xmlns=\"http://www.w3.org/2000/svg\" height=\"24px\"viewBox=\"0 0 24 24\"\n",
              "       width=\"24px\">\n",
              "    <path d=\"M0 0h24v24H0V0z\" fill=\"none\"/>\n",
              "    <path d=\"M18.56 5.44l.94 2.06.94-2.06 2.06-.94-2.06-.94-.94-2.06-.94 2.06-2.06.94zm-11 1L8.5 8.5l.94-2.06 2.06-.94-2.06-.94L8.5 2.5l-.94 2.06-2.06.94zm10 10l.94 2.06.94-2.06 2.06-.94-2.06-.94-.94-2.06-.94 2.06-2.06.94z\"/><path d=\"M17.41 7.96l-1.37-1.37c-.4-.4-.92-.59-1.43-.59-.52 0-1.04.2-1.43.59L10.3 9.45l-7.72 7.72c-.78.78-.78 2.05 0 2.83L4 21.41c.39.39.9.59 1.41.59.51 0 1.02-.2 1.41-.59l7.78-7.78 2.81-2.81c.8-.78.8-2.07 0-2.86zM5.41 20L4 18.59l7.72-7.72 1.47 1.35L5.41 20z\"/>\n",
              "  </svg>\n",
              "      </button>\n",
              "      \n",
              "  <style>\n",
              "    .colab-df-container {\n",
              "      display:flex;\n",
              "      flex-wrap:wrap;\n",
              "      gap: 12px;\n",
              "    }\n",
              "\n",
              "    .colab-df-convert {\n",
              "      background-color: #E8F0FE;\n",
              "      border: none;\n",
              "      border-radius: 50%;\n",
              "      cursor: pointer;\n",
              "      display: none;\n",
              "      fill: #1967D2;\n",
              "      height: 32px;\n",
              "      padding: 0 0 0 0;\n",
              "      width: 32px;\n",
              "    }\n",
              "\n",
              "    .colab-df-convert:hover {\n",
              "      background-color: #E2EBFA;\n",
              "      box-shadow: 0px 1px 2px rgba(60, 64, 67, 0.3), 0px 1px 3px 1px rgba(60, 64, 67, 0.15);\n",
              "      fill: #174EA6;\n",
              "    }\n",
              "\n",
              "    [theme=dark] .colab-df-convert {\n",
              "      background-color: #3B4455;\n",
              "      fill: #D2E3FC;\n",
              "    }\n",
              "\n",
              "    [theme=dark] .colab-df-convert:hover {\n",
              "      background-color: #434B5C;\n",
              "      box-shadow: 0px 1px 3px 1px rgba(0, 0, 0, 0.15);\n",
              "      filter: drop-shadow(0px 1px 2px rgba(0, 0, 0, 0.3));\n",
              "      fill: #FFFFFF;\n",
              "    }\n",
              "  </style>\n",
              "\n",
              "      <script>\n",
              "        const buttonEl =\n",
              "          document.querySelector('#df-ff84e16f-85d3-4700-8390-893b6c8d50c6 button.colab-df-convert');\n",
              "        buttonEl.style.display =\n",
              "          google.colab.kernel.accessAllowed ? 'block' : 'none';\n",
              "\n",
              "        async function convertToInteractive(key) {\n",
              "          const element = document.querySelector('#df-ff84e16f-85d3-4700-8390-893b6c8d50c6');\n",
              "          const dataTable =\n",
              "            await google.colab.kernel.invokeFunction('convertToInteractive',\n",
              "                                                     [key], {});\n",
              "          if (!dataTable) return;\n",
              "\n",
              "          const docLinkHtml = 'Like what you see? Visit the ' +\n",
              "            '<a target=\"_blank\" href=https://colab.research.google.com/notebooks/data_table.ipynb>data table notebook</a>'\n",
              "            + ' to learn more about interactive tables.';\n",
              "          element.innerHTML = '';\n",
              "          dataTable['output_type'] = 'display_data';\n",
              "          await google.colab.output.renderOutput(dataTable, element);\n",
              "          const docLink = document.createElement('div');\n",
              "          docLink.innerHTML = docLinkHtml;\n",
              "          element.appendChild(docLink);\n",
              "        }\n",
              "      </script>\n",
              "    </div>\n",
              "  </div>\n",
              "  "
            ]
          },
          "metadata": {},
          "execution_count": 26
        }
      ]
    },
    {
      "cell_type": "markdown",
      "source": [
        "## Data imputation"
      ],
      "metadata": {
        "id": "AM98iKFqk8wM"
      }
    },
    {
      "cell_type": "code",
      "source": [
        "imputer = IterativeImputer()"
      ],
      "metadata": {
        "id": "w88hggRbkrol"
      },
      "execution_count": 27,
      "outputs": []
    },
    {
      "cell_type": "markdown",
      "source": [
        "Impute the missing values in the training data."
      ],
      "metadata": {
        "id": "BjiNtEd6vV8V"
      }
    },
    {
      "cell_type": "code",
      "source": [
        "imputer.fit(x_train.loc[:,'median_income' : 'rate_unemployment'])"
      ],
      "metadata": {
        "colab": {
          "base_uri": "https://localhost:8080/",
          "height": 74
        },
        "id": "6dlcc1sknzTU",
        "outputId": "6d3a23b5-9477-4bb3-b245-9983d6d17bb4"
      },
      "execution_count": 28,
      "outputs": [
        {
          "output_type": "execute_result",
          "data": {
            "text/plain": [
              "IterativeImputer()"
            ],
            "text/html": [
              "<style>#sk-container-id-1 {color: black;background-color: white;}#sk-container-id-1 pre{padding: 0;}#sk-container-id-1 div.sk-toggleable {background-color: white;}#sk-container-id-1 label.sk-toggleable__label {cursor: pointer;display: block;width: 100%;margin-bottom: 0;padding: 0.3em;box-sizing: border-box;text-align: center;}#sk-container-id-1 label.sk-toggleable__label-arrow:before {content: \"▸\";float: left;margin-right: 0.25em;color: #696969;}#sk-container-id-1 label.sk-toggleable__label-arrow:hover:before {color: black;}#sk-container-id-1 div.sk-estimator:hover label.sk-toggleable__label-arrow:before {color: black;}#sk-container-id-1 div.sk-toggleable__content {max-height: 0;max-width: 0;overflow: hidden;text-align: left;background-color: #f0f8ff;}#sk-container-id-1 div.sk-toggleable__content pre {margin: 0.2em;color: black;border-radius: 0.25em;background-color: #f0f8ff;}#sk-container-id-1 input.sk-toggleable__control:checked~div.sk-toggleable__content {max-height: 200px;max-width: 100%;overflow: auto;}#sk-container-id-1 input.sk-toggleable__control:checked~label.sk-toggleable__label-arrow:before {content: \"▾\";}#sk-container-id-1 div.sk-estimator input.sk-toggleable__control:checked~label.sk-toggleable__label {background-color: #d4ebff;}#sk-container-id-1 div.sk-label input.sk-toggleable__control:checked~label.sk-toggleable__label {background-color: #d4ebff;}#sk-container-id-1 input.sk-hidden--visually {border: 0;clip: rect(1px 1px 1px 1px);clip: rect(1px, 1px, 1px, 1px);height: 1px;margin: -1px;overflow: hidden;padding: 0;position: absolute;width: 1px;}#sk-container-id-1 div.sk-estimator {font-family: monospace;background-color: #f0f8ff;border: 1px dotted black;border-radius: 0.25em;box-sizing: border-box;margin-bottom: 0.5em;}#sk-container-id-1 div.sk-estimator:hover {background-color: #d4ebff;}#sk-container-id-1 div.sk-parallel-item::after {content: \"\";width: 100%;border-bottom: 1px solid gray;flex-grow: 1;}#sk-container-id-1 div.sk-label:hover label.sk-toggleable__label {background-color: #d4ebff;}#sk-container-id-1 div.sk-serial::before {content: \"\";position: absolute;border-left: 1px solid gray;box-sizing: border-box;top: 0;bottom: 0;left: 50%;z-index: 0;}#sk-container-id-1 div.sk-serial {display: flex;flex-direction: column;align-items: center;background-color: white;padding-right: 0.2em;padding-left: 0.2em;position: relative;}#sk-container-id-1 div.sk-item {position: relative;z-index: 1;}#sk-container-id-1 div.sk-parallel {display: flex;align-items: stretch;justify-content: center;background-color: white;position: relative;}#sk-container-id-1 div.sk-item::before, #sk-container-id-1 div.sk-parallel-item::before {content: \"\";position: absolute;border-left: 1px solid gray;box-sizing: border-box;top: 0;bottom: 0;left: 50%;z-index: -1;}#sk-container-id-1 div.sk-parallel-item {display: flex;flex-direction: column;z-index: 1;position: relative;background-color: white;}#sk-container-id-1 div.sk-parallel-item:first-child::after {align-self: flex-end;width: 50%;}#sk-container-id-1 div.sk-parallel-item:last-child::after {align-self: flex-start;width: 50%;}#sk-container-id-1 div.sk-parallel-item:only-child::after {width: 0;}#sk-container-id-1 div.sk-dashed-wrapped {border: 1px dashed gray;margin: 0 0.4em 0.5em 0.4em;box-sizing: border-box;padding-bottom: 0.4em;background-color: white;}#sk-container-id-1 div.sk-label label {font-family: monospace;font-weight: bold;display: inline-block;line-height: 1.2em;}#sk-container-id-1 div.sk-label-container {text-align: center;}#sk-container-id-1 div.sk-container {/* jupyter's `normalize.less` sets `[hidden] { display: none; }` but bootstrap.min.css set `[hidden] { display: none !important; }` so we also need the `!important` here to be able to override the default hidden behavior on the sphinx rendered scikit-learn.org. See: https://github.com/scikit-learn/scikit-learn/issues/21755 */display: inline-block !important;position: relative;}#sk-container-id-1 div.sk-text-repr-fallback {display: none;}</style><div id=\"sk-container-id-1\" class=\"sk-top-container\"><div class=\"sk-text-repr-fallback\"><pre>IterativeImputer()</pre><b>In a Jupyter environment, please rerun this cell to show the HTML representation or trust the notebook. <br />On GitHub, the HTML representation is unable to render, please try loading this page with nbviewer.org.</b></div><div class=\"sk-container\" hidden><div class=\"sk-item\"><div class=\"sk-estimator sk-toggleable\"><input class=\"sk-toggleable__control sk-hidden--visually\" id=\"sk-estimator-id-1\" type=\"checkbox\" checked><label for=\"sk-estimator-id-1\" class=\"sk-toggleable__label sk-toggleable__label-arrow\">IterativeImputer</label><div class=\"sk-toggleable__content\"><pre>IterativeImputer()</pre></div></div></div></div></div>"
            ]
          },
          "metadata": {},
          "execution_count": 28
        }
      ]
    },
    {
      "cell_type": "code",
      "source": [
        "x_train.loc[:, 'median_income':'rate_unemployment'] = imputer.transform(x_train.loc[:, 'median_income':'rate_unemployment'])"
      ],
      "metadata": {
        "id": "AzW1n1w4oXIm"
      },
      "execution_count": 29,
      "outputs": []
    },
    {
      "cell_type": "code",
      "source": [
        "x_train.isna().sum()"
      ],
      "metadata": {
        "colab": {
          "base_uri": "https://localhost:8080/"
        },
        "id": "3gvRuy1spw4g",
        "outputId": "fec290ac-b934-4ee3-f275-78d36a00da1e"
      },
      "execution_count": 30,
      "outputs": [
        {
          "output_type": "execute_result",
          "data": {
            "text/plain": [
              "median_income        0\n",
              "percent_college      0\n",
              "percent_lunch        0\n",
              "percent_married      0\n",
              "rate_unemployment    0\n",
              "school_level         0\n",
              "school_type          0\n",
              "state                0\n",
              "year                 0\n",
              "zip_code             0\n",
              "dtype: int64"
            ]
          },
          "metadata": {},
          "execution_count": 30
        }
      ]
    },
    {
      "cell_type": "code",
      "source": [
        "x_test.isna().sum()"
      ],
      "metadata": {
        "colab": {
          "base_uri": "https://localhost:8080/"
        },
        "id": "BnLb0CRqv3cN",
        "outputId": "776adb26-1294-4c07-b55c-c339779bf345"
      },
      "execution_count": 31,
      "outputs": [
        {
          "output_type": "execute_result",
          "data": {
            "text/plain": [
              "median_income        1\n",
              "percent_college      0\n",
              "percent_lunch        3\n",
              "percent_married      2\n",
              "rate_unemployment    0\n",
              "school_level         0\n",
              "school_type          0\n",
              "state                0\n",
              "year                 0\n",
              "zip_code             0\n",
              "dtype: int64"
            ]
          },
          "metadata": {},
          "execution_count": 31
        }
      ]
    },
    {
      "cell_type": "code",
      "source": [
        "df_train = x_train.join(y_train)"
      ],
      "metadata": {
        "id": "3YpCe5SQteCz"
      },
      "execution_count": 32,
      "outputs": []
    },
    {
      "cell_type": "code",
      "source": [
        "df_train.head()"
      ],
      "metadata": {
        "colab": {
          "base_uri": "https://localhost:8080/",
          "height": 353
        },
        "id": "LeI-2KmGtiOo",
        "outputId": "d70cb762-cb95-41e1-ffa8-bf35e4a44fa8"
      },
      "execution_count": 33,
      "outputs": [
        {
          "output_type": "execute_result",
          "data": {
            "text/plain": [
              "      median_income  percent_college  percent_lunch  percent_married  \\\n",
              "3663        41793.0         0.602419       0.542056         0.574034   \n",
              "1689        38173.0         0.469225       0.339655         0.711429   \n",
              "5852        39635.0         0.567361       0.270175         0.694514   \n",
              "3288        40978.0         0.467614       0.315556         0.766901   \n",
              "378         36875.0         0.604470       0.548410         0.803435   \n",
              "\n",
              "      rate_unemployment school_level     school_type state       year  \\\n",
              "3663           0.111111         High  Regular School    NJ  2016-2017   \n",
              "1689           0.135246         High  Regular School    IN  2016-2017   \n",
              "5852           0.083419         High  Regular School    PA  2016-2017   \n",
              "3288           0.062531         High  Regular School    MO  2016-2017   \n",
              "378            0.071429         High  Regular School    FL  2016-2017   \n",
              "\n",
              "     zip_code  average_act  \n",
              "3663     7306    16.538462  \n",
              "1689    47567    20.367521  \n",
              "5852    15853    20.347985  \n",
              "3288    64644    21.600000  \n",
              "378     34669    21.056166  "
            ],
            "text/html": [
              "\n",
              "  <div id=\"df-749dbe54-e23f-4dca-86c4-6fa856e7f364\">\n",
              "    <div class=\"colab-df-container\">\n",
              "      <div>\n",
              "<style scoped>\n",
              "    .dataframe tbody tr th:only-of-type {\n",
              "        vertical-align: middle;\n",
              "    }\n",
              "\n",
              "    .dataframe tbody tr th {\n",
              "        vertical-align: top;\n",
              "    }\n",
              "\n",
              "    .dataframe thead th {\n",
              "        text-align: right;\n",
              "    }\n",
              "</style>\n",
              "<table border=\"1\" class=\"dataframe\">\n",
              "  <thead>\n",
              "    <tr style=\"text-align: right;\">\n",
              "      <th></th>\n",
              "      <th>median_income</th>\n",
              "      <th>percent_college</th>\n",
              "      <th>percent_lunch</th>\n",
              "      <th>percent_married</th>\n",
              "      <th>rate_unemployment</th>\n",
              "      <th>school_level</th>\n",
              "      <th>school_type</th>\n",
              "      <th>state</th>\n",
              "      <th>year</th>\n",
              "      <th>zip_code</th>\n",
              "      <th>average_act</th>\n",
              "    </tr>\n",
              "  </thead>\n",
              "  <tbody>\n",
              "    <tr>\n",
              "      <th>3663</th>\n",
              "      <td>41793.0</td>\n",
              "      <td>0.602419</td>\n",
              "      <td>0.542056</td>\n",
              "      <td>0.574034</td>\n",
              "      <td>0.111111</td>\n",
              "      <td>High</td>\n",
              "      <td>Regular School</td>\n",
              "      <td>NJ</td>\n",
              "      <td>2016-2017</td>\n",
              "      <td>7306</td>\n",
              "      <td>16.538462</td>\n",
              "    </tr>\n",
              "    <tr>\n",
              "      <th>1689</th>\n",
              "      <td>38173.0</td>\n",
              "      <td>0.469225</td>\n",
              "      <td>0.339655</td>\n",
              "      <td>0.711429</td>\n",
              "      <td>0.135246</td>\n",
              "      <td>High</td>\n",
              "      <td>Regular School</td>\n",
              "      <td>IN</td>\n",
              "      <td>2016-2017</td>\n",
              "      <td>47567</td>\n",
              "      <td>20.367521</td>\n",
              "    </tr>\n",
              "    <tr>\n",
              "      <th>5852</th>\n",
              "      <td>39635.0</td>\n",
              "      <td>0.567361</td>\n",
              "      <td>0.270175</td>\n",
              "      <td>0.694514</td>\n",
              "      <td>0.083419</td>\n",
              "      <td>High</td>\n",
              "      <td>Regular School</td>\n",
              "      <td>PA</td>\n",
              "      <td>2016-2017</td>\n",
              "      <td>15853</td>\n",
              "      <td>20.347985</td>\n",
              "    </tr>\n",
              "    <tr>\n",
              "      <th>3288</th>\n",
              "      <td>40978.0</td>\n",
              "      <td>0.467614</td>\n",
              "      <td>0.315556</td>\n",
              "      <td>0.766901</td>\n",
              "      <td>0.062531</td>\n",
              "      <td>High</td>\n",
              "      <td>Regular School</td>\n",
              "      <td>MO</td>\n",
              "      <td>2016-2017</td>\n",
              "      <td>64644</td>\n",
              "      <td>21.600000</td>\n",
              "    </tr>\n",
              "    <tr>\n",
              "      <th>378</th>\n",
              "      <td>36875.0</td>\n",
              "      <td>0.604470</td>\n",
              "      <td>0.548410</td>\n",
              "      <td>0.803435</td>\n",
              "      <td>0.071429</td>\n",
              "      <td>High</td>\n",
              "      <td>Regular School</td>\n",
              "      <td>FL</td>\n",
              "      <td>2016-2017</td>\n",
              "      <td>34669</td>\n",
              "      <td>21.056166</td>\n",
              "    </tr>\n",
              "  </tbody>\n",
              "</table>\n",
              "</div>\n",
              "      <button class=\"colab-df-convert\" onclick=\"convertToInteractive('df-749dbe54-e23f-4dca-86c4-6fa856e7f364')\"\n",
              "              title=\"Convert this dataframe to an interactive table.\"\n",
              "              style=\"display:none;\">\n",
              "        \n",
              "  <svg xmlns=\"http://www.w3.org/2000/svg\" height=\"24px\"viewBox=\"0 0 24 24\"\n",
              "       width=\"24px\">\n",
              "    <path d=\"M0 0h24v24H0V0z\" fill=\"none\"/>\n",
              "    <path d=\"M18.56 5.44l.94 2.06.94-2.06 2.06-.94-2.06-.94-.94-2.06-.94 2.06-2.06.94zm-11 1L8.5 8.5l.94-2.06 2.06-.94-2.06-.94L8.5 2.5l-.94 2.06-2.06.94zm10 10l.94 2.06.94-2.06 2.06-.94-2.06-.94-.94-2.06-.94 2.06-2.06.94z\"/><path d=\"M17.41 7.96l-1.37-1.37c-.4-.4-.92-.59-1.43-.59-.52 0-1.04.2-1.43.59L10.3 9.45l-7.72 7.72c-.78.78-.78 2.05 0 2.83L4 21.41c.39.39.9.59 1.41.59.51 0 1.02-.2 1.41-.59l7.78-7.78 2.81-2.81c.8-.78.8-2.07 0-2.86zM5.41 20L4 18.59l7.72-7.72 1.47 1.35L5.41 20z\"/>\n",
              "  </svg>\n",
              "      </button>\n",
              "      \n",
              "  <style>\n",
              "    .colab-df-container {\n",
              "      display:flex;\n",
              "      flex-wrap:wrap;\n",
              "      gap: 12px;\n",
              "    }\n",
              "\n",
              "    .colab-df-convert {\n",
              "      background-color: #E8F0FE;\n",
              "      border: none;\n",
              "      border-radius: 50%;\n",
              "      cursor: pointer;\n",
              "      display: none;\n",
              "      fill: #1967D2;\n",
              "      height: 32px;\n",
              "      padding: 0 0 0 0;\n",
              "      width: 32px;\n",
              "    }\n",
              "\n",
              "    .colab-df-convert:hover {\n",
              "      background-color: #E2EBFA;\n",
              "      box-shadow: 0px 1px 2px rgba(60, 64, 67, 0.3), 0px 1px 3px 1px rgba(60, 64, 67, 0.15);\n",
              "      fill: #174EA6;\n",
              "    }\n",
              "\n",
              "    [theme=dark] .colab-df-convert {\n",
              "      background-color: #3B4455;\n",
              "      fill: #D2E3FC;\n",
              "    }\n",
              "\n",
              "    [theme=dark] .colab-df-convert:hover {\n",
              "      background-color: #434B5C;\n",
              "      box-shadow: 0px 1px 3px 1px rgba(0, 0, 0, 0.15);\n",
              "      filter: drop-shadow(0px 1px 2px rgba(0, 0, 0, 0.3));\n",
              "      fill: #FFFFFF;\n",
              "    }\n",
              "  </style>\n",
              "\n",
              "      <script>\n",
              "        const buttonEl =\n",
              "          document.querySelector('#df-749dbe54-e23f-4dca-86c4-6fa856e7f364 button.colab-df-convert');\n",
              "        buttonEl.style.display =\n",
              "          google.colab.kernel.accessAllowed ? 'block' : 'none';\n",
              "\n",
              "        async function convertToInteractive(key) {\n",
              "          const element = document.querySelector('#df-749dbe54-e23f-4dca-86c4-6fa856e7f364');\n",
              "          const dataTable =\n",
              "            await google.colab.kernel.invokeFunction('convertToInteractive',\n",
              "                                                     [key], {});\n",
              "          if (!dataTable) return;\n",
              "\n",
              "          const docLinkHtml = 'Like what you see? Visit the ' +\n",
              "            '<a target=\"_blank\" href=https://colab.research.google.com/notebooks/data_table.ipynb>data table notebook</a>'\n",
              "            + ' to learn more about interactive tables.';\n",
              "          element.innerHTML = '';\n",
              "          dataTable['output_type'] = 'display_data';\n",
              "          await google.colab.output.renderOutput(dataTable, element);\n",
              "          const docLink = document.createElement('div');\n",
              "          docLink.innerHTML = docLinkHtml;\n",
              "          element.appendChild(docLink);\n",
              "        }\n",
              "      </script>\n",
              "    </div>\n",
              "  </div>\n",
              "  "
            ]
          },
          "metadata": {},
          "execution_count": 33
        }
      ]
    },
    {
      "cell_type": "code",
      "source": [
        "df_train.describe()"
      ],
      "metadata": {
        "colab": {
          "base_uri": "https://localhost:8080/",
          "height": 297
        },
        "id": "q72G1_KjJNEC",
        "outputId": "7ff349e8-60e4-4657-ebd8-cba49d65277b"
      },
      "execution_count": 34,
      "outputs": [
        {
          "output_type": "execute_result",
          "data": {
            "text/plain": [
              "       median_income  percent_college  percent_lunch  percent_married  \\\n",
              "count    5781.000000      5781.000000    5781.000000      5781.000000   \n",
              "mean    53134.422407         0.573699       0.409149         0.642302   \n",
              "std     24822.908872         0.165777       0.233754         0.191123   \n",
              "min      1402.099191         0.120885       0.000000         0.000000   \n",
              "25%     37202.000000         0.453626       0.231783         0.535902   \n",
              "50%     47607.000000         0.559465       0.369536         0.672950   \n",
              "75%     62367.000000         0.682363       0.556985         0.781504   \n",
              "max    226181.000000         1.000000       0.998729         1.000000   \n",
              "\n",
              "       rate_unemployment  average_act  \n",
              "count        5781.000000  5781.000000  \n",
              "mean            0.096026    20.314764  \n",
              "std             0.056778     2.519850  \n",
              "min             0.000000    12.362637  \n",
              "25%             0.057427    18.800000  \n",
              "50%             0.083510    20.567766  \n",
              "75%             0.120820    22.000000  \n",
              "max             0.590278    32.362637  "
            ],
            "text/html": [
              "\n",
              "  <div id=\"df-563b603e-7780-4dc0-9072-81f1992f36b5\">\n",
              "    <div class=\"colab-df-container\">\n",
              "      <div>\n",
              "<style scoped>\n",
              "    .dataframe tbody tr th:only-of-type {\n",
              "        vertical-align: middle;\n",
              "    }\n",
              "\n",
              "    .dataframe tbody tr th {\n",
              "        vertical-align: top;\n",
              "    }\n",
              "\n",
              "    .dataframe thead th {\n",
              "        text-align: right;\n",
              "    }\n",
              "</style>\n",
              "<table border=\"1\" class=\"dataframe\">\n",
              "  <thead>\n",
              "    <tr style=\"text-align: right;\">\n",
              "      <th></th>\n",
              "      <th>median_income</th>\n",
              "      <th>percent_college</th>\n",
              "      <th>percent_lunch</th>\n",
              "      <th>percent_married</th>\n",
              "      <th>rate_unemployment</th>\n",
              "      <th>average_act</th>\n",
              "    </tr>\n",
              "  </thead>\n",
              "  <tbody>\n",
              "    <tr>\n",
              "      <th>count</th>\n",
              "      <td>5781.000000</td>\n",
              "      <td>5781.000000</td>\n",
              "      <td>5781.000000</td>\n",
              "      <td>5781.000000</td>\n",
              "      <td>5781.000000</td>\n",
              "      <td>5781.000000</td>\n",
              "    </tr>\n",
              "    <tr>\n",
              "      <th>mean</th>\n",
              "      <td>53134.422407</td>\n",
              "      <td>0.573699</td>\n",
              "      <td>0.409149</td>\n",
              "      <td>0.642302</td>\n",
              "      <td>0.096026</td>\n",
              "      <td>20.314764</td>\n",
              "    </tr>\n",
              "    <tr>\n",
              "      <th>std</th>\n",
              "      <td>24822.908872</td>\n",
              "      <td>0.165777</td>\n",
              "      <td>0.233754</td>\n",
              "      <td>0.191123</td>\n",
              "      <td>0.056778</td>\n",
              "      <td>2.519850</td>\n",
              "    </tr>\n",
              "    <tr>\n",
              "      <th>min</th>\n",
              "      <td>1402.099191</td>\n",
              "      <td>0.120885</td>\n",
              "      <td>0.000000</td>\n",
              "      <td>0.000000</td>\n",
              "      <td>0.000000</td>\n",
              "      <td>12.362637</td>\n",
              "    </tr>\n",
              "    <tr>\n",
              "      <th>25%</th>\n",
              "      <td>37202.000000</td>\n",
              "      <td>0.453626</td>\n",
              "      <td>0.231783</td>\n",
              "      <td>0.535902</td>\n",
              "      <td>0.057427</td>\n",
              "      <td>18.800000</td>\n",
              "    </tr>\n",
              "    <tr>\n",
              "      <th>50%</th>\n",
              "      <td>47607.000000</td>\n",
              "      <td>0.559465</td>\n",
              "      <td>0.369536</td>\n",
              "      <td>0.672950</td>\n",
              "      <td>0.083510</td>\n",
              "      <td>20.567766</td>\n",
              "    </tr>\n",
              "    <tr>\n",
              "      <th>75%</th>\n",
              "      <td>62367.000000</td>\n",
              "      <td>0.682363</td>\n",
              "      <td>0.556985</td>\n",
              "      <td>0.781504</td>\n",
              "      <td>0.120820</td>\n",
              "      <td>22.000000</td>\n",
              "    </tr>\n",
              "    <tr>\n",
              "      <th>max</th>\n",
              "      <td>226181.000000</td>\n",
              "      <td>1.000000</td>\n",
              "      <td>0.998729</td>\n",
              "      <td>1.000000</td>\n",
              "      <td>0.590278</td>\n",
              "      <td>32.362637</td>\n",
              "    </tr>\n",
              "  </tbody>\n",
              "</table>\n",
              "</div>\n",
              "      <button class=\"colab-df-convert\" onclick=\"convertToInteractive('df-563b603e-7780-4dc0-9072-81f1992f36b5')\"\n",
              "              title=\"Convert this dataframe to an interactive table.\"\n",
              "              style=\"display:none;\">\n",
              "        \n",
              "  <svg xmlns=\"http://www.w3.org/2000/svg\" height=\"24px\"viewBox=\"0 0 24 24\"\n",
              "       width=\"24px\">\n",
              "    <path d=\"M0 0h24v24H0V0z\" fill=\"none\"/>\n",
              "    <path d=\"M18.56 5.44l.94 2.06.94-2.06 2.06-.94-2.06-.94-.94-2.06-.94 2.06-2.06.94zm-11 1L8.5 8.5l.94-2.06 2.06-.94-2.06-.94L8.5 2.5l-.94 2.06-2.06.94zm10 10l.94 2.06.94-2.06 2.06-.94-2.06-.94-.94-2.06-.94 2.06-2.06.94z\"/><path d=\"M17.41 7.96l-1.37-1.37c-.4-.4-.92-.59-1.43-.59-.52 0-1.04.2-1.43.59L10.3 9.45l-7.72 7.72c-.78.78-.78 2.05 0 2.83L4 21.41c.39.39.9.59 1.41.59.51 0 1.02-.2 1.41-.59l7.78-7.78 2.81-2.81c.8-.78.8-2.07 0-2.86zM5.41 20L4 18.59l7.72-7.72 1.47 1.35L5.41 20z\"/>\n",
              "  </svg>\n",
              "      </button>\n",
              "      \n",
              "  <style>\n",
              "    .colab-df-container {\n",
              "      display:flex;\n",
              "      flex-wrap:wrap;\n",
              "      gap: 12px;\n",
              "    }\n",
              "\n",
              "    .colab-df-convert {\n",
              "      background-color: #E8F0FE;\n",
              "      border: none;\n",
              "      border-radius: 50%;\n",
              "      cursor: pointer;\n",
              "      display: none;\n",
              "      fill: #1967D2;\n",
              "      height: 32px;\n",
              "      padding: 0 0 0 0;\n",
              "      width: 32px;\n",
              "    }\n",
              "\n",
              "    .colab-df-convert:hover {\n",
              "      background-color: #E2EBFA;\n",
              "      box-shadow: 0px 1px 2px rgba(60, 64, 67, 0.3), 0px 1px 3px 1px rgba(60, 64, 67, 0.15);\n",
              "      fill: #174EA6;\n",
              "    }\n",
              "\n",
              "    [theme=dark] .colab-df-convert {\n",
              "      background-color: #3B4455;\n",
              "      fill: #D2E3FC;\n",
              "    }\n",
              "\n",
              "    [theme=dark] .colab-df-convert:hover {\n",
              "      background-color: #434B5C;\n",
              "      box-shadow: 0px 1px 3px 1px rgba(0, 0, 0, 0.15);\n",
              "      filter: drop-shadow(0px 1px 2px rgba(0, 0, 0, 0.3));\n",
              "      fill: #FFFFFF;\n",
              "    }\n",
              "  </style>\n",
              "\n",
              "      <script>\n",
              "        const buttonEl =\n",
              "          document.querySelector('#df-563b603e-7780-4dc0-9072-81f1992f36b5 button.colab-df-convert');\n",
              "        buttonEl.style.display =\n",
              "          google.colab.kernel.accessAllowed ? 'block' : 'none';\n",
              "\n",
              "        async function convertToInteractive(key) {\n",
              "          const element = document.querySelector('#df-563b603e-7780-4dc0-9072-81f1992f36b5');\n",
              "          const dataTable =\n",
              "            await google.colab.kernel.invokeFunction('convertToInteractive',\n",
              "                                                     [key], {});\n",
              "          if (!dataTable) return;\n",
              "\n",
              "          const docLinkHtml = 'Like what you see? Visit the ' +\n",
              "            '<a target=\"_blank\" href=https://colab.research.google.com/notebooks/data_table.ipynb>data table notebook</a>'\n",
              "            + ' to learn more about interactive tables.';\n",
              "          element.innerHTML = '';\n",
              "          dataTable['output_type'] = 'display_data';\n",
              "          await google.colab.output.renderOutput(dataTable, element);\n",
              "          const docLink = document.createElement('div');\n",
              "          docLink.innerHTML = docLinkHtml;\n",
              "          element.appendChild(docLink);\n",
              "        }\n",
              "      </script>\n",
              "    </div>\n",
              "  </div>\n",
              "  "
            ]
          },
          "metadata": {},
          "execution_count": 34
        }
      ]
    },
    {
      "cell_type": "code",
      "source": [
        "df_test = x_test.join(y_test)"
      ],
      "metadata": {
        "id": "R3ZTMta0wc_c"
      },
      "execution_count": 35,
      "outputs": []
    },
    {
      "cell_type": "markdown",
      "source": [
        "## Export the clean .csv files"
      ],
      "metadata": {
        "id": "oKGHtonZsZCM"
      }
    },
    {
      "cell_type": "markdown",
      "source": [
        "Export files with the training and testing data"
      ],
      "metadata": {
        "id": "OESlEp8tk2uD"
      }
    },
    {
      "cell_type": "code",
      "source": [
        "from google.colab import files\n",
        "\n",
        "df_train.to_csv('clean_education_inequality.csv', encoding = 'utf-8-sig', index=False) \n",
        "\n",
        "files.download('clean_education_inequality.csv')"
      ],
      "metadata": {
        "id": "lp0iLYOqKtbQ",
        "colab": {
          "base_uri": "https://localhost:8080/",
          "height": 17
        },
        "outputId": "c9e99bdf-0f4e-4b22-c0a1-08109eeb732d"
      },
      "execution_count": 36,
      "outputs": [
        {
          "output_type": "display_data",
          "data": {
            "text/plain": [
              "<IPython.core.display.Javascript object>"
            ],
            "application/javascript": [
              "\n",
              "    async function download(id, filename, size) {\n",
              "      if (!google.colab.kernel.accessAllowed) {\n",
              "        return;\n",
              "      }\n",
              "      const div = document.createElement('div');\n",
              "      const label = document.createElement('label');\n",
              "      label.textContent = `Downloading \"${filename}\": `;\n",
              "      div.appendChild(label);\n",
              "      const progress = document.createElement('progress');\n",
              "      progress.max = size;\n",
              "      div.appendChild(progress);\n",
              "      document.body.appendChild(div);\n",
              "\n",
              "      const buffers = [];\n",
              "      let downloaded = 0;\n",
              "\n",
              "      const channel = await google.colab.kernel.comms.open(id);\n",
              "      // Send a message to notify the kernel that we're ready.\n",
              "      channel.send({})\n",
              "\n",
              "      for await (const message of channel.messages) {\n",
              "        // Send a message to notify the kernel that we're ready.\n",
              "        channel.send({})\n",
              "        if (message.buffers) {\n",
              "          for (const buffer of message.buffers) {\n",
              "            buffers.push(buffer);\n",
              "            downloaded += buffer.byteLength;\n",
              "            progress.value = downloaded;\n",
              "          }\n",
              "        }\n",
              "      }\n",
              "      const blob = new Blob(buffers, {type: 'application/binary'});\n",
              "      const a = document.createElement('a');\n",
              "      a.href = window.URL.createObjectURL(blob);\n",
              "      a.download = filename;\n",
              "      div.appendChild(a);\n",
              "      a.click();\n",
              "      div.remove();\n",
              "    }\n",
              "  "
            ]
          },
          "metadata": {}
        },
        {
          "output_type": "display_data",
          "data": {
            "text/plain": [
              "<IPython.core.display.Javascript object>"
            ],
            "application/javascript": [
              "download(\"download_612a782e-c5c9-4c87-bb42-c65cc29bf43c\", \"clean_education_inequality.csv\", 753818)"
            ]
          },
          "metadata": {}
        }
      ]
    }
  ]
}