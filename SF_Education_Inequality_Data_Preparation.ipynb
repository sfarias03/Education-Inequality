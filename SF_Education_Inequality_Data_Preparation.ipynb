{
  "nbformat": 4,
  "nbformat_minor": 0,
  "metadata": {
    "colab": {
      "provenance": [],
      "include_colab_link": true
    },
    "kernelspec": {
      "name": "python3",
      "display_name": "Python 3"
    },
    "language_info": {
      "name": "python"
    }
  },
  "cells": [
    {
      "cell_type": "markdown",
      "metadata": {
        "id": "view-in-github",
        "colab_type": "text"
      },
      "source": [
        "<a href=\"https://colab.research.google.com/github/sfarias03/Education-Inequality/blob/main/SF_Education_Inequality_Data_Preparation.ipynb\" target=\"_parent\"><img src=\"https://colab.research.google.com/assets/colab-badge.svg\" alt=\"Open In Colab\"/></a>"
      ]
    },
    {
      "cell_type": "markdown",
      "source": [
        "## Introduction"
      ],
      "metadata": {
        "id": "cOSJyABoshOK"
      }
    },
    {
      "cell_type": "markdown",
      "source": [
        "This research project aims to address unequal access to education in American high schools by analyzing the performance of students in the ACT or SAT examinations. We will utilize the EdGap dataset from EdGap.org, which contains 2016 data on the average ACT or SAT scores of schools and socio-economic indicators of school districts, and supplement it with information from the National Center for Education Statistics. Through the use of Python and data visualization tools, we aim to uncover the factors contributing to unequal educational outcomes."
      ],
      "metadata": {
        "id": "26hIPGtBsi7g"
      }
    },
    {
      "cell_type": "markdown",
      "source": [
        "## Import libraries"
      ],
      "metadata": {
        "id": "dwvtDMCYlPus"
      }
    },
    {
      "cell_type": "code",
      "execution_count": 209,
      "metadata": {
        "id": "DQZAzYri_ru5"
      },
      "outputs": [],
      "source": [
        "import pandas as pd\n",
        "import numpy as np\n",
        "import matplotlib.pyplot as plt\n",
        "import seaborn as sns\n",
        "sns.set_theme(style='whitegrid')\n",
        "import missingno as msno\n",
        "\n",
        "# Train-test splits\n",
        "from sklearn.model_selection import train_test_split\n",
        "\n",
        "# Model preprocessing\n",
        "from sklearn.preprocessing import StandardScaler\n",
        "\n",
        "# Imputation\n",
        "from sklearn.experimental import enable_iterative_imputer\n",
        "from sklearn.impute import SimpleImputer, IterativeImputer, KNNImputer\n",
        "\n",
        "\n",
        "# Model preprocessing\n",
        "from sklearn import preprocessing\n",
        "from sklearn.preprocessing import PolynomialFeatures\n",
        "from sklearn.preprocessing import StandardScaler\n",
        "\n",
        "# Train-test splits\n",
        "from sklearn.model_selection import train_test_split, cross_val_score, GridSearchCV, KFold, RandomizedSearchCV\n",
        "\n",
        "# Models\n",
        "from sklearn import linear_model\n",
        "\n",
        "\n",
        "# Model metrics and analysis\n",
        "from sklearn.metrics import r2_score, mean_squared_error, mean_absolute_error"
      ]
    },
    {
      "cell_type": "markdown",
      "source": [
        "### EdGap data"
      ],
      "metadata": {
        "id": "HUbdlXjMchi-"
      }
    },
    {
      "cell_type": "markdown",
      "source": [
        "\n",
        "The Census Bureau's American Community Survey provides all socio-economic data, including household income, unemployment, adult educational attainment, and family structure. [EdGap.org](https://www.edgap.org/#5/37.875/-96.987) reports that ACT and SAT score data is sourced from each state's department of education or another public data release. Although the nature of the other public data release is unknown, the quality of the census data and department of education data is assumed to be reasonably high. While [EdGap.org](https://www.edgap.org/#5/37.875/-96.987) does not indicate any processing of the data, there is a possibility of human error since the data was assembled by the [EdGap.org](https://www.edgap.org/#5/37.875/-96.987) team. However, given the public nature of the data, original data sources can be consulted to verify the data's quality if necessary."
      ],
      "metadata": {
        "id": "JhRr1Z9Bcis6"
      }
    },
    {
      "cell_type": "markdown",
      "source": [
        "### School information data"
      ],
      "metadata": {
        "id": "6ahKtePYcbEZ"
      }
    },
    {
      "cell_type": "markdown",
      "source": [
        "[National Center for Education Statistics](https://nces.ed.gov/ccd/pubschuniv.asp) is the source of the school information data, which contains basic identifying information about schools and is assumed to be of reasonably high quality. \n"
      ],
      "metadata": {
        "id": "y7K1km9Tcdy3"
      }
    },
    {
      "cell_type": "markdown",
      "source": [
        "## Load the data"
      ],
      "metadata": {
        "id": "5qccuG8vy7Ja"
      }
    },
    {
      "cell_type": "code",
      "source": [
        "edgap = pd.read_excel('https://raw.githubusercontent.com/brian-fischer/DATA-3320/main/education/EdGap_data.xlsx')"
      ],
      "metadata": {
        "id": "iClV9MZBiY0r",
        "outputId": "167224f3-602a-4175-e6bd-2187c1e72b7d",
        "colab": {
          "base_uri": "https://localhost:8080/"
        }
      },
      "execution_count": 210,
      "outputs": [
        {
          "output_type": "stream",
          "name": "stderr",
          "text": [
            "/usr/local/lib/python3.9/dist-packages/openpyxl/worksheet/_reader.py:312: UserWarning: Unknown extension is not supported and will be removed\n",
            "  warn(msg)\n"
          ]
        }
      ]
    },
    {
      "cell_type": "code",
      "source": [
        "!wget https://www.dropbox.com/s/lkl5nvcdmwyoban/ccd_sch_029_1617_w_1a_11212017.csv?dl=0"
      ],
      "metadata": {
        "id": "4koKUuw4doCI",
        "outputId": "740f8924-ce17-496e-f78f-d28a1083e7bd",
        "colab": {
          "base_uri": "https://localhost:8080/"
        }
      },
      "execution_count": 211,
      "outputs": [
        {
          "output_type": "stream",
          "name": "stdout",
          "text": [
            "--2023-04-25 00:15:17--  https://www.dropbox.com/s/lkl5nvcdmwyoban/ccd_sch_029_1617_w_1a_11212017.csv?dl=0\n",
            "Resolving www.dropbox.com (www.dropbox.com)... 162.125.3.18, 2620:100:6018:18::a27d:312\n",
            "Connecting to www.dropbox.com (www.dropbox.com)|162.125.3.18|:443... connected.\n",
            "HTTP request sent, awaiting response... 302 Found\n",
            "Location: /s/raw/lkl5nvcdmwyoban/ccd_sch_029_1617_w_1a_11212017.csv [following]\n",
            "--2023-04-25 00:15:18--  https://www.dropbox.com/s/raw/lkl5nvcdmwyoban/ccd_sch_029_1617_w_1a_11212017.csv\n",
            "Reusing existing connection to www.dropbox.com:443.\n",
            "HTTP request sent, awaiting response... 302 Found\n",
            "Location: https://uc8a8e0cb35ef2a1e1d71327f60b.dl.dropboxusercontent.com/cd/0/inline/B60ENwiLb5Iq4wKhn0N8kcwZrQxVU4TTIbAWE2i9_vTJW7baQB5uOdYdGEltXtUjeaDO5hqWdWG5hY1k1wYY4I4XlLSrpmSYFg6nJLiFey7S0mmNWTls5VWvWaS4fUiE1oGRrFq_EDYlxDLsqDSmA1ZcyBUhRjIUwqQmcOQQrhPUWg/file# [following]\n",
            "--2023-04-25 00:15:18--  https://uc8a8e0cb35ef2a1e1d71327f60b.dl.dropboxusercontent.com/cd/0/inline/B60ENwiLb5Iq4wKhn0N8kcwZrQxVU4TTIbAWE2i9_vTJW7baQB5uOdYdGEltXtUjeaDO5hqWdWG5hY1k1wYY4I4XlLSrpmSYFg6nJLiFey7S0mmNWTls5VWvWaS4fUiE1oGRrFq_EDYlxDLsqDSmA1ZcyBUhRjIUwqQmcOQQrhPUWg/file\n",
            "Resolving uc8a8e0cb35ef2a1e1d71327f60b.dl.dropboxusercontent.com (uc8a8e0cb35ef2a1e1d71327f60b.dl.dropboxusercontent.com)... 162.125.3.15, 2620:100:6018:15::a27d:30f\n",
            "Connecting to uc8a8e0cb35ef2a1e1d71327f60b.dl.dropboxusercontent.com (uc8a8e0cb35ef2a1e1d71327f60b.dl.dropboxusercontent.com)|162.125.3.15|:443... connected.\n",
            "HTTP request sent, awaiting response... 200 OK\n",
            "Length: 40477083 (39M) [text/plain]\n",
            "Saving to: ‘ccd_sch_029_1617_w_1a_11212017.csv?dl=0.5’\n",
            "\n",
            "ccd_sch_029_1617_w_ 100%[===================>]  38.60M  36.2MB/s    in 1.1s    \n",
            "\n",
            "2023-04-25 00:15:20 (36.2 MB/s) - ‘ccd_sch_029_1617_w_1a_11212017.csv?dl=0.5’ saved [40477083/40477083]\n",
            "\n"
          ]
        }
      ]
    },
    {
      "cell_type": "code",
      "source": [
        "school_info = pd.read_csv('ccd_sch_029_1617_w_1a_11212017.csv?dl=0', encoding='unicode_escape')"
      ],
      "metadata": {
        "id": "baD6nLnsdrmj",
        "outputId": "34f980b8-5ecd-4315-d76c-6765823c54a8",
        "colab": {
          "base_uri": "https://localhost:8080/"
        }
      },
      "execution_count": 212,
      "outputs": [
        {
          "output_type": "stream",
          "name": "stderr",
          "text": [
            "<ipython-input-212-da1a7837c049>:1: DtypeWarning: Columns (6,9,14,15,18,19,21,22,25,26,29,31,35,39,41,42) have mixed types. Specify dtype option on import or set low_memory=False.\n",
            "  school_info = pd.read_csv('ccd_sch_029_1617_w_1a_11212017.csv?dl=0', encoding='unicode_escape')\n"
          ]
        }
      ]
    },
    {
      "cell_type": "markdown",
      "source": [
        "## Explore the contents of the data sets"
      ],
      "metadata": {
        "id": "OHVSgzXFd4nf"
      }
    },
    {
      "cell_type": "code",
      "source": [
        "edgap.head()"
      ],
      "metadata": {
        "id": "yMwJZ43VZRQv",
        "outputId": "a55cbcff-35a6-4648-928d-ca38a8f58898",
        "colab": {
          "base_uri": "https://localhost:8080/",
          "height": 282
        }
      },
      "execution_count": 213,
      "outputs": [
        {
          "output_type": "execute_result",
          "data": {
            "text/plain": [
              "   NCESSCH School ID  CT Unemployment Rate  CT Pct Adults with College Degree  \\\n",
              "0       100001600143              0.117962                           0.445283   \n",
              "1       100008000024              0.063984                           0.662765   \n",
              "2       100008000225              0.056460                           0.701864   \n",
              "3       100017000029              0.044739                           0.692062   \n",
              "4       100018000040              0.077014                           0.640060   \n",
              "\n",
              "   CT Pct Childre In Married Couple Family  CT Median Household Income  \\\n",
              "0                                 0.346495                     42820.0   \n",
              "1                                 0.767619                     89320.0   \n",
              "2                                 0.713090                     84140.0   \n",
              "3                                 0.641283                     56500.0   \n",
              "4                                 0.834402                     54015.0   \n",
              "\n",
              "   School ACT average (or equivalent if SAT score)  \\\n",
              "0                                        20.433455   \n",
              "1                                        19.498168   \n",
              "2                                        19.554335   \n",
              "3                                        17.737485   \n",
              "4                                        18.245421   \n",
              "\n",
              "   School Pct Free and Reduced Lunch  \n",
              "0                           0.066901  \n",
              "1                           0.112412  \n",
              "2                           0.096816  \n",
              "3                           0.296960  \n",
              "4                           0.262641  "
            ],
            "text/html": [
              "\n",
              "  <div id=\"df-b07b622b-9d23-4056-8c85-b891c69db423\">\n",
              "    <div class=\"colab-df-container\">\n",
              "      <div>\n",
              "<style scoped>\n",
              "    .dataframe tbody tr th:only-of-type {\n",
              "        vertical-align: middle;\n",
              "    }\n",
              "\n",
              "    .dataframe tbody tr th {\n",
              "        vertical-align: top;\n",
              "    }\n",
              "\n",
              "    .dataframe thead th {\n",
              "        text-align: right;\n",
              "    }\n",
              "</style>\n",
              "<table border=\"1\" class=\"dataframe\">\n",
              "  <thead>\n",
              "    <tr style=\"text-align: right;\">\n",
              "      <th></th>\n",
              "      <th>NCESSCH School ID</th>\n",
              "      <th>CT Unemployment Rate</th>\n",
              "      <th>CT Pct Adults with College Degree</th>\n",
              "      <th>CT Pct Childre In Married Couple Family</th>\n",
              "      <th>CT Median Household Income</th>\n",
              "      <th>School ACT average (or equivalent if SAT score)</th>\n",
              "      <th>School Pct Free and Reduced Lunch</th>\n",
              "    </tr>\n",
              "  </thead>\n",
              "  <tbody>\n",
              "    <tr>\n",
              "      <th>0</th>\n",
              "      <td>100001600143</td>\n",
              "      <td>0.117962</td>\n",
              "      <td>0.445283</td>\n",
              "      <td>0.346495</td>\n",
              "      <td>42820.0</td>\n",
              "      <td>20.433455</td>\n",
              "      <td>0.066901</td>\n",
              "    </tr>\n",
              "    <tr>\n",
              "      <th>1</th>\n",
              "      <td>100008000024</td>\n",
              "      <td>0.063984</td>\n",
              "      <td>0.662765</td>\n",
              "      <td>0.767619</td>\n",
              "      <td>89320.0</td>\n",
              "      <td>19.498168</td>\n",
              "      <td>0.112412</td>\n",
              "    </tr>\n",
              "    <tr>\n",
              "      <th>2</th>\n",
              "      <td>100008000225</td>\n",
              "      <td>0.056460</td>\n",
              "      <td>0.701864</td>\n",
              "      <td>0.713090</td>\n",
              "      <td>84140.0</td>\n",
              "      <td>19.554335</td>\n",
              "      <td>0.096816</td>\n",
              "    </tr>\n",
              "    <tr>\n",
              "      <th>3</th>\n",
              "      <td>100017000029</td>\n",
              "      <td>0.044739</td>\n",
              "      <td>0.692062</td>\n",
              "      <td>0.641283</td>\n",
              "      <td>56500.0</td>\n",
              "      <td>17.737485</td>\n",
              "      <td>0.296960</td>\n",
              "    </tr>\n",
              "    <tr>\n",
              "      <th>4</th>\n",
              "      <td>100018000040</td>\n",
              "      <td>0.077014</td>\n",
              "      <td>0.640060</td>\n",
              "      <td>0.834402</td>\n",
              "      <td>54015.0</td>\n",
              "      <td>18.245421</td>\n",
              "      <td>0.262641</td>\n",
              "    </tr>\n",
              "  </tbody>\n",
              "</table>\n",
              "</div>\n",
              "      <button class=\"colab-df-convert\" onclick=\"convertToInteractive('df-b07b622b-9d23-4056-8c85-b891c69db423')\"\n",
              "              title=\"Convert this dataframe to an interactive table.\"\n",
              "              style=\"display:none;\">\n",
              "        \n",
              "  <svg xmlns=\"http://www.w3.org/2000/svg\" height=\"24px\"viewBox=\"0 0 24 24\"\n",
              "       width=\"24px\">\n",
              "    <path d=\"M0 0h24v24H0V0z\" fill=\"none\"/>\n",
              "    <path d=\"M18.56 5.44l.94 2.06.94-2.06 2.06-.94-2.06-.94-.94-2.06-.94 2.06-2.06.94zm-11 1L8.5 8.5l.94-2.06 2.06-.94-2.06-.94L8.5 2.5l-.94 2.06-2.06.94zm10 10l.94 2.06.94-2.06 2.06-.94-2.06-.94-.94-2.06-.94 2.06-2.06.94z\"/><path d=\"M17.41 7.96l-1.37-1.37c-.4-.4-.92-.59-1.43-.59-.52 0-1.04.2-1.43.59L10.3 9.45l-7.72 7.72c-.78.78-.78 2.05 0 2.83L4 21.41c.39.39.9.59 1.41.59.51 0 1.02-.2 1.41-.59l7.78-7.78 2.81-2.81c.8-.78.8-2.07 0-2.86zM5.41 20L4 18.59l7.72-7.72 1.47 1.35L5.41 20z\"/>\n",
              "  </svg>\n",
              "      </button>\n",
              "      \n",
              "  <style>\n",
              "    .colab-df-container {\n",
              "      display:flex;\n",
              "      flex-wrap:wrap;\n",
              "      gap: 12px;\n",
              "    }\n",
              "\n",
              "    .colab-df-convert {\n",
              "      background-color: #E8F0FE;\n",
              "      border: none;\n",
              "      border-radius: 50%;\n",
              "      cursor: pointer;\n",
              "      display: none;\n",
              "      fill: #1967D2;\n",
              "      height: 32px;\n",
              "      padding: 0 0 0 0;\n",
              "      width: 32px;\n",
              "    }\n",
              "\n",
              "    .colab-df-convert:hover {\n",
              "      background-color: #E2EBFA;\n",
              "      box-shadow: 0px 1px 2px rgba(60, 64, 67, 0.3), 0px 1px 3px 1px rgba(60, 64, 67, 0.15);\n",
              "      fill: #174EA6;\n",
              "    }\n",
              "\n",
              "    [theme=dark] .colab-df-convert {\n",
              "      background-color: #3B4455;\n",
              "      fill: #D2E3FC;\n",
              "    }\n",
              "\n",
              "    [theme=dark] .colab-df-convert:hover {\n",
              "      background-color: #434B5C;\n",
              "      box-shadow: 0px 1px 3px 1px rgba(0, 0, 0, 0.15);\n",
              "      filter: drop-shadow(0px 1px 2px rgba(0, 0, 0, 0.3));\n",
              "      fill: #FFFFFF;\n",
              "    }\n",
              "  </style>\n",
              "\n",
              "      <script>\n",
              "        const buttonEl =\n",
              "          document.querySelector('#df-b07b622b-9d23-4056-8c85-b891c69db423 button.colab-df-convert');\n",
              "        buttonEl.style.display =\n",
              "          google.colab.kernel.accessAllowed ? 'block' : 'none';\n",
              "\n",
              "        async function convertToInteractive(key) {\n",
              "          const element = document.querySelector('#df-b07b622b-9d23-4056-8c85-b891c69db423');\n",
              "          const dataTable =\n",
              "            await google.colab.kernel.invokeFunction('convertToInteractive',\n",
              "                                                     [key], {});\n",
              "          if (!dataTable) return;\n",
              "\n",
              "          const docLinkHtml = 'Like what you see? Visit the ' +\n",
              "            '<a target=\"_blank\" href=https://colab.research.google.com/notebooks/data_table.ipynb>data table notebook</a>'\n",
              "            + ' to learn more about interactive tables.';\n",
              "          element.innerHTML = '';\n",
              "          dataTable['output_type'] = 'display_data';\n",
              "          await google.colab.output.renderOutput(dataTable, element);\n",
              "          const docLink = document.createElement('div');\n",
              "          docLink.innerHTML = docLinkHtml;\n",
              "          element.appendChild(docLink);\n",
              "        }\n",
              "      </script>\n",
              "    </div>\n",
              "  </div>\n",
              "  "
            ]
          },
          "metadata": {},
          "execution_count": 213
        }
      ]
    },
    {
      "cell_type": "code",
      "source": [
        "school_info.head()"
      ],
      "metadata": {
        "id": "iBUK1gkVZTTn",
        "outputId": "469d3958-266a-4c32-da69-6ee0d3fc5441",
        "colab": {
          "base_uri": "https://localhost:8080/",
          "height": 518
        }
      },
      "execution_count": 214,
      "outputs": [
        {
          "output_type": "execute_result",
          "data": {
            "text/plain": [
              "  SCHOOL_YEAR  FIPST STATENAME  ST                          SCH_NAME  \\\n",
              "0   2016-2017      1   ALABAMA  AL  Sequoyah Sch - Chalkville Campus   \n",
              "1   2016-2017      1   ALABAMA  AL                             Camps   \n",
              "2   2016-2017      1   ALABAMA  AL                           Det Ctr   \n",
              "3   2016-2017      1   ALABAMA  AL     Wallace Sch - Mt Meigs Campus   \n",
              "4   2016-2017      1   ALABAMA  AL         McNeel Sch - Vacca Campus   \n",
              "\n",
              "                 LEA_NAME STATE_AGENCY_NO  UNION ST_LEAID   LEAID  ...  \\\n",
              "0  Alabama Youth Services               1    NaN   AL-210  100002  ...   \n",
              "1  Alabama Youth Services               1    NaN   AL-210  100002  ...   \n",
              "2  Alabama Youth Services               1    NaN   AL-210  100002  ...   \n",
              "3  Alabama Youth Services               1    NaN   AL-210  100002  ...   \n",
              "4  Alabama Youth Services               1    NaN   AL-210  100002  ...   \n",
              "\n",
              "  G_10_OFFERED  G_11_OFFERED  G_12_OFFERED G_13_OFFERED G_UG_OFFERED  \\\n",
              "0          Yes           Yes           Yes           No           No   \n",
              "1          Yes           Yes           Yes           No           No   \n",
              "2          Yes           Yes           Yes           No           No   \n",
              "3          Yes           Yes           Yes           No           No   \n",
              "4          Yes           Yes           Yes           No           No   \n",
              "\n",
              "  G_AE_OFFERED GSLO GSHI LEVEL    IGOFFERED  \n",
              "0           No   07   12  High  As reported  \n",
              "1           No   07   12  High  As reported  \n",
              "2           No   07   12  High  As reported  \n",
              "3           No   07   12  High  As reported  \n",
              "4           No   07   12  High  As reported  \n",
              "\n",
              "[5 rows x 65 columns]"
            ],
            "text/html": [
              "\n",
              "  <div id=\"df-ead0929c-b93f-463b-854d-0dc3f07b6ace\">\n",
              "    <div class=\"colab-df-container\">\n",
              "      <div>\n",
              "<style scoped>\n",
              "    .dataframe tbody tr th:only-of-type {\n",
              "        vertical-align: middle;\n",
              "    }\n",
              "\n",
              "    .dataframe tbody tr th {\n",
              "        vertical-align: top;\n",
              "    }\n",
              "\n",
              "    .dataframe thead th {\n",
              "        text-align: right;\n",
              "    }\n",
              "</style>\n",
              "<table border=\"1\" class=\"dataframe\">\n",
              "  <thead>\n",
              "    <tr style=\"text-align: right;\">\n",
              "      <th></th>\n",
              "      <th>SCHOOL_YEAR</th>\n",
              "      <th>FIPST</th>\n",
              "      <th>STATENAME</th>\n",
              "      <th>ST</th>\n",
              "      <th>SCH_NAME</th>\n",
              "      <th>LEA_NAME</th>\n",
              "      <th>STATE_AGENCY_NO</th>\n",
              "      <th>UNION</th>\n",
              "      <th>ST_LEAID</th>\n",
              "      <th>LEAID</th>\n",
              "      <th>...</th>\n",
              "      <th>G_10_OFFERED</th>\n",
              "      <th>G_11_OFFERED</th>\n",
              "      <th>G_12_OFFERED</th>\n",
              "      <th>G_13_OFFERED</th>\n",
              "      <th>G_UG_OFFERED</th>\n",
              "      <th>G_AE_OFFERED</th>\n",
              "      <th>GSLO</th>\n",
              "      <th>GSHI</th>\n",
              "      <th>LEVEL</th>\n",
              "      <th>IGOFFERED</th>\n",
              "    </tr>\n",
              "  </thead>\n",
              "  <tbody>\n",
              "    <tr>\n",
              "      <th>0</th>\n",
              "      <td>2016-2017</td>\n",
              "      <td>1</td>\n",
              "      <td>ALABAMA</td>\n",
              "      <td>AL</td>\n",
              "      <td>Sequoyah Sch - Chalkville Campus</td>\n",
              "      <td>Alabama Youth Services</td>\n",
              "      <td>1</td>\n",
              "      <td>NaN</td>\n",
              "      <td>AL-210</td>\n",
              "      <td>100002</td>\n",
              "      <td>...</td>\n",
              "      <td>Yes</td>\n",
              "      <td>Yes</td>\n",
              "      <td>Yes</td>\n",
              "      <td>No</td>\n",
              "      <td>No</td>\n",
              "      <td>No</td>\n",
              "      <td>07</td>\n",
              "      <td>12</td>\n",
              "      <td>High</td>\n",
              "      <td>As reported</td>\n",
              "    </tr>\n",
              "    <tr>\n",
              "      <th>1</th>\n",
              "      <td>2016-2017</td>\n",
              "      <td>1</td>\n",
              "      <td>ALABAMA</td>\n",
              "      <td>AL</td>\n",
              "      <td>Camps</td>\n",
              "      <td>Alabama Youth Services</td>\n",
              "      <td>1</td>\n",
              "      <td>NaN</td>\n",
              "      <td>AL-210</td>\n",
              "      <td>100002</td>\n",
              "      <td>...</td>\n",
              "      <td>Yes</td>\n",
              "      <td>Yes</td>\n",
              "      <td>Yes</td>\n",
              "      <td>No</td>\n",
              "      <td>No</td>\n",
              "      <td>No</td>\n",
              "      <td>07</td>\n",
              "      <td>12</td>\n",
              "      <td>High</td>\n",
              "      <td>As reported</td>\n",
              "    </tr>\n",
              "    <tr>\n",
              "      <th>2</th>\n",
              "      <td>2016-2017</td>\n",
              "      <td>1</td>\n",
              "      <td>ALABAMA</td>\n",
              "      <td>AL</td>\n",
              "      <td>Det Ctr</td>\n",
              "      <td>Alabama Youth Services</td>\n",
              "      <td>1</td>\n",
              "      <td>NaN</td>\n",
              "      <td>AL-210</td>\n",
              "      <td>100002</td>\n",
              "      <td>...</td>\n",
              "      <td>Yes</td>\n",
              "      <td>Yes</td>\n",
              "      <td>Yes</td>\n",
              "      <td>No</td>\n",
              "      <td>No</td>\n",
              "      <td>No</td>\n",
              "      <td>07</td>\n",
              "      <td>12</td>\n",
              "      <td>High</td>\n",
              "      <td>As reported</td>\n",
              "    </tr>\n",
              "    <tr>\n",
              "      <th>3</th>\n",
              "      <td>2016-2017</td>\n",
              "      <td>1</td>\n",
              "      <td>ALABAMA</td>\n",
              "      <td>AL</td>\n",
              "      <td>Wallace Sch - Mt Meigs Campus</td>\n",
              "      <td>Alabama Youth Services</td>\n",
              "      <td>1</td>\n",
              "      <td>NaN</td>\n",
              "      <td>AL-210</td>\n",
              "      <td>100002</td>\n",
              "      <td>...</td>\n",
              "      <td>Yes</td>\n",
              "      <td>Yes</td>\n",
              "      <td>Yes</td>\n",
              "      <td>No</td>\n",
              "      <td>No</td>\n",
              "      <td>No</td>\n",
              "      <td>07</td>\n",
              "      <td>12</td>\n",
              "      <td>High</td>\n",
              "      <td>As reported</td>\n",
              "    </tr>\n",
              "    <tr>\n",
              "      <th>4</th>\n",
              "      <td>2016-2017</td>\n",
              "      <td>1</td>\n",
              "      <td>ALABAMA</td>\n",
              "      <td>AL</td>\n",
              "      <td>McNeel Sch - Vacca Campus</td>\n",
              "      <td>Alabama Youth Services</td>\n",
              "      <td>1</td>\n",
              "      <td>NaN</td>\n",
              "      <td>AL-210</td>\n",
              "      <td>100002</td>\n",
              "      <td>...</td>\n",
              "      <td>Yes</td>\n",
              "      <td>Yes</td>\n",
              "      <td>Yes</td>\n",
              "      <td>No</td>\n",
              "      <td>No</td>\n",
              "      <td>No</td>\n",
              "      <td>07</td>\n",
              "      <td>12</td>\n",
              "      <td>High</td>\n",
              "      <td>As reported</td>\n",
              "    </tr>\n",
              "  </tbody>\n",
              "</table>\n",
              "<p>5 rows × 65 columns</p>\n",
              "</div>\n",
              "      <button class=\"colab-df-convert\" onclick=\"convertToInteractive('df-ead0929c-b93f-463b-854d-0dc3f07b6ace')\"\n",
              "              title=\"Convert this dataframe to an interactive table.\"\n",
              "              style=\"display:none;\">\n",
              "        \n",
              "  <svg xmlns=\"http://www.w3.org/2000/svg\" height=\"24px\"viewBox=\"0 0 24 24\"\n",
              "       width=\"24px\">\n",
              "    <path d=\"M0 0h24v24H0V0z\" fill=\"none\"/>\n",
              "    <path d=\"M18.56 5.44l.94 2.06.94-2.06 2.06-.94-2.06-.94-.94-2.06-.94 2.06-2.06.94zm-11 1L8.5 8.5l.94-2.06 2.06-.94-2.06-.94L8.5 2.5l-.94 2.06-2.06.94zm10 10l.94 2.06.94-2.06 2.06-.94-2.06-.94-.94-2.06-.94 2.06-2.06.94z\"/><path d=\"M17.41 7.96l-1.37-1.37c-.4-.4-.92-.59-1.43-.59-.52 0-1.04.2-1.43.59L10.3 9.45l-7.72 7.72c-.78.78-.78 2.05 0 2.83L4 21.41c.39.39.9.59 1.41.59.51 0 1.02-.2 1.41-.59l7.78-7.78 2.81-2.81c.8-.78.8-2.07 0-2.86zM5.41 20L4 18.59l7.72-7.72 1.47 1.35L5.41 20z\"/>\n",
              "  </svg>\n",
              "      </button>\n",
              "      \n",
              "  <style>\n",
              "    .colab-df-container {\n",
              "      display:flex;\n",
              "      flex-wrap:wrap;\n",
              "      gap: 12px;\n",
              "    }\n",
              "\n",
              "    .colab-df-convert {\n",
              "      background-color: #E8F0FE;\n",
              "      border: none;\n",
              "      border-radius: 50%;\n",
              "      cursor: pointer;\n",
              "      display: none;\n",
              "      fill: #1967D2;\n",
              "      height: 32px;\n",
              "      padding: 0 0 0 0;\n",
              "      width: 32px;\n",
              "    }\n",
              "\n",
              "    .colab-df-convert:hover {\n",
              "      background-color: #E2EBFA;\n",
              "      box-shadow: 0px 1px 2px rgba(60, 64, 67, 0.3), 0px 1px 3px 1px rgba(60, 64, 67, 0.15);\n",
              "      fill: #174EA6;\n",
              "    }\n",
              "\n",
              "    [theme=dark] .colab-df-convert {\n",
              "      background-color: #3B4455;\n",
              "      fill: #D2E3FC;\n",
              "    }\n",
              "\n",
              "    [theme=dark] .colab-df-convert:hover {\n",
              "      background-color: #434B5C;\n",
              "      box-shadow: 0px 1px 3px 1px rgba(0, 0, 0, 0.15);\n",
              "      filter: drop-shadow(0px 1px 2px rgba(0, 0, 0, 0.3));\n",
              "      fill: #FFFFFF;\n",
              "    }\n",
              "  </style>\n",
              "\n",
              "      <script>\n",
              "        const buttonEl =\n",
              "          document.querySelector('#df-ead0929c-b93f-463b-854d-0dc3f07b6ace button.colab-df-convert');\n",
              "        buttonEl.style.display =\n",
              "          google.colab.kernel.accessAllowed ? 'block' : 'none';\n",
              "\n",
              "        async function convertToInteractive(key) {\n",
              "          const element = document.querySelector('#df-ead0929c-b93f-463b-854d-0dc3f07b6ace');\n",
              "          const dataTable =\n",
              "            await google.colab.kernel.invokeFunction('convertToInteractive',\n",
              "                                                     [key], {});\n",
              "          if (!dataTable) return;\n",
              "\n",
              "          const docLinkHtml = 'Like what you see? Visit the ' +\n",
              "            '<a target=\"_blank\" href=https://colab.research.google.com/notebooks/data_table.ipynb>data table notebook</a>'\n",
              "            + ' to learn more about interactive tables.';\n",
              "          element.innerHTML = '';\n",
              "          dataTable['output_type'] = 'display_data';\n",
              "          await google.colab.output.renderOutput(dataTable, element);\n",
              "          const docLink = document.createElement('div');\n",
              "          docLink.innerHTML = docLinkHtml;\n",
              "          element.appendChild(docLink);\n",
              "        }\n",
              "      </script>\n",
              "    </div>\n",
              "  </div>\n",
              "  "
            ]
          },
          "metadata": {},
          "execution_count": 214
        }
      ]
    },
    {
      "cell_type": "markdown",
      "source": [
        "## Convert data types, if necessary"
      ],
      "metadata": {
        "id": "kTG4W94-irIA"
      }
    },
    {
      "cell_type": "markdown",
      "source": [
        "As we plan for the next step, we aim to merge the DataFrames using the school's identity as the key, identified by the NCESSCH school identity. However, the two DataFrames refer to this identity by different names and formats, with the EdGap data set using int64 and the school information data set using float64. To address this, we will convert the NCESSCH column in the school_info DataFrame to int64. It is important to note that we will need to drop rows where NCESSCH is a NaN value before performing the conversion."
      ],
      "metadata": {
        "id": "yXwfMwEsqYMH"
      }
    },
    {
      "cell_type": "code",
      "source": [
        "school_info = school_info[school_info['NCESSCH'].isna() == False]"
      ],
      "metadata": {
        "id": "-ZhYbN5oqoSp"
      },
      "execution_count": 215,
      "outputs": []
    },
    {
      "cell_type": "code",
      "source": [
        "school_info['NCESSCH'] = school_info['NCESSCH'].astype('int64')"
      ],
      "metadata": {
        "id": "jTP5Fl97ep7k",
        "colab": {
          "base_uri": "https://localhost:8080/"
        },
        "outputId": "ccfea33d-8b97-42e3-c01b-d202ff2ac099"
      },
      "execution_count": 216,
      "outputs": [
        {
          "output_type": "stream",
          "name": "stderr",
          "text": [
            "<ipython-input-216-006ea9997674>:1: SettingWithCopyWarning: \n",
            "A value is trying to be set on a copy of a slice from a DataFrame.\n",
            "Try using .loc[row_indexer,col_indexer] = value instead\n",
            "\n",
            "See the caveats in the documentation: https://pandas.pydata.org/pandas-docs/stable/user_guide/indexing.html#returning-a-view-versus-a-copy\n",
            "  school_info['NCESSCH'] = school_info['NCESSCH'].astype('int64')\n"
          ]
        }
      ]
    },
    {
      "cell_type": "markdown",
      "source": [
        "Following this, we will proceed to select specific portions of the data that are relevant to our analysis."
      ],
      "metadata": {
        "id": "gzmpKBTUq_DB"
      }
    },
    {
      "cell_type": "markdown",
      "source": [
        "## Select relevant subsets of the data"
      ],
      "metadata": {
        "id": "HbsdH56_ijIS"
      }
    },
    {
      "cell_type": "markdown",
      "source": [
        "Since the school information data set contains a lot of information. We only need the year, school identity, location, and school type information.\n",
        "\n"
      ],
      "metadata": {
        "id": "pkgfwkedip-C"
      }
    },
    {
      "cell_type": "code",
      "source": [
        "school_info = school_info[['SCHOOL_YEAR', 'NCESSCH', 'MSTATE', 'MZIP', 'SCH_TYPE_TEXT', 'LEVEL']]"
      ],
      "metadata": {
        "id": "k6gPjysCiVu7"
      },
      "execution_count": 217,
      "outputs": []
    },
    {
      "cell_type": "markdown",
      "source": [
        "## Rename columns"
      ],
      "metadata": {
        "id": "3wvK6vF-85aX"
      }
    },
    {
      "cell_type": "code",
      "source": [
        "edgap = edgap.rename(columns={\"NCESSCH School ID\":\"id\", \n",
        "              \"CT Pct Adults with College Degree\":\"percent_college\",        \n",
        "              \"CT Unemployment Rate\":\"rate_unemployment\", \n",
        "              \"CT Pct Childre In Married Couple Family\":\"percent_married\",\n",
        "              \"CT Median Household Income\":\"median_income\",\n",
        "              \"School ACT average (or equivalent if SAT score)\":\"average_act\",\n",
        "              \"School Pct Free and Reduced Lunch\":\"percent_lunch\"})"
      ],
      "metadata": {
        "id": "OXpbbI-v9QSY"
      },
      "execution_count": 218,
      "outputs": []
    },
    {
      "cell_type": "code",
      "source": [
        "school_info = school_info.rename(columns={'SCHOOL_YEAR':'year', \n",
        "                                          'NCESSCH':'id', \n",
        "                                          'MSTATE':'state',\n",
        "                                          'MZIP':'zip_code',\n",
        "                                          'SCH_TYPE_TEXT':'school_type',\n",
        "                                          'LEVEL':'school_level'})"
      ],
      "metadata": {
        "id": "m1Z4ZDeLGbuq"
      },
      "execution_count": 219,
      "outputs": []
    },
    {
      "cell_type": "markdown",
      "source": [
        "## Join data frames "
      ],
      "metadata": {
        "id": "BkCnFJdVryvv"
      }
    },
    {
      "cell_type": "code",
      "source": [
        "df = edgap.merge(school_info, how = 'left', on='id')"
      ],
      "metadata": {
        "id": "krg0NaeEFeR2"
      },
      "execution_count": 220,
      "outputs": []
    },
    {
      "cell_type": "markdown",
      "source": [
        "## Quality Control"
      ],
      "metadata": {
        "id": "OgPjzVV5jbI9"
      }
    },
    {
      "cell_type": "markdown",
      "source": [
        "Next we will check for out-of-range values or values that do not match what we want to analyze. "
      ],
      "metadata": {
        "id": "tJqkbbiNjgxZ"
      }
    },
    {
      "cell_type": "code",
      "source": [
        "df.describe()"
      ],
      "metadata": {
        "colab": {
          "base_uri": "https://localhost:8080/",
          "height": 297
        },
        "id": "gH1FO-2mFUlo",
        "outputId": "3ceb7ef5-7f8a-4566-de4f-f5ec59707a3a"
      },
      "execution_count": 221,
      "outputs": [
        {
          "output_type": "execute_result",
          "data": {
            "text/plain": [
              "                 id  rate_unemployment  percent_college  percent_married  \\\n",
              "count  7.986000e+03        7972.000000      7973.000000      7961.000000   \n",
              "mean   3.321869e+11           0.098730         0.568930         0.633440   \n",
              "std    1.323638e+11           0.058959         0.165704         0.196764   \n",
              "min    1.000016e+11           0.000000         0.091493         0.000000   \n",
              "25%    2.105340e+11           0.058655         0.450828         0.523810   \n",
              "50%    3.600085e+11           0.085649         0.554979         0.667594   \n",
              "75%    4.226678e+11           0.123376         0.676571         0.777135   \n",
              "max    5.605830e+11           0.590278         1.000000         1.000000   \n",
              "\n",
              "       median_income  average_act  percent_lunch  \n",
              "count    7966.000000  7986.000000    7986.000000  \n",
              "mean    52026.905222    20.181532       0.420651  \n",
              "std     24228.057079     2.595201       0.239754  \n",
              "min      3589.000000    -3.070818      -0.054545  \n",
              "25%     36597.250000    18.600000       0.238501  \n",
              "50%     46833.500000    20.400000       0.381570  \n",
              "75%     61369.250000    21.910867       0.575447  \n",
              "max    226181.000000    32.362637       0.998729  "
            ],
            "text/html": [
              "\n",
              "  <div id=\"df-32b2d43b-1f46-4895-a3d5-8f9183d0e357\">\n",
              "    <div class=\"colab-df-container\">\n",
              "      <div>\n",
              "<style scoped>\n",
              "    .dataframe tbody tr th:only-of-type {\n",
              "        vertical-align: middle;\n",
              "    }\n",
              "\n",
              "    .dataframe tbody tr th {\n",
              "        vertical-align: top;\n",
              "    }\n",
              "\n",
              "    .dataframe thead th {\n",
              "        text-align: right;\n",
              "    }\n",
              "</style>\n",
              "<table border=\"1\" class=\"dataframe\">\n",
              "  <thead>\n",
              "    <tr style=\"text-align: right;\">\n",
              "      <th></th>\n",
              "      <th>id</th>\n",
              "      <th>rate_unemployment</th>\n",
              "      <th>percent_college</th>\n",
              "      <th>percent_married</th>\n",
              "      <th>median_income</th>\n",
              "      <th>average_act</th>\n",
              "      <th>percent_lunch</th>\n",
              "    </tr>\n",
              "  </thead>\n",
              "  <tbody>\n",
              "    <tr>\n",
              "      <th>count</th>\n",
              "      <td>7.986000e+03</td>\n",
              "      <td>7972.000000</td>\n",
              "      <td>7973.000000</td>\n",
              "      <td>7961.000000</td>\n",
              "      <td>7966.000000</td>\n",
              "      <td>7986.000000</td>\n",
              "      <td>7986.000000</td>\n",
              "    </tr>\n",
              "    <tr>\n",
              "      <th>mean</th>\n",
              "      <td>3.321869e+11</td>\n",
              "      <td>0.098730</td>\n",
              "      <td>0.568930</td>\n",
              "      <td>0.633440</td>\n",
              "      <td>52026.905222</td>\n",
              "      <td>20.181532</td>\n",
              "      <td>0.420651</td>\n",
              "    </tr>\n",
              "    <tr>\n",
              "      <th>std</th>\n",
              "      <td>1.323638e+11</td>\n",
              "      <td>0.058959</td>\n",
              "      <td>0.165704</td>\n",
              "      <td>0.196764</td>\n",
              "      <td>24228.057079</td>\n",
              "      <td>2.595201</td>\n",
              "      <td>0.239754</td>\n",
              "    </tr>\n",
              "    <tr>\n",
              "      <th>min</th>\n",
              "      <td>1.000016e+11</td>\n",
              "      <td>0.000000</td>\n",
              "      <td>0.091493</td>\n",
              "      <td>0.000000</td>\n",
              "      <td>3589.000000</td>\n",
              "      <td>-3.070818</td>\n",
              "      <td>-0.054545</td>\n",
              "    </tr>\n",
              "    <tr>\n",
              "      <th>25%</th>\n",
              "      <td>2.105340e+11</td>\n",
              "      <td>0.058655</td>\n",
              "      <td>0.450828</td>\n",
              "      <td>0.523810</td>\n",
              "      <td>36597.250000</td>\n",
              "      <td>18.600000</td>\n",
              "      <td>0.238501</td>\n",
              "    </tr>\n",
              "    <tr>\n",
              "      <th>50%</th>\n",
              "      <td>3.600085e+11</td>\n",
              "      <td>0.085649</td>\n",
              "      <td>0.554979</td>\n",
              "      <td>0.667594</td>\n",
              "      <td>46833.500000</td>\n",
              "      <td>20.400000</td>\n",
              "      <td>0.381570</td>\n",
              "    </tr>\n",
              "    <tr>\n",
              "      <th>75%</th>\n",
              "      <td>4.226678e+11</td>\n",
              "      <td>0.123376</td>\n",
              "      <td>0.676571</td>\n",
              "      <td>0.777135</td>\n",
              "      <td>61369.250000</td>\n",
              "      <td>21.910867</td>\n",
              "      <td>0.575447</td>\n",
              "    </tr>\n",
              "    <tr>\n",
              "      <th>max</th>\n",
              "      <td>5.605830e+11</td>\n",
              "      <td>0.590278</td>\n",
              "      <td>1.000000</td>\n",
              "      <td>1.000000</td>\n",
              "      <td>226181.000000</td>\n",
              "      <td>32.362637</td>\n",
              "      <td>0.998729</td>\n",
              "    </tr>\n",
              "  </tbody>\n",
              "</table>\n",
              "</div>\n",
              "      <button class=\"colab-df-convert\" onclick=\"convertToInteractive('df-32b2d43b-1f46-4895-a3d5-8f9183d0e357')\"\n",
              "              title=\"Convert this dataframe to an interactive table.\"\n",
              "              style=\"display:none;\">\n",
              "        \n",
              "  <svg xmlns=\"http://www.w3.org/2000/svg\" height=\"24px\"viewBox=\"0 0 24 24\"\n",
              "       width=\"24px\">\n",
              "    <path d=\"M0 0h24v24H0V0z\" fill=\"none\"/>\n",
              "    <path d=\"M18.56 5.44l.94 2.06.94-2.06 2.06-.94-2.06-.94-.94-2.06-.94 2.06-2.06.94zm-11 1L8.5 8.5l.94-2.06 2.06-.94-2.06-.94L8.5 2.5l-.94 2.06-2.06.94zm10 10l.94 2.06.94-2.06 2.06-.94-2.06-.94-.94-2.06-.94 2.06-2.06.94z\"/><path d=\"M17.41 7.96l-1.37-1.37c-.4-.4-.92-.59-1.43-.59-.52 0-1.04.2-1.43.59L10.3 9.45l-7.72 7.72c-.78.78-.78 2.05 0 2.83L4 21.41c.39.39.9.59 1.41.59.51 0 1.02-.2 1.41-.59l7.78-7.78 2.81-2.81c.8-.78.8-2.07 0-2.86zM5.41 20L4 18.59l7.72-7.72 1.47 1.35L5.41 20z\"/>\n",
              "  </svg>\n",
              "      </button>\n",
              "      \n",
              "  <style>\n",
              "    .colab-df-container {\n",
              "      display:flex;\n",
              "      flex-wrap:wrap;\n",
              "      gap: 12px;\n",
              "    }\n",
              "\n",
              "    .colab-df-convert {\n",
              "      background-color: #E8F0FE;\n",
              "      border: none;\n",
              "      border-radius: 50%;\n",
              "      cursor: pointer;\n",
              "      display: none;\n",
              "      fill: #1967D2;\n",
              "      height: 32px;\n",
              "      padding: 0 0 0 0;\n",
              "      width: 32px;\n",
              "    }\n",
              "\n",
              "    .colab-df-convert:hover {\n",
              "      background-color: #E2EBFA;\n",
              "      box-shadow: 0px 1px 2px rgba(60, 64, 67, 0.3), 0px 1px 3px 1px rgba(60, 64, 67, 0.15);\n",
              "      fill: #174EA6;\n",
              "    }\n",
              "\n",
              "    [theme=dark] .colab-df-convert {\n",
              "      background-color: #3B4455;\n",
              "      fill: #D2E3FC;\n",
              "    }\n",
              "\n",
              "    [theme=dark] .colab-df-convert:hover {\n",
              "      background-color: #434B5C;\n",
              "      box-shadow: 0px 1px 3px 1px rgba(0, 0, 0, 0.15);\n",
              "      filter: drop-shadow(0px 1px 2px rgba(0, 0, 0, 0.3));\n",
              "      fill: #FFFFFF;\n",
              "    }\n",
              "  </style>\n",
              "\n",
              "      <script>\n",
              "        const buttonEl =\n",
              "          document.querySelector('#df-32b2d43b-1f46-4895-a3d5-8f9183d0e357 button.colab-df-convert');\n",
              "        buttonEl.style.display =\n",
              "          google.colab.kernel.accessAllowed ? 'block' : 'none';\n",
              "\n",
              "        async function convertToInteractive(key) {\n",
              "          const element = document.querySelector('#df-32b2d43b-1f46-4895-a3d5-8f9183d0e357');\n",
              "          const dataTable =\n",
              "            await google.colab.kernel.invokeFunction('convertToInteractive',\n",
              "                                                     [key], {});\n",
              "          if (!dataTable) return;\n",
              "\n",
              "          const docLinkHtml = 'Like what you see? Visit the ' +\n",
              "            '<a target=\"_blank\" href=https://colab.research.google.com/notebooks/data_table.ipynb>data table notebook</a>'\n",
              "            + ' to learn more about interactive tables.';\n",
              "          element.innerHTML = '';\n",
              "          dataTable['output_type'] = 'display_data';\n",
              "          await google.colab.output.renderOutput(dataTable, element);\n",
              "          const docLink = document.createElement('div');\n",
              "          docLink.innerHTML = docLinkHtml;\n",
              "          element.appendChild(docLink);\n",
              "        }\n",
              "      </script>\n",
              "    </div>\n",
              "  </div>\n",
              "  "
            ]
          },
          "metadata": {},
          "execution_count": 221
        }
      ]
    },
    {
      "cell_type": "code",
      "source": [
        "df.agg(['min', 'max']).round(2)"
      ],
      "metadata": {
        "colab": {
          "base_uri": "https://localhost:8080/",
          "height": 165
        },
        "id": "TqShq3anICR7",
        "outputId": "afb2814d-52e1-4ade-814f-5edb37cf9def"
      },
      "execution_count": 222,
      "outputs": [
        {
          "output_type": "stream",
          "name": "stderr",
          "text": [
            "<ipython-input-222-39a2038683d4>:1: FutureWarning: ['year', 'state', 'zip_code', 'school_type', 'school_level'] did not aggregate successfully. If any error is raised this will raise in a future version of pandas. Drop these columns/ops to avoid this warning.\n",
            "  df.agg(['min', 'max']).round(2)\n"
          ]
        },
        {
          "output_type": "execute_result",
          "data": {
            "text/plain": [
              "               id  rate_unemployment  percent_college  percent_married  \\\n",
              "min  100001600143               0.00             0.09              0.0   \n",
              "max  560583000335               0.59             1.00              1.0   \n",
              "\n",
              "     median_income  average_act  percent_lunch  \n",
              "min         3589.0        -3.07          -0.05  \n",
              "max       226181.0        32.36           1.00  "
            ],
            "text/html": [
              "\n",
              "  <div id=\"df-d92628c2-7597-43a2-855c-0b84265ececf\">\n",
              "    <div class=\"colab-df-container\">\n",
              "      <div>\n",
              "<style scoped>\n",
              "    .dataframe tbody tr th:only-of-type {\n",
              "        vertical-align: middle;\n",
              "    }\n",
              "\n",
              "    .dataframe tbody tr th {\n",
              "        vertical-align: top;\n",
              "    }\n",
              "\n",
              "    .dataframe thead th {\n",
              "        text-align: right;\n",
              "    }\n",
              "</style>\n",
              "<table border=\"1\" class=\"dataframe\">\n",
              "  <thead>\n",
              "    <tr style=\"text-align: right;\">\n",
              "      <th></th>\n",
              "      <th>id</th>\n",
              "      <th>rate_unemployment</th>\n",
              "      <th>percent_college</th>\n",
              "      <th>percent_married</th>\n",
              "      <th>median_income</th>\n",
              "      <th>average_act</th>\n",
              "      <th>percent_lunch</th>\n",
              "    </tr>\n",
              "  </thead>\n",
              "  <tbody>\n",
              "    <tr>\n",
              "      <th>min</th>\n",
              "      <td>100001600143</td>\n",
              "      <td>0.00</td>\n",
              "      <td>0.09</td>\n",
              "      <td>0.0</td>\n",
              "      <td>3589.0</td>\n",
              "      <td>-3.07</td>\n",
              "      <td>-0.05</td>\n",
              "    </tr>\n",
              "    <tr>\n",
              "      <th>max</th>\n",
              "      <td>560583000335</td>\n",
              "      <td>0.59</td>\n",
              "      <td>1.00</td>\n",
              "      <td>1.0</td>\n",
              "      <td>226181.0</td>\n",
              "      <td>32.36</td>\n",
              "      <td>1.00</td>\n",
              "    </tr>\n",
              "  </tbody>\n",
              "</table>\n",
              "</div>\n",
              "      <button class=\"colab-df-convert\" onclick=\"convertToInteractive('df-d92628c2-7597-43a2-855c-0b84265ececf')\"\n",
              "              title=\"Convert this dataframe to an interactive table.\"\n",
              "              style=\"display:none;\">\n",
              "        \n",
              "  <svg xmlns=\"http://www.w3.org/2000/svg\" height=\"24px\"viewBox=\"0 0 24 24\"\n",
              "       width=\"24px\">\n",
              "    <path d=\"M0 0h24v24H0V0z\" fill=\"none\"/>\n",
              "    <path d=\"M18.56 5.44l.94 2.06.94-2.06 2.06-.94-2.06-.94-.94-2.06-.94 2.06-2.06.94zm-11 1L8.5 8.5l.94-2.06 2.06-.94-2.06-.94L8.5 2.5l-.94 2.06-2.06.94zm10 10l.94 2.06.94-2.06 2.06-.94-2.06-.94-.94-2.06-.94 2.06-2.06.94z\"/><path d=\"M17.41 7.96l-1.37-1.37c-.4-.4-.92-.59-1.43-.59-.52 0-1.04.2-1.43.59L10.3 9.45l-7.72 7.72c-.78.78-.78 2.05 0 2.83L4 21.41c.39.39.9.59 1.41.59.51 0 1.02-.2 1.41-.59l7.78-7.78 2.81-2.81c.8-.78.8-2.07 0-2.86zM5.41 20L4 18.59l7.72-7.72 1.47 1.35L5.41 20z\"/>\n",
              "  </svg>\n",
              "      </button>\n",
              "      \n",
              "  <style>\n",
              "    .colab-df-container {\n",
              "      display:flex;\n",
              "      flex-wrap:wrap;\n",
              "      gap: 12px;\n",
              "    }\n",
              "\n",
              "    .colab-df-convert {\n",
              "      background-color: #E8F0FE;\n",
              "      border: none;\n",
              "      border-radius: 50%;\n",
              "      cursor: pointer;\n",
              "      display: none;\n",
              "      fill: #1967D2;\n",
              "      height: 32px;\n",
              "      padding: 0 0 0 0;\n",
              "      width: 32px;\n",
              "    }\n",
              "\n",
              "    .colab-df-convert:hover {\n",
              "      background-color: #E2EBFA;\n",
              "      box-shadow: 0px 1px 2px rgba(60, 64, 67, 0.3), 0px 1px 3px 1px rgba(60, 64, 67, 0.15);\n",
              "      fill: #174EA6;\n",
              "    }\n",
              "\n",
              "    [theme=dark] .colab-df-convert {\n",
              "      background-color: #3B4455;\n",
              "      fill: #D2E3FC;\n",
              "    }\n",
              "\n",
              "    [theme=dark] .colab-df-convert:hover {\n",
              "      background-color: #434B5C;\n",
              "      box-shadow: 0px 1px 3px 1px rgba(0, 0, 0, 0.15);\n",
              "      filter: drop-shadow(0px 1px 2px rgba(0, 0, 0, 0.3));\n",
              "      fill: #FFFFFF;\n",
              "    }\n",
              "  </style>\n",
              "\n",
              "      <script>\n",
              "        const buttonEl =\n",
              "          document.querySelector('#df-d92628c2-7597-43a2-855c-0b84265ececf button.colab-df-convert');\n",
              "        buttonEl.style.display =\n",
              "          google.colab.kernel.accessAllowed ? 'block' : 'none';\n",
              "\n",
              "        async function convertToInteractive(key) {\n",
              "          const element = document.querySelector('#df-d92628c2-7597-43a2-855c-0b84265ececf');\n",
              "          const dataTable =\n",
              "            await google.colab.kernel.invokeFunction('convertToInteractive',\n",
              "                                                     [key], {});\n",
              "          if (!dataTable) return;\n",
              "\n",
              "          const docLinkHtml = 'Like what you see? Visit the ' +\n",
              "            '<a target=\"_blank\" href=https://colab.research.google.com/notebooks/data_table.ipynb>data table notebook</a>'\n",
              "            + ' to learn more about interactive tables.';\n",
              "          element.innerHTML = '';\n",
              "          dataTable['output_type'] = 'display_data';\n",
              "          await google.colab.output.renderOutput(dataTable, element);\n",
              "          const docLink = document.createElement('div');\n",
              "          docLink.innerHTML = docLinkHtml;\n",
              "          element.appendChild(docLink);\n",
              "        }\n",
              "      </script>\n",
              "    </div>\n",
              "  </div>\n",
              "  "
            ]
          },
          "metadata": {},
          "execution_count": 222
        }
      ]
    },
    {
      "cell_type": "code",
      "source": [
        "df['state'].unique()"
      ],
      "metadata": {
        "colab": {
          "base_uri": "https://localhost:8080/"
        },
        "id": "HpA6YwCSItMD",
        "outputId": "080c1ce9-8c69-4899-a51b-bc76214e3826"
      },
      "execution_count": 223,
      "outputs": [
        {
          "output_type": "execute_result",
          "data": {
            "text/plain": [
              "array(['DE', 'FL', 'GA', nan, 'IL', 'IN', 'KY', 'LA', 'MA', 'MI', 'MO',\n",
              "       'NJ', 'NY', 'NC', 'OH', 'PA', 'TN', 'TX', 'WA', 'WI', 'WY'],\n",
              "      dtype=object)"
            ]
          },
          "metadata": {},
          "execution_count": 223
        }
      ]
    },
    {
      "cell_type": "code",
      "source": [
        "df.loc[df['percent_lunch'] < 0, 'percent_lunch'] = np.nan"
      ],
      "metadata": {
        "id": "rlfiKFi9MAMN"
      },
      "execution_count": 224,
      "outputs": []
    },
    {
      "cell_type": "code",
      "source": [
        "df = df.drop(df.loc[df['average_act'] <=0].index)"
      ],
      "metadata": {
        "id": "Hf5Fwyz3PrIQ"
      },
      "execution_count": 225,
      "outputs": []
    },
    {
      "cell_type": "markdown",
      "source": [
        "We will only be checking High schools."
      ],
      "metadata": {
        "id": "65O0IpX_sksx"
      }
    },
    {
      "cell_type": "code",
      "source": [
        "df.loc[df['school_level']== 'High']"
      ],
      "metadata": {
        "id": "e37DF3ofK9VE",
        "colab": {
          "base_uri": "https://localhost:8080/",
          "height": 653
        },
        "outputId": "1fe8ba05-76d7-44a1-b300-02408f6638d8"
      },
      "execution_count": 226,
      "outputs": [
        {
          "output_type": "execute_result",
          "data": {
            "text/plain": [
              "                id  rate_unemployment  percent_college  percent_married  \\\n",
              "0     100001600143           0.117962         0.445283         0.346495   \n",
              "1     100008000024           0.063984         0.662765         0.767619   \n",
              "2     100008000225           0.056460         0.701864         0.713090   \n",
              "3     100017000029           0.044739         0.692062         0.641283   \n",
              "4     100018000040           0.077014         0.640060         0.834402   \n",
              "...            ...                ...              ...              ...   \n",
              "7981  560530200294           0.034549         0.590780         0.720077   \n",
              "7982  560569000311           0.069538         0.633860         0.808841   \n",
              "7983  560569500360           0.035159         0.764566         0.776570   \n",
              "7984  560576200324           0.063877         0.670532         0.879324   \n",
              "7985  560583000335           0.033553         0.736511         0.821128   \n",
              "\n",
              "      median_income  average_act  percent_lunch       year state zip_code  \\\n",
              "0           42820.0    20.433455       0.066901  2016-2017    DE    19804   \n",
              "1           89320.0    19.498168       0.112412  2016-2017    DE    19709   \n",
              "2           84140.0    19.554335       0.096816  2016-2017    DE    19709   \n",
              "3           56500.0    17.737485       0.296960  2016-2017    DE    19958   \n",
              "4           54015.0    18.245421       0.262641  2016-2017    DE    19934   \n",
              "...             ...          ...            ...        ...   ...      ...   \n",
              "7981        64891.0    18.500000       0.232156  2016-2017    WY    82902   \n",
              "7982        44603.0    22.300000       0.083871  2016-2017    WY    82833   \n",
              "7983        44896.0    21.500000       0.184829  2016-2017    WY    82801   \n",
              "7984        92134.0    19.700000       0.112583  2016-2017    WY    82935   \n",
              "7985        73849.0    21.800000       0.163701  2016-2017    WY    83001   \n",
              "\n",
              "         school_type school_level  \n",
              "0     Regular School         High  \n",
              "1     Regular School         High  \n",
              "2     Regular School         High  \n",
              "3     Regular School         High  \n",
              "4     Regular School         High  \n",
              "...              ...          ...  \n",
              "7981  Regular School         High  \n",
              "7982  Regular School         High  \n",
              "7983  Regular School         High  \n",
              "7984  Regular School         High  \n",
              "7985  Regular School         High  \n",
              "\n",
              "[7227 rows x 12 columns]"
            ],
            "text/html": [
              "\n",
              "  <div id=\"df-526822a6-9e60-466e-9c17-ef9c5e8e305f\">\n",
              "    <div class=\"colab-df-container\">\n",
              "      <div>\n",
              "<style scoped>\n",
              "    .dataframe tbody tr th:only-of-type {\n",
              "        vertical-align: middle;\n",
              "    }\n",
              "\n",
              "    .dataframe tbody tr th {\n",
              "        vertical-align: top;\n",
              "    }\n",
              "\n",
              "    .dataframe thead th {\n",
              "        text-align: right;\n",
              "    }\n",
              "</style>\n",
              "<table border=\"1\" class=\"dataframe\">\n",
              "  <thead>\n",
              "    <tr style=\"text-align: right;\">\n",
              "      <th></th>\n",
              "      <th>id</th>\n",
              "      <th>rate_unemployment</th>\n",
              "      <th>percent_college</th>\n",
              "      <th>percent_married</th>\n",
              "      <th>median_income</th>\n",
              "      <th>average_act</th>\n",
              "      <th>percent_lunch</th>\n",
              "      <th>year</th>\n",
              "      <th>state</th>\n",
              "      <th>zip_code</th>\n",
              "      <th>school_type</th>\n",
              "      <th>school_level</th>\n",
              "    </tr>\n",
              "  </thead>\n",
              "  <tbody>\n",
              "    <tr>\n",
              "      <th>0</th>\n",
              "      <td>100001600143</td>\n",
              "      <td>0.117962</td>\n",
              "      <td>0.445283</td>\n",
              "      <td>0.346495</td>\n",
              "      <td>42820.0</td>\n",
              "      <td>20.433455</td>\n",
              "      <td>0.066901</td>\n",
              "      <td>2016-2017</td>\n",
              "      <td>DE</td>\n",
              "      <td>19804</td>\n",
              "      <td>Regular School</td>\n",
              "      <td>High</td>\n",
              "    </tr>\n",
              "    <tr>\n",
              "      <th>1</th>\n",
              "      <td>100008000024</td>\n",
              "      <td>0.063984</td>\n",
              "      <td>0.662765</td>\n",
              "      <td>0.767619</td>\n",
              "      <td>89320.0</td>\n",
              "      <td>19.498168</td>\n",
              "      <td>0.112412</td>\n",
              "      <td>2016-2017</td>\n",
              "      <td>DE</td>\n",
              "      <td>19709</td>\n",
              "      <td>Regular School</td>\n",
              "      <td>High</td>\n",
              "    </tr>\n",
              "    <tr>\n",
              "      <th>2</th>\n",
              "      <td>100008000225</td>\n",
              "      <td>0.056460</td>\n",
              "      <td>0.701864</td>\n",
              "      <td>0.713090</td>\n",
              "      <td>84140.0</td>\n",
              "      <td>19.554335</td>\n",
              "      <td>0.096816</td>\n",
              "      <td>2016-2017</td>\n",
              "      <td>DE</td>\n",
              "      <td>19709</td>\n",
              "      <td>Regular School</td>\n",
              "      <td>High</td>\n",
              "    </tr>\n",
              "    <tr>\n",
              "      <th>3</th>\n",
              "      <td>100017000029</td>\n",
              "      <td>0.044739</td>\n",
              "      <td>0.692062</td>\n",
              "      <td>0.641283</td>\n",
              "      <td>56500.0</td>\n",
              "      <td>17.737485</td>\n",
              "      <td>0.296960</td>\n",
              "      <td>2016-2017</td>\n",
              "      <td>DE</td>\n",
              "      <td>19958</td>\n",
              "      <td>Regular School</td>\n",
              "      <td>High</td>\n",
              "    </tr>\n",
              "    <tr>\n",
              "      <th>4</th>\n",
              "      <td>100018000040</td>\n",
              "      <td>0.077014</td>\n",
              "      <td>0.640060</td>\n",
              "      <td>0.834402</td>\n",
              "      <td>54015.0</td>\n",
              "      <td>18.245421</td>\n",
              "      <td>0.262641</td>\n",
              "      <td>2016-2017</td>\n",
              "      <td>DE</td>\n",
              "      <td>19934</td>\n",
              "      <td>Regular School</td>\n",
              "      <td>High</td>\n",
              "    </tr>\n",
              "    <tr>\n",
              "      <th>...</th>\n",
              "      <td>...</td>\n",
              "      <td>...</td>\n",
              "      <td>...</td>\n",
              "      <td>...</td>\n",
              "      <td>...</td>\n",
              "      <td>...</td>\n",
              "      <td>...</td>\n",
              "      <td>...</td>\n",
              "      <td>...</td>\n",
              "      <td>...</td>\n",
              "      <td>...</td>\n",
              "      <td>...</td>\n",
              "    </tr>\n",
              "    <tr>\n",
              "      <th>7981</th>\n",
              "      <td>560530200294</td>\n",
              "      <td>0.034549</td>\n",
              "      <td>0.590780</td>\n",
              "      <td>0.720077</td>\n",
              "      <td>64891.0</td>\n",
              "      <td>18.500000</td>\n",
              "      <td>0.232156</td>\n",
              "      <td>2016-2017</td>\n",
              "      <td>WY</td>\n",
              "      <td>82902</td>\n",
              "      <td>Regular School</td>\n",
              "      <td>High</td>\n",
              "    </tr>\n",
              "    <tr>\n",
              "      <th>7982</th>\n",
              "      <td>560569000311</td>\n",
              "      <td>0.069538</td>\n",
              "      <td>0.633860</td>\n",
              "      <td>0.808841</td>\n",
              "      <td>44603.0</td>\n",
              "      <td>22.300000</td>\n",
              "      <td>0.083871</td>\n",
              "      <td>2016-2017</td>\n",
              "      <td>WY</td>\n",
              "      <td>82833</td>\n",
              "      <td>Regular School</td>\n",
              "      <td>High</td>\n",
              "    </tr>\n",
              "    <tr>\n",
              "      <th>7983</th>\n",
              "      <td>560569500360</td>\n",
              "      <td>0.035159</td>\n",
              "      <td>0.764566</td>\n",
              "      <td>0.776570</td>\n",
              "      <td>44896.0</td>\n",
              "      <td>21.500000</td>\n",
              "      <td>0.184829</td>\n",
              "      <td>2016-2017</td>\n",
              "      <td>WY</td>\n",
              "      <td>82801</td>\n",
              "      <td>Regular School</td>\n",
              "      <td>High</td>\n",
              "    </tr>\n",
              "    <tr>\n",
              "      <th>7984</th>\n",
              "      <td>560576200324</td>\n",
              "      <td>0.063877</td>\n",
              "      <td>0.670532</td>\n",
              "      <td>0.879324</td>\n",
              "      <td>92134.0</td>\n",
              "      <td>19.700000</td>\n",
              "      <td>0.112583</td>\n",
              "      <td>2016-2017</td>\n",
              "      <td>WY</td>\n",
              "      <td>82935</td>\n",
              "      <td>Regular School</td>\n",
              "      <td>High</td>\n",
              "    </tr>\n",
              "    <tr>\n",
              "      <th>7985</th>\n",
              "      <td>560583000335</td>\n",
              "      <td>0.033553</td>\n",
              "      <td>0.736511</td>\n",
              "      <td>0.821128</td>\n",
              "      <td>73849.0</td>\n",
              "      <td>21.800000</td>\n",
              "      <td>0.163701</td>\n",
              "      <td>2016-2017</td>\n",
              "      <td>WY</td>\n",
              "      <td>83001</td>\n",
              "      <td>Regular School</td>\n",
              "      <td>High</td>\n",
              "    </tr>\n",
              "  </tbody>\n",
              "</table>\n",
              "<p>7227 rows × 12 columns</p>\n",
              "</div>\n",
              "      <button class=\"colab-df-convert\" onclick=\"convertToInteractive('df-526822a6-9e60-466e-9c17-ef9c5e8e305f')\"\n",
              "              title=\"Convert this dataframe to an interactive table.\"\n",
              "              style=\"display:none;\">\n",
              "        \n",
              "  <svg xmlns=\"http://www.w3.org/2000/svg\" height=\"24px\"viewBox=\"0 0 24 24\"\n",
              "       width=\"24px\">\n",
              "    <path d=\"M0 0h24v24H0V0z\" fill=\"none\"/>\n",
              "    <path d=\"M18.56 5.44l.94 2.06.94-2.06 2.06-.94-2.06-.94-.94-2.06-.94 2.06-2.06.94zm-11 1L8.5 8.5l.94-2.06 2.06-.94-2.06-.94L8.5 2.5l-.94 2.06-2.06.94zm10 10l.94 2.06.94-2.06 2.06-.94-2.06-.94-.94-2.06-.94 2.06-2.06.94z\"/><path d=\"M17.41 7.96l-1.37-1.37c-.4-.4-.92-.59-1.43-.59-.52 0-1.04.2-1.43.59L10.3 9.45l-7.72 7.72c-.78.78-.78 2.05 0 2.83L4 21.41c.39.39.9.59 1.41.59.51 0 1.02-.2 1.41-.59l7.78-7.78 2.81-2.81c.8-.78.8-2.07 0-2.86zM5.41 20L4 18.59l7.72-7.72 1.47 1.35L5.41 20z\"/>\n",
              "  </svg>\n",
              "      </button>\n",
              "      \n",
              "  <style>\n",
              "    .colab-df-container {\n",
              "      display:flex;\n",
              "      flex-wrap:wrap;\n",
              "      gap: 12px;\n",
              "    }\n",
              "\n",
              "    .colab-df-convert {\n",
              "      background-color: #E8F0FE;\n",
              "      border: none;\n",
              "      border-radius: 50%;\n",
              "      cursor: pointer;\n",
              "      display: none;\n",
              "      fill: #1967D2;\n",
              "      height: 32px;\n",
              "      padding: 0 0 0 0;\n",
              "      width: 32px;\n",
              "    }\n",
              "\n",
              "    .colab-df-convert:hover {\n",
              "      background-color: #E2EBFA;\n",
              "      box-shadow: 0px 1px 2px rgba(60, 64, 67, 0.3), 0px 1px 3px 1px rgba(60, 64, 67, 0.15);\n",
              "      fill: #174EA6;\n",
              "    }\n",
              "\n",
              "    [theme=dark] .colab-df-convert {\n",
              "      background-color: #3B4455;\n",
              "      fill: #D2E3FC;\n",
              "    }\n",
              "\n",
              "    [theme=dark] .colab-df-convert:hover {\n",
              "      background-color: #434B5C;\n",
              "      box-shadow: 0px 1px 3px 1px rgba(0, 0, 0, 0.15);\n",
              "      filter: drop-shadow(0px 1px 2px rgba(0, 0, 0, 0.3));\n",
              "      fill: #FFFFFF;\n",
              "    }\n",
              "  </style>\n",
              "\n",
              "      <script>\n",
              "        const buttonEl =\n",
              "          document.querySelector('#df-526822a6-9e60-466e-9c17-ef9c5e8e305f button.colab-df-convert');\n",
              "        buttonEl.style.display =\n",
              "          google.colab.kernel.accessAllowed ? 'block' : 'none';\n",
              "\n",
              "        async function convertToInteractive(key) {\n",
              "          const element = document.querySelector('#df-526822a6-9e60-466e-9c17-ef9c5e8e305f');\n",
              "          const dataTable =\n",
              "            await google.colab.kernel.invokeFunction('convertToInteractive',\n",
              "                                                     [key], {});\n",
              "          if (!dataTable) return;\n",
              "\n",
              "          const docLinkHtml = 'Like what you see? Visit the ' +\n",
              "            '<a target=\"_blank\" href=https://colab.research.google.com/notebooks/data_table.ipynb>data table notebook</a>'\n",
              "            + ' to learn more about interactive tables.';\n",
              "          element.innerHTML = '';\n",
              "          dataTable['output_type'] = 'display_data';\n",
              "          await google.colab.output.renderOutput(dataTable, element);\n",
              "          const docLink = document.createElement('div');\n",
              "          docLink.innerHTML = docLinkHtml;\n",
              "          element.appendChild(docLink);\n",
              "        }\n",
              "      </script>\n",
              "    </div>\n",
              "  </div>\n",
              "  "
            ]
          },
          "metadata": {},
          "execution_count": 226
        }
      ]
    },
    {
      "cell_type": "markdown",
      "source": [
        "## Identify missing values"
      ],
      "metadata": {
        "id": "aAaUY6N1rtoa"
      }
    },
    {
      "cell_type": "code",
      "source": [
        "df.isna().sum()"
      ],
      "metadata": {
        "colab": {
          "base_uri": "https://localhost:8080/"
        },
        "id": "eDflp5RkgzfN",
        "outputId": "56deb5b7-829b-4155-ede6-0c68bc53171d"
      },
      "execution_count": 227,
      "outputs": [
        {
          "output_type": "execute_result",
          "data": {
            "text/plain": [
              "id                    0\n",
              "rate_unemployment    14\n",
              "percent_college      13\n",
              "percent_married      25\n",
              "median_income        20\n",
              "average_act           0\n",
              "percent_lunch        20\n",
              "year                 88\n",
              "state                88\n",
              "zip_code             88\n",
              "school_type          88\n",
              "school_level         88\n",
              "dtype: int64"
            ]
          },
          "metadata": {},
          "execution_count": 227
        }
      ]
    },
    {
      "cell_type": "code",
      "source": [
        "df = df.loc[df['average_act'].isna() == False]"
      ],
      "metadata": {
        "id": "LKo3QfaUs_iw"
      },
      "execution_count": 228,
      "outputs": []
    },
    {
      "cell_type": "markdown",
      "source": [
        "Some schools are missing all four socioeconomic variables, but most of them lack only a portion of the data. Dropping the rows with NaN values would harm our analysis of the variables with available data. Thus, we will retain the rows with missing socioeconomic variables. However, we will eliminate the rows without the average ACT score. After splitting the data for model evaluation into training and testing sets, we will fill in the remaining missing values using imputation."
      ],
      "metadata": {
        "id": "RWq1PrZLtSi1"
      }
    },
    {
      "cell_type": "markdown",
      "source": [
        "## Train test split"
      ],
      "metadata": {
        "id": "TklEWrlhsEiQ"
      }
    },
    {
      "cell_type": "code",
      "source": [
        "X = df[df.columns.difference(['id', 'average_act'])]"
      ],
      "metadata": {
        "id": "gGIJ5nA_jfT_"
      },
      "execution_count": 229,
      "outputs": []
    },
    {
      "cell_type": "code",
      "source": [
        "Y = df[['average_act']]"
      ],
      "metadata": {
        "id": "LxzaZ4yljpK_"
      },
      "execution_count": 230,
      "outputs": []
    },
    {
      "cell_type": "markdown",
      "source": [
        "Next, we will define the predictor variable matrix X to include all columns except for id and average_act, and define the output variable y to be average_act."
      ],
      "metadata": {
        "id": "ZK9PtqViuDU7"
      }
    },
    {
      "cell_type": "markdown",
      "source": [
        "We will utilize the test set approach to evaluate models that predict the average_act."
      ],
      "metadata": {
        "id": "CjH-3UccuV9c"
      }
    },
    {
      "cell_type": "code",
      "source": [
        "x_train, x_test, y_train, y_test = train_test_split(X, Y, test_size=.2, random_state = 1)"
      ],
      "metadata": {
        "id": "e3IuNmw5ib_e"
      },
      "execution_count": 231,
      "outputs": []
    },
    {
      "cell_type": "code",
      "source": [
        "print(x_train.shape, x_test.shape)"
      ],
      "metadata": {
        "colab": {
          "base_uri": "https://localhost:8080/"
        },
        "id": "-l66AWgjkfVl",
        "outputId": "74479951-389f-4e07-a253-d0c3a5c563de"
      },
      "execution_count": 232,
      "outputs": [
        {
          "output_type": "stream",
          "name": "stdout",
          "text": [
            "(6386, 10) (1597, 10)\n"
          ]
        }
      ]
    },
    {
      "cell_type": "markdown",
      "source": [
        "Verify that the means and standard deviations of the training and testing input variables are comparable."
      ],
      "metadata": {
        "id": "I9DLPmzPu_be"
      }
    },
    {
      "cell_type": "code",
      "source": [
        "x_train.agg(['mean','std']).round(2)"
      ],
      "metadata": {
        "id": "Tj5Sz3MPloZT",
        "colab": {
          "base_uri": "https://localhost:8080/",
          "height": 165
        },
        "outputId": "32c1644a-9da1-49dc-979c-ae8077504f46"
      },
      "execution_count": 233,
      "outputs": [
        {
          "output_type": "stream",
          "name": "stderr",
          "text": [
            "<ipython-input-233-4fb165f81f78>:1: FutureWarning: ['school_level', 'school_type', 'state', 'year', 'zip_code'] did not aggregate successfully. If any error is raised this will raise in a future version of pandas. Drop these columns/ops to avoid this warning.\n",
            "  x_train.agg(['mean','std']).round(2)\n"
          ]
        },
        {
          "output_type": "execute_result",
          "data": {
            "text/plain": [
              "      median_income  percent_college  percent_lunch  percent_married  \\\n",
              "mean       52094.78             0.57           0.42             0.63   \n",
              "std        24319.92             0.17           0.24             0.20   \n",
              "\n",
              "      rate_unemployment  \n",
              "mean               0.10  \n",
              "std                0.06  "
            ],
            "text/html": [
              "\n",
              "  <div id=\"df-cd6e19ff-55ee-46d5-9bee-abde7e54f6e5\">\n",
              "    <div class=\"colab-df-container\">\n",
              "      <div>\n",
              "<style scoped>\n",
              "    .dataframe tbody tr th:only-of-type {\n",
              "        vertical-align: middle;\n",
              "    }\n",
              "\n",
              "    .dataframe tbody tr th {\n",
              "        vertical-align: top;\n",
              "    }\n",
              "\n",
              "    .dataframe thead th {\n",
              "        text-align: right;\n",
              "    }\n",
              "</style>\n",
              "<table border=\"1\" class=\"dataframe\">\n",
              "  <thead>\n",
              "    <tr style=\"text-align: right;\">\n",
              "      <th></th>\n",
              "      <th>median_income</th>\n",
              "      <th>percent_college</th>\n",
              "      <th>percent_lunch</th>\n",
              "      <th>percent_married</th>\n",
              "      <th>rate_unemployment</th>\n",
              "    </tr>\n",
              "  </thead>\n",
              "  <tbody>\n",
              "    <tr>\n",
              "      <th>mean</th>\n",
              "      <td>52094.78</td>\n",
              "      <td>0.57</td>\n",
              "      <td>0.42</td>\n",
              "      <td>0.63</td>\n",
              "      <td>0.10</td>\n",
              "    </tr>\n",
              "    <tr>\n",
              "      <th>std</th>\n",
              "      <td>24319.92</td>\n",
              "      <td>0.17</td>\n",
              "      <td>0.24</td>\n",
              "      <td>0.20</td>\n",
              "      <td>0.06</td>\n",
              "    </tr>\n",
              "  </tbody>\n",
              "</table>\n",
              "</div>\n",
              "      <button class=\"colab-df-convert\" onclick=\"convertToInteractive('df-cd6e19ff-55ee-46d5-9bee-abde7e54f6e5')\"\n",
              "              title=\"Convert this dataframe to an interactive table.\"\n",
              "              style=\"display:none;\">\n",
              "        \n",
              "  <svg xmlns=\"http://www.w3.org/2000/svg\" height=\"24px\"viewBox=\"0 0 24 24\"\n",
              "       width=\"24px\">\n",
              "    <path d=\"M0 0h24v24H0V0z\" fill=\"none\"/>\n",
              "    <path d=\"M18.56 5.44l.94 2.06.94-2.06 2.06-.94-2.06-.94-.94-2.06-.94 2.06-2.06.94zm-11 1L8.5 8.5l.94-2.06 2.06-.94-2.06-.94L8.5 2.5l-.94 2.06-2.06.94zm10 10l.94 2.06.94-2.06 2.06-.94-2.06-.94-.94-2.06-.94 2.06-2.06.94z\"/><path d=\"M17.41 7.96l-1.37-1.37c-.4-.4-.92-.59-1.43-.59-.52 0-1.04.2-1.43.59L10.3 9.45l-7.72 7.72c-.78.78-.78 2.05 0 2.83L4 21.41c.39.39.9.59 1.41.59.51 0 1.02-.2 1.41-.59l7.78-7.78 2.81-2.81c.8-.78.8-2.07 0-2.86zM5.41 20L4 18.59l7.72-7.72 1.47 1.35L5.41 20z\"/>\n",
              "  </svg>\n",
              "      </button>\n",
              "      \n",
              "  <style>\n",
              "    .colab-df-container {\n",
              "      display:flex;\n",
              "      flex-wrap:wrap;\n",
              "      gap: 12px;\n",
              "    }\n",
              "\n",
              "    .colab-df-convert {\n",
              "      background-color: #E8F0FE;\n",
              "      border: none;\n",
              "      border-radius: 50%;\n",
              "      cursor: pointer;\n",
              "      display: none;\n",
              "      fill: #1967D2;\n",
              "      height: 32px;\n",
              "      padding: 0 0 0 0;\n",
              "      width: 32px;\n",
              "    }\n",
              "\n",
              "    .colab-df-convert:hover {\n",
              "      background-color: #E2EBFA;\n",
              "      box-shadow: 0px 1px 2px rgba(60, 64, 67, 0.3), 0px 1px 3px 1px rgba(60, 64, 67, 0.15);\n",
              "      fill: #174EA6;\n",
              "    }\n",
              "\n",
              "    [theme=dark] .colab-df-convert {\n",
              "      background-color: #3B4455;\n",
              "      fill: #D2E3FC;\n",
              "    }\n",
              "\n",
              "    [theme=dark] .colab-df-convert:hover {\n",
              "      background-color: #434B5C;\n",
              "      box-shadow: 0px 1px 3px 1px rgba(0, 0, 0, 0.15);\n",
              "      filter: drop-shadow(0px 1px 2px rgba(0, 0, 0, 0.3));\n",
              "      fill: #FFFFFF;\n",
              "    }\n",
              "  </style>\n",
              "\n",
              "      <script>\n",
              "        const buttonEl =\n",
              "          document.querySelector('#df-cd6e19ff-55ee-46d5-9bee-abde7e54f6e5 button.colab-df-convert');\n",
              "        buttonEl.style.display =\n",
              "          google.colab.kernel.accessAllowed ? 'block' : 'none';\n",
              "\n",
              "        async function convertToInteractive(key) {\n",
              "          const element = document.querySelector('#df-cd6e19ff-55ee-46d5-9bee-abde7e54f6e5');\n",
              "          const dataTable =\n",
              "            await google.colab.kernel.invokeFunction('convertToInteractive',\n",
              "                                                     [key], {});\n",
              "          if (!dataTable) return;\n",
              "\n",
              "          const docLinkHtml = 'Like what you see? Visit the ' +\n",
              "            '<a target=\"_blank\" href=https://colab.research.google.com/notebooks/data_table.ipynb>data table notebook</a>'\n",
              "            + ' to learn more about interactive tables.';\n",
              "          element.innerHTML = '';\n",
              "          dataTable['output_type'] = 'display_data';\n",
              "          await google.colab.output.renderOutput(dataTable, element);\n",
              "          const docLink = document.createElement('div');\n",
              "          docLink.innerHTML = docLinkHtml;\n",
              "          element.appendChild(docLink);\n",
              "        }\n",
              "      </script>\n",
              "    </div>\n",
              "  </div>\n",
              "  "
            ]
          },
          "metadata": {},
          "execution_count": 233
        }
      ]
    },
    {
      "cell_type": "code",
      "source": [
        "x_test.agg(['mean','std']).round(2)"
      ],
      "metadata": {
        "colab": {
          "base_uri": "https://localhost:8080/",
          "height": 165
        },
        "id": "1XmVPEKwuxxF",
        "outputId": "06bd30e4-ba7c-4c2f-c8a6-5eb74d5d6f13"
      },
      "execution_count": 234,
      "outputs": [
        {
          "output_type": "stream",
          "name": "stderr",
          "text": [
            "<ipython-input-234-ecad6fcf8116>:1: FutureWarning: ['school_level', 'school_type', 'state', 'year', 'zip_code'] did not aggregate successfully. If any error is raised this will raise in a future version of pandas. Drop these columns/ops to avoid this warning.\n",
            "  x_test.agg(['mean','std']).round(2)\n"
          ]
        },
        {
          "output_type": "execute_result",
          "data": {
            "text/plain": [
              "      median_income  percent_college  percent_lunch  percent_married  \\\n",
              "mean       51802.85             0.57           0.42             0.63   \n",
              "std        23860.56             0.16           0.23             0.19   \n",
              "\n",
              "      rate_unemployment  \n",
              "mean               0.10  \n",
              "std                0.06  "
            ],
            "text/html": [
              "\n",
              "  <div id=\"df-c19dfbb8-8d41-48de-a37f-40a49a05d056\">\n",
              "    <div class=\"colab-df-container\">\n",
              "      <div>\n",
              "<style scoped>\n",
              "    .dataframe tbody tr th:only-of-type {\n",
              "        vertical-align: middle;\n",
              "    }\n",
              "\n",
              "    .dataframe tbody tr th {\n",
              "        vertical-align: top;\n",
              "    }\n",
              "\n",
              "    .dataframe thead th {\n",
              "        text-align: right;\n",
              "    }\n",
              "</style>\n",
              "<table border=\"1\" class=\"dataframe\">\n",
              "  <thead>\n",
              "    <tr style=\"text-align: right;\">\n",
              "      <th></th>\n",
              "      <th>median_income</th>\n",
              "      <th>percent_college</th>\n",
              "      <th>percent_lunch</th>\n",
              "      <th>percent_married</th>\n",
              "      <th>rate_unemployment</th>\n",
              "    </tr>\n",
              "  </thead>\n",
              "  <tbody>\n",
              "    <tr>\n",
              "      <th>mean</th>\n",
              "      <td>51802.85</td>\n",
              "      <td>0.57</td>\n",
              "      <td>0.42</td>\n",
              "      <td>0.63</td>\n",
              "      <td>0.10</td>\n",
              "    </tr>\n",
              "    <tr>\n",
              "      <th>std</th>\n",
              "      <td>23860.56</td>\n",
              "      <td>0.16</td>\n",
              "      <td>0.23</td>\n",
              "      <td>0.19</td>\n",
              "      <td>0.06</td>\n",
              "    </tr>\n",
              "  </tbody>\n",
              "</table>\n",
              "</div>\n",
              "      <button class=\"colab-df-convert\" onclick=\"convertToInteractive('df-c19dfbb8-8d41-48de-a37f-40a49a05d056')\"\n",
              "              title=\"Convert this dataframe to an interactive table.\"\n",
              "              style=\"display:none;\">\n",
              "        \n",
              "  <svg xmlns=\"http://www.w3.org/2000/svg\" height=\"24px\"viewBox=\"0 0 24 24\"\n",
              "       width=\"24px\">\n",
              "    <path d=\"M0 0h24v24H0V0z\" fill=\"none\"/>\n",
              "    <path d=\"M18.56 5.44l.94 2.06.94-2.06 2.06-.94-2.06-.94-.94-2.06-.94 2.06-2.06.94zm-11 1L8.5 8.5l.94-2.06 2.06-.94-2.06-.94L8.5 2.5l-.94 2.06-2.06.94zm10 10l.94 2.06.94-2.06 2.06-.94-2.06-.94-.94-2.06-.94 2.06-2.06.94z\"/><path d=\"M17.41 7.96l-1.37-1.37c-.4-.4-.92-.59-1.43-.59-.52 0-1.04.2-1.43.59L10.3 9.45l-7.72 7.72c-.78.78-.78 2.05 0 2.83L4 21.41c.39.39.9.59 1.41.59.51 0 1.02-.2 1.41-.59l7.78-7.78 2.81-2.81c.8-.78.8-2.07 0-2.86zM5.41 20L4 18.59l7.72-7.72 1.47 1.35L5.41 20z\"/>\n",
              "  </svg>\n",
              "      </button>\n",
              "      \n",
              "  <style>\n",
              "    .colab-df-container {\n",
              "      display:flex;\n",
              "      flex-wrap:wrap;\n",
              "      gap: 12px;\n",
              "    }\n",
              "\n",
              "    .colab-df-convert {\n",
              "      background-color: #E8F0FE;\n",
              "      border: none;\n",
              "      border-radius: 50%;\n",
              "      cursor: pointer;\n",
              "      display: none;\n",
              "      fill: #1967D2;\n",
              "      height: 32px;\n",
              "      padding: 0 0 0 0;\n",
              "      width: 32px;\n",
              "    }\n",
              "\n",
              "    .colab-df-convert:hover {\n",
              "      background-color: #E2EBFA;\n",
              "      box-shadow: 0px 1px 2px rgba(60, 64, 67, 0.3), 0px 1px 3px 1px rgba(60, 64, 67, 0.15);\n",
              "      fill: #174EA6;\n",
              "    }\n",
              "\n",
              "    [theme=dark] .colab-df-convert {\n",
              "      background-color: #3B4455;\n",
              "      fill: #D2E3FC;\n",
              "    }\n",
              "\n",
              "    [theme=dark] .colab-df-convert:hover {\n",
              "      background-color: #434B5C;\n",
              "      box-shadow: 0px 1px 3px 1px rgba(0, 0, 0, 0.15);\n",
              "      filter: drop-shadow(0px 1px 2px rgba(0, 0, 0, 0.3));\n",
              "      fill: #FFFFFF;\n",
              "    }\n",
              "  </style>\n",
              "\n",
              "      <script>\n",
              "        const buttonEl =\n",
              "          document.querySelector('#df-c19dfbb8-8d41-48de-a37f-40a49a05d056 button.colab-df-convert');\n",
              "        buttonEl.style.display =\n",
              "          google.colab.kernel.accessAllowed ? 'block' : 'none';\n",
              "\n",
              "        async function convertToInteractive(key) {\n",
              "          const element = document.querySelector('#df-c19dfbb8-8d41-48de-a37f-40a49a05d056');\n",
              "          const dataTable =\n",
              "            await google.colab.kernel.invokeFunction('convertToInteractive',\n",
              "                                                     [key], {});\n",
              "          if (!dataTable) return;\n",
              "\n",
              "          const docLinkHtml = 'Like what you see? Visit the ' +\n",
              "            '<a target=\"_blank\" href=https://colab.research.google.com/notebooks/data_table.ipynb>data table notebook</a>'\n",
              "            + ' to learn more about interactive tables.';\n",
              "          element.innerHTML = '';\n",
              "          dataTable['output_type'] = 'display_data';\n",
              "          await google.colab.output.renderOutput(dataTable, element);\n",
              "          const docLink = document.createElement('div');\n",
              "          docLink.innerHTML = docLinkHtml;\n",
              "          element.appendChild(docLink);\n",
              "        }\n",
              "      </script>\n",
              "    </div>\n",
              "  </div>\n",
              "  "
            ]
          },
          "metadata": {},
          "execution_count": 234
        }
      ]
    },
    {
      "cell_type": "markdown",
      "source": [
        "## Data imputation"
      ],
      "metadata": {
        "id": "AM98iKFqk8wM"
      }
    },
    {
      "cell_type": "code",
      "source": [
        "imputer = IterativeImputer()"
      ],
      "metadata": {
        "id": "w88hggRbkrol"
      },
      "execution_count": 235,
      "outputs": []
    },
    {
      "cell_type": "markdown",
      "source": [
        "Impute the missing values in the training data."
      ],
      "metadata": {
        "id": "BjiNtEd6vV8V"
      }
    },
    {
      "cell_type": "code",
      "source": [
        "imputer.fit(x_train.loc[:,'median_income' : 'rate_unemployment'])"
      ],
      "metadata": {
        "colab": {
          "base_uri": "https://localhost:8080/",
          "height": 74
        },
        "id": "6dlcc1sknzTU",
        "outputId": "2cc1a591-03b2-4030-d899-84b9fc139eb1"
      },
      "execution_count": 236,
      "outputs": [
        {
          "output_type": "execute_result",
          "data": {
            "text/plain": [
              "IterativeImputer()"
            ],
            "text/html": [
              "<style>#sk-container-id-6 {color: black;background-color: white;}#sk-container-id-6 pre{padding: 0;}#sk-container-id-6 div.sk-toggleable {background-color: white;}#sk-container-id-6 label.sk-toggleable__label {cursor: pointer;display: block;width: 100%;margin-bottom: 0;padding: 0.3em;box-sizing: border-box;text-align: center;}#sk-container-id-6 label.sk-toggleable__label-arrow:before {content: \"▸\";float: left;margin-right: 0.25em;color: #696969;}#sk-container-id-6 label.sk-toggleable__label-arrow:hover:before {color: black;}#sk-container-id-6 div.sk-estimator:hover label.sk-toggleable__label-arrow:before {color: black;}#sk-container-id-6 div.sk-toggleable__content {max-height: 0;max-width: 0;overflow: hidden;text-align: left;background-color: #f0f8ff;}#sk-container-id-6 div.sk-toggleable__content pre {margin: 0.2em;color: black;border-radius: 0.25em;background-color: #f0f8ff;}#sk-container-id-6 input.sk-toggleable__control:checked~div.sk-toggleable__content {max-height: 200px;max-width: 100%;overflow: auto;}#sk-container-id-6 input.sk-toggleable__control:checked~label.sk-toggleable__label-arrow:before {content: \"▾\";}#sk-container-id-6 div.sk-estimator input.sk-toggleable__control:checked~label.sk-toggleable__label {background-color: #d4ebff;}#sk-container-id-6 div.sk-label input.sk-toggleable__control:checked~label.sk-toggleable__label {background-color: #d4ebff;}#sk-container-id-6 input.sk-hidden--visually {border: 0;clip: rect(1px 1px 1px 1px);clip: rect(1px, 1px, 1px, 1px);height: 1px;margin: -1px;overflow: hidden;padding: 0;position: absolute;width: 1px;}#sk-container-id-6 div.sk-estimator {font-family: monospace;background-color: #f0f8ff;border: 1px dotted black;border-radius: 0.25em;box-sizing: border-box;margin-bottom: 0.5em;}#sk-container-id-6 div.sk-estimator:hover {background-color: #d4ebff;}#sk-container-id-6 div.sk-parallel-item::after {content: \"\";width: 100%;border-bottom: 1px solid gray;flex-grow: 1;}#sk-container-id-6 div.sk-label:hover label.sk-toggleable__label {background-color: #d4ebff;}#sk-container-id-6 div.sk-serial::before {content: \"\";position: absolute;border-left: 1px solid gray;box-sizing: border-box;top: 0;bottom: 0;left: 50%;z-index: 0;}#sk-container-id-6 div.sk-serial {display: flex;flex-direction: column;align-items: center;background-color: white;padding-right: 0.2em;padding-left: 0.2em;position: relative;}#sk-container-id-6 div.sk-item {position: relative;z-index: 1;}#sk-container-id-6 div.sk-parallel {display: flex;align-items: stretch;justify-content: center;background-color: white;position: relative;}#sk-container-id-6 div.sk-item::before, #sk-container-id-6 div.sk-parallel-item::before {content: \"\";position: absolute;border-left: 1px solid gray;box-sizing: border-box;top: 0;bottom: 0;left: 50%;z-index: -1;}#sk-container-id-6 div.sk-parallel-item {display: flex;flex-direction: column;z-index: 1;position: relative;background-color: white;}#sk-container-id-6 div.sk-parallel-item:first-child::after {align-self: flex-end;width: 50%;}#sk-container-id-6 div.sk-parallel-item:last-child::after {align-self: flex-start;width: 50%;}#sk-container-id-6 div.sk-parallel-item:only-child::after {width: 0;}#sk-container-id-6 div.sk-dashed-wrapped {border: 1px dashed gray;margin: 0 0.4em 0.5em 0.4em;box-sizing: border-box;padding-bottom: 0.4em;background-color: white;}#sk-container-id-6 div.sk-label label {font-family: monospace;font-weight: bold;display: inline-block;line-height: 1.2em;}#sk-container-id-6 div.sk-label-container {text-align: center;}#sk-container-id-6 div.sk-container {/* jupyter's `normalize.less` sets `[hidden] { display: none; }` but bootstrap.min.css set `[hidden] { display: none !important; }` so we also need the `!important` here to be able to override the default hidden behavior on the sphinx rendered scikit-learn.org. See: https://github.com/scikit-learn/scikit-learn/issues/21755 */display: inline-block !important;position: relative;}#sk-container-id-6 div.sk-text-repr-fallback {display: none;}</style><div id=\"sk-container-id-6\" class=\"sk-top-container\"><div class=\"sk-text-repr-fallback\"><pre>IterativeImputer()</pre><b>In a Jupyter environment, please rerun this cell to show the HTML representation or trust the notebook. <br />On GitHub, the HTML representation is unable to render, please try loading this page with nbviewer.org.</b></div><div class=\"sk-container\" hidden><div class=\"sk-item\"><div class=\"sk-estimator sk-toggleable\"><input class=\"sk-toggleable__control sk-hidden--visually\" id=\"sk-estimator-id-6\" type=\"checkbox\" checked><label for=\"sk-estimator-id-6\" class=\"sk-toggleable__label sk-toggleable__label-arrow\">IterativeImputer</label><div class=\"sk-toggleable__content\"><pre>IterativeImputer()</pre></div></div></div></div></div>"
            ]
          },
          "metadata": {},
          "execution_count": 236
        }
      ]
    },
    {
      "cell_type": "code",
      "source": [
        "x_train.loc[:, 'median_income':'rate_unemployment'] = imputer.transform(x_train.loc[:, 'median_income':'rate_unemployment'])"
      ],
      "metadata": {
        "id": "AzW1n1w4oXIm"
      },
      "execution_count": 237,
      "outputs": []
    },
    {
      "cell_type": "code",
      "source": [
        "x_train.isna().sum()"
      ],
      "metadata": {
        "colab": {
          "base_uri": "https://localhost:8080/"
        },
        "id": "3gvRuy1spw4g",
        "outputId": "47214b1c-2993-4a74-8b3e-420483e7e90f"
      },
      "execution_count": 238,
      "outputs": [
        {
          "output_type": "execute_result",
          "data": {
            "text/plain": [
              "median_income         0\n",
              "percent_college       0\n",
              "percent_lunch         0\n",
              "percent_married       0\n",
              "rate_unemployment     0\n",
              "school_level         71\n",
              "school_type          71\n",
              "state                71\n",
              "year                 71\n",
              "zip_code             71\n",
              "dtype: int64"
            ]
          },
          "metadata": {},
          "execution_count": 238
        }
      ]
    },
    {
      "cell_type": "code",
      "source": [
        "x_test.isna().sum()"
      ],
      "metadata": {
        "colab": {
          "base_uri": "https://localhost:8080/"
        },
        "id": "BnLb0CRqv3cN",
        "outputId": "9e8e4f90-6817-4f0f-9cb2-edf93b1fc5ed"
      },
      "execution_count": 239,
      "outputs": [
        {
          "output_type": "execute_result",
          "data": {
            "text/plain": [
              "median_income         5\n",
              "percent_college       4\n",
              "percent_lunch         5\n",
              "percent_married       8\n",
              "rate_unemployment     4\n",
              "school_level         17\n",
              "school_type          17\n",
              "state                17\n",
              "year                 17\n",
              "zip_code             17\n",
              "dtype: int64"
            ]
          },
          "metadata": {},
          "execution_count": 239
        }
      ]
    },
    {
      "cell_type": "code",
      "source": [
        "df_train = x_train.join(y_train)"
      ],
      "metadata": {
        "id": "3YpCe5SQteCz"
      },
      "execution_count": 240,
      "outputs": []
    },
    {
      "cell_type": "code",
      "source": [
        "df_train.head()"
      ],
      "metadata": {
        "colab": {
          "base_uri": "https://localhost:8080/",
          "height": 353
        },
        "id": "LeI-2KmGtiOo",
        "outputId": "ad38e563-12e2-4790-a4ad-ea4069012eee"
      },
      "execution_count": 241,
      "outputs": [
        {
          "output_type": "execute_result",
          "data": {
            "text/plain": [
              "      median_income  percent_college  percent_lunch  percent_married  \\\n",
              "7626        48514.0         0.518152       0.253521         0.697964   \n",
              "5436        26012.0         0.548486       0.000000         0.055385   \n",
              "1732        58050.0         0.653129       0.215569         0.834146   \n",
              "3186        55303.0         0.825795       0.923828         1.000000   \n",
              "1913        39814.0         0.618495       0.693817         0.572973   \n",
              "\n",
              "      rate_unemployment school_level     school_type state       year  \\\n",
              "7626           0.069390         High  Regular School    WI  2016-2017   \n",
              "5436           0.072592         High  Regular School    PA  2016-2017   \n",
              "1732           0.108871         High  Regular School    IN  2016-2017   \n",
              "3186           0.042091         High  Regular School    MO  2016-2017   \n",
              "1913           0.110555         High  Regular School    KY  2016-2017   \n",
              "\n",
              "     zip_code  average_act  \n",
              "7626    54112    21.000000  \n",
              "5436    17101    20.665446  \n",
              "1732    46064    21.791209  \n",
              "3186    63103    15.600000  \n",
              "1913    40214    15.700000  "
            ],
            "text/html": [
              "\n",
              "  <div id=\"df-69265f9e-0f7e-4626-9526-1c21eb7c5158\">\n",
              "    <div class=\"colab-df-container\">\n",
              "      <div>\n",
              "<style scoped>\n",
              "    .dataframe tbody tr th:only-of-type {\n",
              "        vertical-align: middle;\n",
              "    }\n",
              "\n",
              "    .dataframe tbody tr th {\n",
              "        vertical-align: top;\n",
              "    }\n",
              "\n",
              "    .dataframe thead th {\n",
              "        text-align: right;\n",
              "    }\n",
              "</style>\n",
              "<table border=\"1\" class=\"dataframe\">\n",
              "  <thead>\n",
              "    <tr style=\"text-align: right;\">\n",
              "      <th></th>\n",
              "      <th>median_income</th>\n",
              "      <th>percent_college</th>\n",
              "      <th>percent_lunch</th>\n",
              "      <th>percent_married</th>\n",
              "      <th>rate_unemployment</th>\n",
              "      <th>school_level</th>\n",
              "      <th>school_type</th>\n",
              "      <th>state</th>\n",
              "      <th>year</th>\n",
              "      <th>zip_code</th>\n",
              "      <th>average_act</th>\n",
              "    </tr>\n",
              "  </thead>\n",
              "  <tbody>\n",
              "    <tr>\n",
              "      <th>7626</th>\n",
              "      <td>48514.0</td>\n",
              "      <td>0.518152</td>\n",
              "      <td>0.253521</td>\n",
              "      <td>0.697964</td>\n",
              "      <td>0.069390</td>\n",
              "      <td>High</td>\n",
              "      <td>Regular School</td>\n",
              "      <td>WI</td>\n",
              "      <td>2016-2017</td>\n",
              "      <td>54112</td>\n",
              "      <td>21.000000</td>\n",
              "    </tr>\n",
              "    <tr>\n",
              "      <th>5436</th>\n",
              "      <td>26012.0</td>\n",
              "      <td>0.548486</td>\n",
              "      <td>0.000000</td>\n",
              "      <td>0.055385</td>\n",
              "      <td>0.072592</td>\n",
              "      <td>High</td>\n",
              "      <td>Regular School</td>\n",
              "      <td>PA</td>\n",
              "      <td>2016-2017</td>\n",
              "      <td>17101</td>\n",
              "      <td>20.665446</td>\n",
              "    </tr>\n",
              "    <tr>\n",
              "      <th>1732</th>\n",
              "      <td>58050.0</td>\n",
              "      <td>0.653129</td>\n",
              "      <td>0.215569</td>\n",
              "      <td>0.834146</td>\n",
              "      <td>0.108871</td>\n",
              "      <td>High</td>\n",
              "      <td>Regular School</td>\n",
              "      <td>IN</td>\n",
              "      <td>2016-2017</td>\n",
              "      <td>46064</td>\n",
              "      <td>21.791209</td>\n",
              "    </tr>\n",
              "    <tr>\n",
              "      <th>3186</th>\n",
              "      <td>55303.0</td>\n",
              "      <td>0.825795</td>\n",
              "      <td>0.923828</td>\n",
              "      <td>1.000000</td>\n",
              "      <td>0.042091</td>\n",
              "      <td>High</td>\n",
              "      <td>Regular School</td>\n",
              "      <td>MO</td>\n",
              "      <td>2016-2017</td>\n",
              "      <td>63103</td>\n",
              "      <td>15.600000</td>\n",
              "    </tr>\n",
              "    <tr>\n",
              "      <th>1913</th>\n",
              "      <td>39814.0</td>\n",
              "      <td>0.618495</td>\n",
              "      <td>0.693817</td>\n",
              "      <td>0.572973</td>\n",
              "      <td>0.110555</td>\n",
              "      <td>High</td>\n",
              "      <td>Regular School</td>\n",
              "      <td>KY</td>\n",
              "      <td>2016-2017</td>\n",
              "      <td>40214</td>\n",
              "      <td>15.700000</td>\n",
              "    </tr>\n",
              "  </tbody>\n",
              "</table>\n",
              "</div>\n",
              "      <button class=\"colab-df-convert\" onclick=\"convertToInteractive('df-69265f9e-0f7e-4626-9526-1c21eb7c5158')\"\n",
              "              title=\"Convert this dataframe to an interactive table.\"\n",
              "              style=\"display:none;\">\n",
              "        \n",
              "  <svg xmlns=\"http://www.w3.org/2000/svg\" height=\"24px\"viewBox=\"0 0 24 24\"\n",
              "       width=\"24px\">\n",
              "    <path d=\"M0 0h24v24H0V0z\" fill=\"none\"/>\n",
              "    <path d=\"M18.56 5.44l.94 2.06.94-2.06 2.06-.94-2.06-.94-.94-2.06-.94 2.06-2.06.94zm-11 1L8.5 8.5l.94-2.06 2.06-.94-2.06-.94L8.5 2.5l-.94 2.06-2.06.94zm10 10l.94 2.06.94-2.06 2.06-.94-2.06-.94-.94-2.06-.94 2.06-2.06.94z\"/><path d=\"M17.41 7.96l-1.37-1.37c-.4-.4-.92-.59-1.43-.59-.52 0-1.04.2-1.43.59L10.3 9.45l-7.72 7.72c-.78.78-.78 2.05 0 2.83L4 21.41c.39.39.9.59 1.41.59.51 0 1.02-.2 1.41-.59l7.78-7.78 2.81-2.81c.8-.78.8-2.07 0-2.86zM5.41 20L4 18.59l7.72-7.72 1.47 1.35L5.41 20z\"/>\n",
              "  </svg>\n",
              "      </button>\n",
              "      \n",
              "  <style>\n",
              "    .colab-df-container {\n",
              "      display:flex;\n",
              "      flex-wrap:wrap;\n",
              "      gap: 12px;\n",
              "    }\n",
              "\n",
              "    .colab-df-convert {\n",
              "      background-color: #E8F0FE;\n",
              "      border: none;\n",
              "      border-radius: 50%;\n",
              "      cursor: pointer;\n",
              "      display: none;\n",
              "      fill: #1967D2;\n",
              "      height: 32px;\n",
              "      padding: 0 0 0 0;\n",
              "      width: 32px;\n",
              "    }\n",
              "\n",
              "    .colab-df-convert:hover {\n",
              "      background-color: #E2EBFA;\n",
              "      box-shadow: 0px 1px 2px rgba(60, 64, 67, 0.3), 0px 1px 3px 1px rgba(60, 64, 67, 0.15);\n",
              "      fill: #174EA6;\n",
              "    }\n",
              "\n",
              "    [theme=dark] .colab-df-convert {\n",
              "      background-color: #3B4455;\n",
              "      fill: #D2E3FC;\n",
              "    }\n",
              "\n",
              "    [theme=dark] .colab-df-convert:hover {\n",
              "      background-color: #434B5C;\n",
              "      box-shadow: 0px 1px 3px 1px rgba(0, 0, 0, 0.15);\n",
              "      filter: drop-shadow(0px 1px 2px rgba(0, 0, 0, 0.3));\n",
              "      fill: #FFFFFF;\n",
              "    }\n",
              "  </style>\n",
              "\n",
              "      <script>\n",
              "        const buttonEl =\n",
              "          document.querySelector('#df-69265f9e-0f7e-4626-9526-1c21eb7c5158 button.colab-df-convert');\n",
              "        buttonEl.style.display =\n",
              "          google.colab.kernel.accessAllowed ? 'block' : 'none';\n",
              "\n",
              "        async function convertToInteractive(key) {\n",
              "          const element = document.querySelector('#df-69265f9e-0f7e-4626-9526-1c21eb7c5158');\n",
              "          const dataTable =\n",
              "            await google.colab.kernel.invokeFunction('convertToInteractive',\n",
              "                                                     [key], {});\n",
              "          if (!dataTable) return;\n",
              "\n",
              "          const docLinkHtml = 'Like what you see? Visit the ' +\n",
              "            '<a target=\"_blank\" href=https://colab.research.google.com/notebooks/data_table.ipynb>data table notebook</a>'\n",
              "            + ' to learn more about interactive tables.';\n",
              "          element.innerHTML = '';\n",
              "          dataTable['output_type'] = 'display_data';\n",
              "          await google.colab.output.renderOutput(dataTable, element);\n",
              "          const docLink = document.createElement('div');\n",
              "          docLink.innerHTML = docLinkHtml;\n",
              "          element.appendChild(docLink);\n",
              "        }\n",
              "      </script>\n",
              "    </div>\n",
              "  </div>\n",
              "  "
            ]
          },
          "metadata": {},
          "execution_count": 241
        }
      ]
    },
    {
      "cell_type": "code",
      "source": [
        "df_train.describe()"
      ],
      "metadata": {
        "colab": {
          "base_uri": "https://localhost:8080/",
          "height": 297
        },
        "id": "q72G1_KjJNEC",
        "outputId": "74313771-cc78-429f-ad86-2e6fbeb76a67"
      },
      "execution_count": 242,
      "outputs": [
        {
          "output_type": "execute_result",
          "data": {
            "text/plain": [
              "       median_income  percent_college  percent_lunch  percent_married  \\\n",
              "count    6386.000000      6386.000000    6386.000000      6386.000000   \n",
              "mean    52081.670430         0.569524       0.421765         0.633034   \n",
              "std     24305.896428         0.166607       0.239766         0.197487   \n",
              "min      2435.408369         0.093122       0.000000         0.000000   \n",
              "25%     36481.000000         0.451024       0.238643         0.524383   \n",
              "50%     46796.000000         0.555995       0.381871         0.666362   \n",
              "75%     61512.000000         0.677627       0.573638         0.777510   \n",
              "max    226181.000000         1.000000       0.998532         1.000000   \n",
              "\n",
              "       rate_unemployment  average_act  \n",
              "count        6386.000000  6386.000000  \n",
              "mean            0.098654    20.200396  \n",
              "std             0.058645     2.555798  \n",
              "min             0.000000    12.500000  \n",
              "25%             0.058884    18.614164  \n",
              "50%             0.085456    20.400000  \n",
              "75%             0.123265    21.935287  \n",
              "max             0.576125    30.946276  "
            ],
            "text/html": [
              "\n",
              "  <div id=\"df-8e12b9b7-dfaa-4ef8-bb98-1b46520fc046\">\n",
              "    <div class=\"colab-df-container\">\n",
              "      <div>\n",
              "<style scoped>\n",
              "    .dataframe tbody tr th:only-of-type {\n",
              "        vertical-align: middle;\n",
              "    }\n",
              "\n",
              "    .dataframe tbody tr th {\n",
              "        vertical-align: top;\n",
              "    }\n",
              "\n",
              "    .dataframe thead th {\n",
              "        text-align: right;\n",
              "    }\n",
              "</style>\n",
              "<table border=\"1\" class=\"dataframe\">\n",
              "  <thead>\n",
              "    <tr style=\"text-align: right;\">\n",
              "      <th></th>\n",
              "      <th>median_income</th>\n",
              "      <th>percent_college</th>\n",
              "      <th>percent_lunch</th>\n",
              "      <th>percent_married</th>\n",
              "      <th>rate_unemployment</th>\n",
              "      <th>average_act</th>\n",
              "    </tr>\n",
              "  </thead>\n",
              "  <tbody>\n",
              "    <tr>\n",
              "      <th>count</th>\n",
              "      <td>6386.000000</td>\n",
              "      <td>6386.000000</td>\n",
              "      <td>6386.000000</td>\n",
              "      <td>6386.000000</td>\n",
              "      <td>6386.000000</td>\n",
              "      <td>6386.000000</td>\n",
              "    </tr>\n",
              "    <tr>\n",
              "      <th>mean</th>\n",
              "      <td>52081.670430</td>\n",
              "      <td>0.569524</td>\n",
              "      <td>0.421765</td>\n",
              "      <td>0.633034</td>\n",
              "      <td>0.098654</td>\n",
              "      <td>20.200396</td>\n",
              "    </tr>\n",
              "    <tr>\n",
              "      <th>std</th>\n",
              "      <td>24305.896428</td>\n",
              "      <td>0.166607</td>\n",
              "      <td>0.239766</td>\n",
              "      <td>0.197487</td>\n",
              "      <td>0.058645</td>\n",
              "      <td>2.555798</td>\n",
              "    </tr>\n",
              "    <tr>\n",
              "      <th>min</th>\n",
              "      <td>2435.408369</td>\n",
              "      <td>0.093122</td>\n",
              "      <td>0.000000</td>\n",
              "      <td>0.000000</td>\n",
              "      <td>0.000000</td>\n",
              "      <td>12.500000</td>\n",
              "    </tr>\n",
              "    <tr>\n",
              "      <th>25%</th>\n",
              "      <td>36481.000000</td>\n",
              "      <td>0.451024</td>\n",
              "      <td>0.238643</td>\n",
              "      <td>0.524383</td>\n",
              "      <td>0.058884</td>\n",
              "      <td>18.614164</td>\n",
              "    </tr>\n",
              "    <tr>\n",
              "      <th>50%</th>\n",
              "      <td>46796.000000</td>\n",
              "      <td>0.555995</td>\n",
              "      <td>0.381871</td>\n",
              "      <td>0.666362</td>\n",
              "      <td>0.085456</td>\n",
              "      <td>20.400000</td>\n",
              "    </tr>\n",
              "    <tr>\n",
              "      <th>75%</th>\n",
              "      <td>61512.000000</td>\n",
              "      <td>0.677627</td>\n",
              "      <td>0.573638</td>\n",
              "      <td>0.777510</td>\n",
              "      <td>0.123265</td>\n",
              "      <td>21.935287</td>\n",
              "    </tr>\n",
              "    <tr>\n",
              "      <th>max</th>\n",
              "      <td>226181.000000</td>\n",
              "      <td>1.000000</td>\n",
              "      <td>0.998532</td>\n",
              "      <td>1.000000</td>\n",
              "      <td>0.576125</td>\n",
              "      <td>30.946276</td>\n",
              "    </tr>\n",
              "  </tbody>\n",
              "</table>\n",
              "</div>\n",
              "      <button class=\"colab-df-convert\" onclick=\"convertToInteractive('df-8e12b9b7-dfaa-4ef8-bb98-1b46520fc046')\"\n",
              "              title=\"Convert this dataframe to an interactive table.\"\n",
              "              style=\"display:none;\">\n",
              "        \n",
              "  <svg xmlns=\"http://www.w3.org/2000/svg\" height=\"24px\"viewBox=\"0 0 24 24\"\n",
              "       width=\"24px\">\n",
              "    <path d=\"M0 0h24v24H0V0z\" fill=\"none\"/>\n",
              "    <path d=\"M18.56 5.44l.94 2.06.94-2.06 2.06-.94-2.06-.94-.94-2.06-.94 2.06-2.06.94zm-11 1L8.5 8.5l.94-2.06 2.06-.94-2.06-.94L8.5 2.5l-.94 2.06-2.06.94zm10 10l.94 2.06.94-2.06 2.06-.94-2.06-.94-.94-2.06-.94 2.06-2.06.94z\"/><path d=\"M17.41 7.96l-1.37-1.37c-.4-.4-.92-.59-1.43-.59-.52 0-1.04.2-1.43.59L10.3 9.45l-7.72 7.72c-.78.78-.78 2.05 0 2.83L4 21.41c.39.39.9.59 1.41.59.51 0 1.02-.2 1.41-.59l7.78-7.78 2.81-2.81c.8-.78.8-2.07 0-2.86zM5.41 20L4 18.59l7.72-7.72 1.47 1.35L5.41 20z\"/>\n",
              "  </svg>\n",
              "      </button>\n",
              "      \n",
              "  <style>\n",
              "    .colab-df-container {\n",
              "      display:flex;\n",
              "      flex-wrap:wrap;\n",
              "      gap: 12px;\n",
              "    }\n",
              "\n",
              "    .colab-df-convert {\n",
              "      background-color: #E8F0FE;\n",
              "      border: none;\n",
              "      border-radius: 50%;\n",
              "      cursor: pointer;\n",
              "      display: none;\n",
              "      fill: #1967D2;\n",
              "      height: 32px;\n",
              "      padding: 0 0 0 0;\n",
              "      width: 32px;\n",
              "    }\n",
              "\n",
              "    .colab-df-convert:hover {\n",
              "      background-color: #E2EBFA;\n",
              "      box-shadow: 0px 1px 2px rgba(60, 64, 67, 0.3), 0px 1px 3px 1px rgba(60, 64, 67, 0.15);\n",
              "      fill: #174EA6;\n",
              "    }\n",
              "\n",
              "    [theme=dark] .colab-df-convert {\n",
              "      background-color: #3B4455;\n",
              "      fill: #D2E3FC;\n",
              "    }\n",
              "\n",
              "    [theme=dark] .colab-df-convert:hover {\n",
              "      background-color: #434B5C;\n",
              "      box-shadow: 0px 1px 3px 1px rgba(0, 0, 0, 0.15);\n",
              "      filter: drop-shadow(0px 1px 2px rgba(0, 0, 0, 0.3));\n",
              "      fill: #FFFFFF;\n",
              "    }\n",
              "  </style>\n",
              "\n",
              "      <script>\n",
              "        const buttonEl =\n",
              "          document.querySelector('#df-8e12b9b7-dfaa-4ef8-bb98-1b46520fc046 button.colab-df-convert');\n",
              "        buttonEl.style.display =\n",
              "          google.colab.kernel.accessAllowed ? 'block' : 'none';\n",
              "\n",
              "        async function convertToInteractive(key) {\n",
              "          const element = document.querySelector('#df-8e12b9b7-dfaa-4ef8-bb98-1b46520fc046');\n",
              "          const dataTable =\n",
              "            await google.colab.kernel.invokeFunction('convertToInteractive',\n",
              "                                                     [key], {});\n",
              "          if (!dataTable) return;\n",
              "\n",
              "          const docLinkHtml = 'Like what you see? Visit the ' +\n",
              "            '<a target=\"_blank\" href=https://colab.research.google.com/notebooks/data_table.ipynb>data table notebook</a>'\n",
              "            + ' to learn more about interactive tables.';\n",
              "          element.innerHTML = '';\n",
              "          dataTable['output_type'] = 'display_data';\n",
              "          await google.colab.output.renderOutput(dataTable, element);\n",
              "          const docLink = document.createElement('div');\n",
              "          docLink.innerHTML = docLinkHtml;\n",
              "          element.appendChild(docLink);\n",
              "        }\n",
              "      </script>\n",
              "    </div>\n",
              "  </div>\n",
              "  "
            ]
          },
          "metadata": {},
          "execution_count": 242
        }
      ]
    },
    {
      "cell_type": "code",
      "source": [
        "df_test = x_test.join(y_test)"
      ],
      "metadata": {
        "id": "R3ZTMta0wc_c"
      },
      "execution_count": 243,
      "outputs": []
    },
    {
      "cell_type": "markdown",
      "source": [
        "## Export the clean .csv files"
      ],
      "metadata": {
        "id": "oKGHtonZsZCM"
      }
    },
    {
      "cell_type": "markdown",
      "source": [
        "Export files with the training and testing data"
      ],
      "metadata": {
        "id": "OESlEp8tk2uD"
      }
    },
    {
      "cell_type": "code",
      "source": [
        "from google.colab import files\n",
        "\n",
        "df_train.to_csv('clean_education_inequality.csv', encoding = 'utf-8-sig', index=False) \n",
        "\n",
        "files.download('clean_education_inequality.csv')"
      ],
      "metadata": {
        "id": "lp0iLYOqKtbQ",
        "colab": {
          "base_uri": "https://localhost:8080/",
          "height": 17
        },
        "outputId": "6366ce04-263f-4018-9630-f93d7e4452fb"
      },
      "execution_count": 245,
      "outputs": [
        {
          "output_type": "display_data",
          "data": {
            "text/plain": [
              "<IPython.core.display.Javascript object>"
            ],
            "application/javascript": [
              "\n",
              "    async function download(id, filename, size) {\n",
              "      if (!google.colab.kernel.accessAllowed) {\n",
              "        return;\n",
              "      }\n",
              "      const div = document.createElement('div');\n",
              "      const label = document.createElement('label');\n",
              "      label.textContent = `Downloading \"${filename}\": `;\n",
              "      div.appendChild(label);\n",
              "      const progress = document.createElement('progress');\n",
              "      progress.max = size;\n",
              "      div.appendChild(progress);\n",
              "      document.body.appendChild(div);\n",
              "\n",
              "      const buffers = [];\n",
              "      let downloaded = 0;\n",
              "\n",
              "      const channel = await google.colab.kernel.comms.open(id);\n",
              "      // Send a message to notify the kernel that we're ready.\n",
              "      channel.send({})\n",
              "\n",
              "      for await (const message of channel.messages) {\n",
              "        // Send a message to notify the kernel that we're ready.\n",
              "        channel.send({})\n",
              "        if (message.buffers) {\n",
              "          for (const buffer of message.buffers) {\n",
              "            buffers.push(buffer);\n",
              "            downloaded += buffer.byteLength;\n",
              "            progress.value = downloaded;\n",
              "          }\n",
              "        }\n",
              "      }\n",
              "      const blob = new Blob(buffers, {type: 'application/binary'});\n",
              "      const a = document.createElement('a');\n",
              "      a.href = window.URL.createObjectURL(blob);\n",
              "      a.download = filename;\n",
              "      div.appendChild(a);\n",
              "      a.click();\n",
              "      div.remove();\n",
              "    }\n",
              "  "
            ]
          },
          "metadata": {}
        },
        {
          "output_type": "display_data",
          "data": {
            "text/plain": [
              "<IPython.core.display.Javascript object>"
            ],
            "application/javascript": [
              "download(\"download_bde660fb-abf8-43dd-9de9-d6f87b152296\", \"clean_education_inequality.csv\", 829429)"
            ]
          },
          "metadata": {}
        }
      ]
    }
  ]
}